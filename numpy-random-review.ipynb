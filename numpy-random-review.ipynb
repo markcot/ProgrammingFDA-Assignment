{
 "cells": [
  {
   "cell_type": "markdown",
   "metadata": {},
   "source": [
    "# <font color='blue'>Programming for Data Analysis - Assignment</font> <img src=\"https://i0.wp.com/www.simplifiedpython.net/wp-content/uploads/2018/11/Python-NumPy-14.png?w=672&ssl=1\" width=\"350\" height=\"350\" align=\"right\"/>\n",
    "\n",
    "- **Course** Higher Diploma in Data Analytics, GMIT, Ireland \n",
    "- **Lecturer** Brian McGinley\n",
    "- **Author** Mark Cotter\n",
    "- **Email** g00376335@gmit.ie\n",
    "- **Dates** October 2019 to November 2019\n",
    "\n",
    "### <font color='blue'>Introduction</font>\n",
    "This document is my jupyter notebook file for the GMIT module 'Programming for Data Analysis' assignment. The assignment includes a review of the numpy.random(**1**) function included in the Python(**2**) library module NumPy(**3**). This jupyter notebook uses the Python programming language to illustrate routines included in this function.\n",
    "\n",
    "### <font color='blue'>Random numbers and seeds</font>\n",
    "Modern computers use randomly generated numbers for a multitude of purposes. Two important properties of a sequence of random numbers(**4**) are independence and uniformity.\n",
    "- Each number must be statistically independent of the previous number i.e. the probability of one number occurring is not dependent on another number\n",
    "- The numbers must have a equal/uniform probability of occurring. i.e. a sample of the numbers should be well distributed in the range\n",
    "\n",
    "Computers can not really generate random numbers(**4**) on their own. They are limited by their programming and follow rules based on various algorithms contained in the programming. Programs can be used to generate what appears to be a random sequence of numbers that are called **pseudo-random** numbers, but these are in fact a pattern with a very long repeat period. No matter how complex an algorithm, if you know what algorithm was used and you know the starting point of the computation, the results can be predicted and repeated. This starting point is referred to as the **seed** number of the algorithm. Seeds can be either a fixed or randomly selected numbers themselves such as using the current time in milliseconds.\n",
    "\n",
    "Sharing of a **pseudo-random seed** is often used for syncing security measures, where the seed number is commonly known by two or more remote pieces of equipment and is unknown to an outside observer. If the starting point of the algorithm is unknown, the outcome of an algorithm pattern can not be easily replicated.\n",
    "\n",
    "Another variation of computer based random numbers generation is called **'true random number generators'**, where the randomness of the number generated is based on a physical source connected to the computer such as background noise or the unpredictable decay of a radioactive source. This type of generator does not require a **seed**.\n",
    "\n",
    "Where large datasets have been gathered, sampling random(**4**) selections of the data can be used to reduce the quantity of data, thereby reducing the processing time for data analysis. Random numbers are also useful in data analysis for simulating data. Simulation(**5**) is often used to verify solutions for mathematical models of natural scientific systems. This allows analysts to make inferences and predictions from the models without having to undertake real experiments. Such experiments are often referred to as _Monte Carlo Methods_ (**6**). **'Pseudo-random number generators'** are more widely used for these experiments as the processes can be repeated after changing some variables and produce comparable results if the **seed** remains constant.\n",
    "\n",
    "### <font color='blue'>Description and purpose of numpy.random</font>\n",
    "\n",
    "#### <font color='blue'>NumPy Python library</font>\n",
    "NumPy(**3**) is a library module for Python. NumPy is an abbreviation of 'Numerical Python' or ‘Numeric Python’ and is generally used for scientific computing and number crunching. The core of NumPy are homogeneous multidimensional array objects referred to as _'ndarray'_. These objects can only contain items of the same type and size, are defined by their shape and are usually of fixed size. NumPy is often used with other Python libraries such as Pandas to overcome some of these limitations.\n",
    "NumPy utilises elements of compiled C and C++ programming code in the background so that operations undertaken on NumPy objects are very efficient, which is very desirable when dealing with large quantities of data.\n",
    "\n",
    "The NumPy library, its related functions such as numpy.random(**1**) and many other libraries are not initially loaded when Python is run and have to be imported into a live Python session."
   ]
  },
  {
   "cell_type": "code",
   "execution_count": 1,
   "metadata": {},
   "outputs": [],
   "source": [
    "# Import NumPy library\n",
    "import numpy as np\n",
    "# Import seaborn library\n",
    "import seaborn as sns"
   ]
  },
  {
   "cell_type": "markdown",
   "metadata": {},
   "source": [
    "#### <font color='blue'>numpy.random purpose</font>\n",
    "Python's NumPy library contains a function called numpy.random(**1**). This function includes various routines for **pseudo random numbers generation**. The **seed** used for the random generator can be randomly generated using a number of methods or can be set to a fixed number using the _numpy.random.seed()_ routine. The fixed seed number method is often used for repeating experiments. The random sequence of numbers generated from numpy.random routines are generally returned as NumPy ndarray objects of the required value type, size and shape. The random number generation routines are divided into four main categories as follows:\n",
    "\n",
    "- Simple random data\n",
    "- Permutations\n",
    "- Distribution\n",
    "- Random generator\n",
    "\n",
    "### <font color='blue'>Simple random data</font>\n",
    "A number of routines included in the numpy.random simple random data category are rand(), randn(), randint(), random(), choice() and bytes(). The following sub-sections explores these routines.\n",
    "\n",
    "#### <font color='blue'>numpy.random.rand()</font>\n",
    "rand() routine from numpy.random(**1**) can take a variable number of arguments or dimensions (d0,d1,...,dn).  \n",
    "When run without an argument <font color='blue'>[1]</font>, it returns a random floating point number in the range 0.0 to 1.0. \n",
    "\n",
    "When the rand() routine is run with one or more positive integer number arguments <font color='blue'>[2]</font>, it returns an numpy ndarray containing random floating point numbers uniformly distributed(**8**) in the range 0.0 and 1.0<font color='blue'>[3]</font>. The numpy.random(**1**) webpage for rand() notes that the range is **[0, 1)** meaning that the generated value range is **(0 =< gen_value < 1)** so 0.0 is a possible number, but 1.0 is not a possible number in the range. The shape and size (number of dimensions) of the ndarray created depends on the number of arguments and their numerical values.\n",
    "\n",
    "\n",
    "Zero value, negative values and floating point values are not acceptable argument values for the rand() routine <font color='blue'>[4]</font>. These generate AttributeError, ValueError and TypeError respectively.\n",
    "\n",
    "<font color='blue'>[1] _No argument_ </font>"
   ]
  },
  {
   "cell_type": "code",
   "execution_count": 2,
   "metadata": {},
   "outputs": [
    {
     "name": "stdout",
     "output_type": "stream",
     "text": [
      "No argument result:\n",
      " 0.497531063502035 <class 'float'>\n"
     ]
    }
   ],
   "source": [
    "# rand() routine with no argument\n",
    "test = np.random.rand()\n",
    "# Display result of test\n",
    "print(\"No argument result:\\n\",\n",
    "      test, type(test))"
   ]
  },
  {
   "cell_type": "markdown",
   "metadata": {},
   "source": [
    "<font color='blue'>[2] _One or more integer arguments_ </font>"
   ]
  },
  {
   "cell_type": "code",
   "execution_count": 3,
   "metadata": {
    "scrolled": true
   },
   "outputs": [
    {
     "name": "stdout",
     "output_type": "stream",
     "text": [
      "One integer argument result:\n",
      " [0.81756295 0.29268184] <class 'numpy.ndarray'> \n",
      "\n",
      "Two integer arguments result:\n",
      " [[0.41370819 0.23147425 0.50431355]\n",
      " [0.15763531 0.82159704 0.01433642]] \n",
      "\n",
      "Three integer arguments result:\n",
      " [[[0.81168769 0.95545184]\n",
      "  [0.91462666 0.69802458]\n",
      "  [0.37646354 0.22396512]]\n",
      "\n",
      " [[0.63466463 0.88512463]\n",
      "  [0.26972458 0.61290111]\n",
      "  [0.79840202 0.77498669]]]\n"
     ]
    }
   ],
   "source": [
    "# rand() routine with one integer argument\n",
    "test = np.random.rand(2)\n",
    "# Display result of test\n",
    "print(\"One integer argument result:\\n\",\n",
    "      test, type(test), \"\\n\")\n",
    "\n",
    "# rand() routine with two integer arguments\n",
    "print(\"Two integer arguments result:\\n\",\n",
    "      np.random.rand(2,3), \"\\n\")\n",
    "\n",
    "# rand() routine with three integer arguments\n",
    "print(\"Three integer arguments result:\\n\",\n",
    "      np.random.rand(2,3,2))"
   ]
  },
  {
   "cell_type": "markdown",
   "metadata": {},
   "source": [
    "<font color='blue'>[3] _Sample range test_ </font>"
   ]
  },
  {
   "cell_type": "code",
   "execution_count": 4,
   "metadata": {},
   "outputs": [
    {
     "name": "stdout",
     "output_type": "stream",
     "text": [
      "Limits of values in 'test' Min: 0.0000022191 and Max: 0.9999524940\n"
     ]
    },
    {
     "data": {
      "image/png": "[encoded data removed]",
      "text/plain": [
       "<Figure size 720x360 with 1 Axes>"
      ]
     },
     "metadata": {},
     "output_type": "display_data"
    }
   ],
   "source": [
    "# Create test 1-d arrary with 100,000 sample values\n",
    "test = np.random.rand(100000)\n",
    "# Print Min and Max value in 'test' to 10 decimal places\n",
    "print(\"Limits of values in 'test' Min: {:,.10f} and Max: {:,.10f}\".format(\n",
    "    test.min(), test.max()))\n",
    "# Plot distribution of values in test\n",
    "# Set seaborn plot size. Code adapted from https://stackoverflow.com/a/47955814\n",
    "sns.set(rc={'figure.figsize':(10,5)})\n",
    "# Display plot\n",
    "# Code adapted from https://seaborn.pydata.org/tutorial/distributions.html\n",
    "plot = sns.distplot(test);"
   ]
  },
  {
   "cell_type": "markdown",
   "metadata": {},
   "source": [
    "<font color='blue'>[4] _Argument errors_ </font>"
   ]
  },
  {
   "cell_type": "code",
   "execution_count": 5,
   "metadata": {},
   "outputs": [],
   "source": [
    "# rand() routine with a zero value argument\n",
    "#print(np.random.rand(0)) # without comment generates AttributeError\n",
    "\n",
    "# rand() routine with negative value argument\n",
    "#print(np.random.rand(-2)) # without comment generates ValueError\n",
    "\n",
    "# rand() routine with one floating point number argument\n",
    "#print(np.random.rand(2.2)) # without comment generates TypeError"
   ]
  },
  {
   "cell_type": "markdown",
   "metadata": {},
   "source": [
    "#### <font color='blue'>numpy.random.randn()</font>\n",
    "randn() routine from numpy.random(**1**) can take a variable number of arguments or dimensions (d0,d1,...,dn).  \n",
    "When run without an argument <font color='blue'>[1]</font>, it returns a random floating point number that can be positive or negative.\n",
    "\n",
    "When the randn() routine is run with one or more positive integer number arguments <font color='blue'>[2]</font>, it returns an numpy ndarray containing random positive or negative floating point numbers. The shape and size (number of dimensions) of the ndarray created depends on number of arguments and their numerical values. If a zero value argument is given the routine returns an empty ndarray. Otherwise, the values of the floating point numbers generated are sampled from the normal or bell curve distribution <font color='blue'>[3]</font> for which the mean and most common value is centred on zero and the distribution has a standard deviation of approximately 1.0. The frequency of values left and right of the mean reduce exponentially to nothing giving a bell like shape to the distribution curve. The bell curve is a distribution that regularly occurs in nature and is often used to model natural systems (**8**).\n",
    "\n",
    "Negative values and floating point values are not acceptable argument values for the randn() routine <font color='blue'>[4]</font>. These generate ValueError and TypeError respectively.\n",
    "\n",
    "<font color='blue'>[1] _No arguments_ </font>"
   ]
  },
  {
   "cell_type": "code",
   "execution_count": 6,
   "metadata": {},
   "outputs": [
    {
     "name": "stdout",
     "output_type": "stream",
     "text": [
      "No argument result:\n",
      " 0.5129476080060045 <class 'float'>\n"
     ]
    }
   ],
   "source": [
    "# randn() routine without an argument\n",
    "test = np.random.randn()\n",
    "# Display result of test\n",
    "print(\"No argument result:\\n\",\n",
    "      test, type(test))"
   ]
  },
  {
   "cell_type": "markdown",
   "metadata": {},
   "source": [
    "<font color='blue'>[2] _One or more arguments_ </font>"
   ]
  },
  {
   "cell_type": "code",
   "execution_count": 7,
   "metadata": {},
   "outputs": [
    {
     "name": "stdout",
     "output_type": "stream",
     "text": [
      "One integer argument result:\n",
      " [-0.60098291  1.78423884] <class 'numpy.ndarray'> \n",
      "\n",
      "Zero value argument result:\n",
      " [] <class 'numpy.ndarray'> \n",
      "\n",
      "Two integer arguments result:\n",
      " [[ 0.2567748  -0.23317552  0.3677261 ]\n",
      " [ 0.23892271 -2.21218935 -0.01364438]] \n",
      "\n",
      "Three integer arguments result:\n",
      " [[[-0.50179586  1.69217004]\n",
      "  [ 1.3039945  -1.36732716]\n",
      "  [ 1.20749808 -0.6226793 ]]\n",
      "\n",
      " [[-2.00988364 -0.0158755 ]\n",
      "  [ 0.41170452 -1.82967776]\n",
      "  [-0.7148605   0.13235434]]]\n"
     ]
    }
   ],
   "source": [
    "# randn() routine without an argument\n",
    "test = np.random.randn(2)\n",
    "# Display result of test\n",
    "print(\"One integer argument result:\\n\",\n",
    "      test, type(test), \"\\n\")\n",
    "\n",
    "# randn() routine with a zero value argument\n",
    "test = np.random.randn(0)\n",
    "# Display result of test\n",
    "print(\"Zero value argument result:\\n\",\n",
    "      test, type(test), \"\\n\")\n",
    "\n",
    "# randn() routine with two integer arguments\n",
    "print(\"Two integer arguments result:\\n\",\n",
    "      np.random.randn(2, 3), \"\\n\")\n",
    "\n",
    "# randn() routine with three integer arguments\n",
    "print(\"Three integer arguments result:\\n\",\n",
    "      np.random.randn(2, 3, 2))"
   ]
  },
  {
   "cell_type": "markdown",
   "metadata": {},
   "source": [
    "<font color='blue'>[3] _Sample range test_ </font>"
   ]
  },
  {
   "cell_type": "code",
   "execution_count": 8,
   "metadata": {},
   "outputs": [
    {
     "name": "stdout",
     "output_type": "stream",
     "text": [
      "Limits of values in 'test' Min: -4.3776652994 and Max: 4.6286309406\n",
      "The standard deviation of the 'test' values is: 1.001248845605984\n"
     ]
    },
    {
     "data": {
      "image/png": "[encoded data removed]",
      "text/plain": [
       "<Figure size 720x360 with 1 Axes>"
      ]
     },
     "metadata": {},
     "output_type": "display_data"
    }
   ],
   "source": [
    "# Create test 1-d arrary with 100,000 values\n",
    "test = np.random.randn(100000)\n",
    "# Print Min and Max value in 'test' to 10 decimal places\n",
    "print(\"Limits of values in 'test' Min: {:,.10f} and Max: {:,.10f}\".format(\n",
    "    test.min(), test.max()))\n",
    "\n",
    "# Print Standard deviation of test\n",
    "# Standard deviation of 1 reference from 'Python for Data Analysis' by Wes McKinney\n",
    "print(\"The standard deviation of the 'test' values is:\",test.std())\n",
    "\n",
    "# Plot distribution of values in test\n",
    "plot = sns.distplot(test);"
   ]
  },
  {
   "cell_type": "markdown",
   "metadata": {},
   "source": [
    "<font color='blue'>[4] _Argument errors_ </font>"
   ]
  },
  {
   "cell_type": "code",
   "execution_count": 9,
   "metadata": {},
   "outputs": [],
   "source": [
    "# randn() routine with negative value argument\n",
    "#print(np.random.randn(-2)) # without comment generates ValueError\n",
    "\n",
    "# randn() routine with one floating point number argument\n",
    "#print(np.random.randn(2.2)) # without comment generates TypeError"
   ]
  },
  {
   "cell_type": "markdown",
   "metadata": {},
   "source": [
    "#### <font color='blue'>numpy.random.randint()</font>\n",
    "randint() routine from numpy.random(**1**) can take a variable number of arguments (low, high=None, size=None, dtype='l'). randint() requires at least one positive number argument <font color='blue'>[1]</font>. Using no argument values generates a TypeError and a negative number generates a ValueError.\n",
    "\n",
    "When one positive number (integer or float) argument is used <font color='blue'>[2]</font>, randint() generates a random integer value in the range (**0 =< gen_value > arugment_value**). The generated number value can be zero but excludes the argument_value number. If the argument_value number is a float, the routine first rounds the float number down to an integer value, basically dropping the fractional part of the number.\n",
    "\n",
    "Using two positive number (integer or float) arguments <font color='blue'>[3]</font>, the first argument is taken at a low_value and the second is taken as a high_value. randint() generates a random integer value in the range (**low_value =< gen_value > high_value**). The generated number value can be the low_value number but excludes the high_value number. For clarity of reading code the labels **low=** and **high=** can be used within the braces to identify which numbers are the low and high value<font color='blue'>[3]</font>.\n",
    "\n",
    "Adding a third positive number argument creates an NumPy ndarray <font color='blue'>[4]</font>, the size of which is determined by the value of the third argument. If the third argument is given two or more numbers separated by commas, this expands the dimensional size of the ndarrary generated.\n",
    "The first two arguments determine the low and high range of the numbers generated. For clarity of reading code the labels **low=**, **high=** and **size=** can be used within the braces to indicate which argument each relates to. Alternatively with the **size=** label included and the **high=** label omitted the ndarray values generated is between 0 and the **low=** label value. The numbers generated for populating the ndarray will always be less than the upper value of either zero to low or low to high ranges.\n",
    "\n",
    "An optional argument can be used to the change the desired returned integer types from the default short 32 bit integers to longer 64 bit integers using the **dtype=\"int64\"** argument within the routine braces <font color='blue'>[5]</font>.\n",
    "\n",
    "The values of the integer numbers generated in the ndarray are uniformly distributed(**8**) between the lower value and upper value numbers <font color='blue'>[6]</font>.\n",
    "\n",
    "<font color='blue'>[1] _No or negative arguments_ </font>"
   ]
  },
  {
   "cell_type": "code",
   "execution_count": 10,
   "metadata": {},
   "outputs": [],
   "source": [
    "# randint() routine without an argument\n",
    "#print(np.random.randint()) # without comment generates TypeError\n",
    "\n",
    "# randint() routine with negative argument\n",
    "#print(np.random.randint(-1)) # without comment generates ValueError"
   ]
  },
  {
   "cell_type": "markdown",
   "metadata": {},
   "source": [
    "<font color='blue'>[2] _One positive number argument_ </font>"
   ]
  },
  {
   "cell_type": "code",
   "execution_count": 11,
   "metadata": {},
   "outputs": [
    {
     "name": "stdout",
     "output_type": "stream",
     "text": [
      "One integer argument result:\n",
      " 3 <class 'int'> \n",
      "\n",
      "One float argument result:\n",
      " 0 <class 'int'>\n"
     ]
    }
   ],
   "source": [
    "# randint() routine with one integer argument\n",
    "print(\"One integer argument result:\\n\", np.random.randint(10),\n",
    "      type(np.random.randint(10)), \"\\n\")\n",
    "\n",
    "# randint() routine with one float point number argument\n",
    "print(\"One float argument result:\\n\", np.random.randint(1.5),\n",
    "      type(np.random.randint(1.5))) # Only generates number 0\n",
    "                                    # as 1 is set to upper limit"
   ]
  },
  {
   "cell_type": "markdown",
   "metadata": {},
   "source": [
    "<font color='blue'>[3] _Low and high number arguments_ </font>"
   ]
  },
  {
   "cell_type": "code",
   "execution_count": 12,
   "metadata": {},
   "outputs": [
    {
     "name": "stdout",
     "output_type": "stream",
     "text": [
      "Two integer arguments result:\n",
      " 18 <class 'int'> \n",
      "\n",
      "Two float arguments result:\n",
      " 10 \n",
      "\n",
      "Low and high labels result:\n",
      " 14\n"
     ]
    }
   ],
   "source": [
    "# randint() routine with two integer arguments\n",
    "test = np.random.randint(10, 20)\n",
    "# Print result of test\n",
    "print(\"Two integer arguments result:\\n\", test,\n",
    "      type(test), \"\\n\")\n",
    "\n",
    "# randint() routine with two float arguments\n",
    "print(\"Two float arguments result:\\n\",\n",
    "      np.random.randint(10.5, 11.5), \"\\n\") # Only generates number 10,\n",
    "                                           # as 11 is set to upper limit\n",
    "                                           # and 10 to lower limit\n",
    "\n",
    "# randint() routine with low and high labels\n",
    "print(\"Low and high labels result:\\n\",\n",
    "      np.random.randint(low=10, high=20))"
   ]
  },
  {
   "cell_type": "markdown",
   "metadata": {},
   "source": [
    "<font color='blue'>[4] _Size number argument_ </font>"
   ]
  },
  {
   "cell_type": "code",
   "execution_count": 13,
   "metadata": {},
   "outputs": [
    {
     "name": "stdout",
     "output_type": "stream",
     "text": [
      "Three integer arguments result:\n",
      " [14 11 10 12 13 14 11 13 14 12 14 12 14 12 11 14 11 13 13 13] \n",
      " The size of <class 'numpy.ndarray'> is 20 \n",
      "\n",
      "Low high and size argument labels result:\n",
      " [[12 13 14]\n",
      " [10 14 14]] \n",
      " The size of <class 'numpy.ndarray'> is 6 \n",
      "\n",
      "Low and size argument labels result:\n",
      " [[[5 8 9 1 8]\n",
      "  [2 8 0 7 5]\n",
      "  [2 8 6 2 7]\n",
      "  [2 1 6 0 7]]\n",
      "\n",
      " [[7 7 4 6 2]\n",
      "  [9 9 1 2 5]\n",
      "  [9 4 6 6 7]\n",
      "  [3 1 4 5 0]]\n",
      "\n",
      " [[7 6 4 4 8]\n",
      "  [9 9 4 6 3]\n",
      "  [8 1 7 4 5]\n",
      "  [8 0 5 2 1]]] \n",
      " The size of <class 'numpy.ndarray'> is 60\n"
     ]
    }
   ],
   "source": [
    "# randint() routine with three arguments\n",
    "test = np.random.randint(10, 15 ,20)\n",
    "# Print result of test\n",
    "print(\"Three integer arguments result:\\n\", test, \"\\n\",\n",
    "      \"The size of\", type(test), \"is\", np.size(test), \"\\n\")\n",
    "\n",
    "# randint() routine with low, high and size argument labels\n",
    "test = np.random.randint(low=10, high=15 , size=(2, 3))\n",
    "# Print result of test\n",
    "print(\"Low high and size argument labels result:\\n\", test, \"\\n\",\n",
    "      \"The size of\", type(test), \"is\", np.size(test), \"\\n\")\n",
    "\n",
    "# randint() routine with low and size argument labels\n",
    "test = np.random.randint(low=10, size=(3, 4, 5))\n",
    "# Print result of test\n",
    "print(\"Low and size argument labels result:\\n\", test, \"\\n\",\n",
    "      \"The size of\", type(test), \"is\", np.size(test))"
   ]
  },
  {
   "cell_type": "markdown",
   "metadata": {},
   "source": [
    "<font color='blue'>[5] _Desired type_ </font>"
   ]
  },
  {
   "cell_type": "code",
   "execution_count": 14,
   "metadata": {},
   "outputs": [
    {
     "name": "stdout",
     "output_type": "stream",
     "text": [
      "Default desire type result:\n",
      " [6 0 5 8 5] \n",
      " Default desire type is: <class 'numpy.int32'> \n",
      "\n",
      "Desire type int32 result:\n",
      " [2 8 5 4 4] \n",
      " Dtype=int32 desire type is: <class 'numpy.int32'> \n",
      "\n",
      "Desire type int64 result:\n",
      " [7 6 5 2 1] \n",
      " Dtype=int64 desire type is: <class 'numpy.int64'>\n"
     ]
    }
   ],
   "source": [
    "# randint() routine with desired 32 bit integer output\n",
    "test = np.random.randint(10, size=5)\n",
    "# Print result of test\n",
    "# Data type test adapted from https://scikit-learn.org/stable/tutorial/basic/tutorial.html\n",
    "print(\"Default desire type result:\\n\", test, \"\\n\",\n",
    "      \"Default desire type is:\", type(test[0]), \"\\n\")\n",
    "\n",
    "# randint() routine with desired 32 bit integer output\n",
    "test = np.random.randint(10, size=5, dtype='int32')\n",
    "# Print result of test\n",
    "print(\"Desire type int32 result:\\n\", test, \"\\n\",\n",
    "      \"Dtype=int32 desire type is:\", type(test[0]), \"\\n\")\n",
    "\n",
    "# randint() routine with desired 64 bit integer output\n",
    "test = np.random.randint(10, size=5, dtype='int64')\n",
    "# Print result of test\n",
    "print(\"Desire type int64 result:\\n\", test, \"\\n\",\n",
    "      \"Dtype=int64 desire type is:\", type(test[0]))"
   ]
  },
  {
   "cell_type": "markdown",
   "metadata": {},
   "source": [
    "<font color='blue'>[6] _Sample range test_ </font>"
   ]
  },
  {
   "cell_type": "code",
   "execution_count": 15,
   "metadata": {
    "scrolled": true
   },
   "outputs": [
    {
     "name": "stdout",
     "output_type": "stream",
     "text": [
      "Limits of values in 'test' Min: 0 and Max: 999\n"
     ]
    },
    {
     "data": {
      "image/png": "[encoded data removed]",
      "text/plain": [
       "<Figure size 720x360 with 1 Axes>"
      ]
     },
     "metadata": {},
     "output_type": "display_data"
    }
   ],
   "source": [
    "# Create test 1-d arrary with 100,000 values between 0 and <1000\n",
    "test = np.random.randint(1000, size=100000)\n",
    "# Print Min and Max value in 'test'\n",
    "print(\"Limits of values in 'test' Min: {} and Max: {}\".format(\n",
    "    test.min(), test.max()))\n",
    "# Plot distribution of values in test\n",
    "plot = sns.distplot(test);"
   ]
  },
  {
   "cell_type": "markdown",
   "metadata": {},
   "source": [
    "#### <font color='blue'>numpy.random.random()</font>\n",
    "random() routine from numpy.random(**1**) can take one argument or None.\n",
    "When run without an argument <font color='blue'>[1]</font>, it returns a random floating point number in the range 0.0 to 1.0.\n",
    "\n",
    "When the random() routine is run with a positive integer number argument <font color='blue'>[2]</font>, it returns a one dimensional NumPy ndarray containing random floating point numbers. The values of the floating point numbers generated are uniformly distributed(**8**) between 0.0 and 1.0 <font color='blue'>[3]</font>.\n",
    "The numpy.random(**1**) webpage for random() notes that the range is **[0, 1)** meaning that the value range is **(0 =< value < 1)** allowing 0.0 as possible number, but 1.0 is not a possible number in the range.\n",
    "A zero value argument returns an empty ndarray.\n",
    "\n",
    "More than one argument, floating point values and negative values are not acceptable argument values for the random() routine <font color='blue'>[4]</font>. These generate TypeError, TypeError and ValueError respectively.\n",
    "\n",
    "<font color='blue'>[1] _No arguments_ </font>"
   ]
  },
  {
   "cell_type": "code",
   "execution_count": 16,
   "metadata": {},
   "outputs": [
    {
     "name": "stdout",
     "output_type": "stream",
     "text": [
      "No argument result:\n",
      " 0.16826520776257026 <class 'float'>\n"
     ]
    }
   ],
   "source": [
    "# random() routine without an argument\n",
    "test = np.random.random()\n",
    "# Display result of test\n",
    "print(\"No argument result:\\n\",\n",
    "     test, type(test))"
   ]
  },
  {
   "cell_type": "markdown",
   "metadata": {},
   "source": [
    "<font color='blue'>[2] _One positive integer argument_ </font>"
   ]
  },
  {
   "cell_type": "code",
   "execution_count": 17,
   "metadata": {},
   "outputs": [
    {
     "name": "stdout",
     "output_type": "stream",
     "text": [
      "One non-zero postive argument result:\n",
      " [0.08043479 0.5861475  0.27296785 0.69690083 0.54312691] <class 'numpy.ndarray'> \n",
      "\n",
      "Zero value argument result:\n",
      " [] <class 'numpy.ndarray'>\n"
     ]
    }
   ],
   "source": [
    "# random() routine one argument\n",
    "test = np.random.random(5)\n",
    "# Display result of test\n",
    "print(\"One non-zero postive argument result:\\n\",\n",
    "     test, type(test), \"\\n\")\n",
    "\n",
    "# random() routine with a zero value argument\n",
    "test = np.random.random(0)\n",
    "# Display result of test\n",
    "print(\"Zero value argument result:\\n\",\n",
    "     test, type(test))"
   ]
  },
  {
   "cell_type": "markdown",
   "metadata": {},
   "source": [
    "<font color='blue'>[3] _Sample range test_ </font>"
   ]
  },
  {
   "cell_type": "code",
   "execution_count": 18,
   "metadata": {
    "scrolled": true
   },
   "outputs": [
    {
     "name": "stdout",
     "output_type": "stream",
     "text": [
      "Limits of values in 'test' Min: 0.0000199907 and Max: 0.9999981859\n"
     ]
    },
    {
     "data": {
      "image/png": "[encoded data removed]",
      "text/plain": [
       "<Figure size 720x360 with 1 Axes>"
      ]
     },
     "metadata": {},
     "output_type": "display_data"
    }
   ],
   "source": [
    "# Create test 1-d arrary with 100,000 values\n",
    "test = np.random.random(100000)\n",
    "# Print Min and Max value in 'test' to 10 decimal places\n",
    "print(\"Limits of values in 'test' Min: {:,.10f} and Max: {:,.10f}\".format(\n",
    "    test.min(), test.max()))\n",
    "# Plot distribution of values in test\n",
    "plot = sns.distplot(test);"
   ]
  },
  {
   "cell_type": "markdown",
   "metadata": {},
   "source": [
    "<font color='blue'>[4] _Argument errors_ </font>"
   ]
  },
  {
   "cell_type": "code",
   "execution_count": 19,
   "metadata": {},
   "outputs": [],
   "source": [
    "# random() routine with two or more argument\n",
    "# print(np.random.random(2, 3)) # without comment generates TypeError\n",
    "\n",
    "# random() routine with one floating point number argument\n",
    "#print(np.random.random(2.2)) # without comment generates TypeError\n",
    "\n",
    "# random() routine with negative value argument\n",
    "#print(np.random.random(-2)) # without comment generates ValueError"
   ]
  },
  {
   "cell_type": "markdown",
   "metadata": {},
   "source": [
    "#### <font color='blue'>numpy.random.choice()</font>\n",
    "choice() routine from numpy.random(**1**) can take a number of arguments (a, size=None, replace=True, p=None), but needs at least one argument. Using no argument values, floating point number or a negative number generates a TypeError, a TypeError and a ValueError respectively<font color='blue'>[1]</font>.\n",
    "\n",
    "The first argument can be either a positive non-zero integer or an array of strings<font color='blue'>[2]</font>. The label **a=** can be used to identify this argument. If the first argument is an integer, the routine returns a random number in the range **0 =< gen_value > a**. If the first argument is an array of strings, the routine returns a random string from the array.\n",
    "\n",
    "Adding a second positive number argument creates an NumPy ndarray <font color='blue'>[3]</font>, the size of which is determined by the value of the second argument. If the second argument is given two or more numbers separated by commas, this expands the dimensions of the ndarrary generated. For clarity of reading code the label **size=** can be used within the braces to indicate which argument this argument relates to. A zero size argument results in an empty ndarrary. The size argument can not take a negative or floating point number, which generate ValueError and TypeError respectively.\n",
    "\n",
    "The **replace** is optional argument that can be either **True** or **False**. By default it is set to True. If set to False, after each new integer to string randomly selected from the 'a' argument (integer range or array of strings) the selected value is no longer available for the remaining selections <font color='blue'>[4]</font>. For example if the range of 'a' is set to 30 numbers (0 to 29), the size of the ndarray is 30 and replace=False, all 30 numbers will be eventually selected for the populating the ndarray. If the replace option is set to False, the size of the ndarray has to be less than or equal to the range of 'a', otherwise the choice runs out of elements to select and generates a ValueError.\n",
    "\n",
    "The **p** argument is another optional argument that can be used to alter the probability of each element in 'a'. By default the probability of each element is uniform. If variable probabilities is used, the number/size/shape of the various probabilities **p** must equal the number/size/shape of elements in **a** and the sum of the probabilities in **p** must equal 1.0, otherwise a ValueError is generated. Using this method each element in 'a' argument can be given a high, low or no chance of being selected depending on the value of the equivalent position in the 'p' argument.\n",
    "\n",
    "<font color='blue'>[1] _Argument errors_ </font>"
   ]
  },
  {
   "cell_type": "code",
   "execution_count": 20,
   "metadata": {},
   "outputs": [],
   "source": [
    "# choice() routine with no argument\n",
    "#print(np.random.choice()) # without comment generates TypeError\n",
    "\n",
    "# choice() routine with zero number argument\n",
    "#print(np.random.choice(0)) # without comment generates TypeError\n",
    "\n",
    "# choice() routine with float point number argument\n",
    "#print(np.random.choice(5.5)) # without comment generates TypeError\n",
    "\n",
    "# choice() routine with negative argument\n",
    "#print(np.random.choice(-1)) # without comment generates ValueError"
   ]
  },
  {
   "cell_type": "markdown",
   "metadata": {},
   "source": [
    "<font color='blue'>[2] _First argument_ </font>"
   ]
  },
  {
   "cell_type": "code",
   "execution_count": 21,
   "metadata": {},
   "outputs": [
    {
     "name": "stdout",
     "output_type": "stream",
     "text": [
      "One integer argument result:\n",
      " 0 <class 'int'> \n",
      "\n",
      "String argument result:\n",
      " a <class 'numpy.str_'>\n"
     ]
    }
   ],
   "source": [
    "# choice() routine with one postive integer argument\n",
    "test = np.random.choice(5)\n",
    "# Display result of test\n",
    "print(\"One integer argument result:\\n\",\n",
    "     test, type(test),\"\\n\")\n",
    "\n",
    "# choice() routine with one array of string argument\n",
    "# Code adapted from\n",
    "# https://docs.scipy.org/doc/numpy-1.16.0/reference/generated/numpy.random.choice.html#numpy.random.choice\n",
    "test = np.random.choice(a = [\"a\", \"b\", \"c\", \"d\", \"e\"])\n",
    "# Display result of test\n",
    "print(\"String argument result:\\n\",\n",
    "     test, type(test))"
   ]
  },
  {
   "cell_type": "markdown",
   "metadata": {},
   "source": [
    "<font color='blue'>[3] _Size argument_ </font>"
   ]
  },
  {
   "cell_type": "code",
   "execution_count": 22,
   "metadata": {},
   "outputs": [
    {
     "name": "stdout",
     "output_type": "stream",
     "text": [
      "Two postive integer argument result:\n",
      " [1 3 3] <class 'numpy.ndarray'> \n",
      "\n",
      "Zero size argument result:\n",
      " [] <class 'numpy.ndarray'> \n",
      "\n",
      "String and size argument result:\n",
      " [['a' 'a' 'a']\n",
      " ['b' 'e' 'd']] <class 'numpy.ndarray'>\n"
     ]
    }
   ],
   "source": [
    "# choice() routine with two postive integer argument\n",
    "test = np.random.choice(5, 3)\n",
    "# Display result of test\n",
    "print(\"Two postive integer argument result:\\n\",\n",
    "     test, type(test),\"\\n\")\n",
    "\n",
    "# choice() routine with a=integer and size=0 arguments\n",
    "test = np.random.choice(5, 0)\n",
    "# Display result of test\n",
    "print(\"Zero size argument result:\\n\",\n",
    "     test, type(test),\"\\n\")\n",
    "\n",
    "# choice() routine with negative size argument\n",
    "#print(np.random.choice(5, -1)) # without comment generates ValueError\n",
    "\n",
    "# choice() routine with floating point size argument\n",
    "#print(np.random.choice(5, 2.5)) # without comment generates TypeError\n",
    "\n",
    "# choice() routine with a string and size argument\n",
    "test = np.random.choice(a = [\"a\", \"b\", \"c\", \"d\", \"e\"], size = (2, 3))\n",
    "# Display result of test\n",
    "print(\"String and size argument result:\\n\",\n",
    "     test, type(test))"
   ]
  },
  {
   "cell_type": "markdown",
   "metadata": {},
   "source": [
    "<font color='blue'>[4] _Replace argument_ </font>"
   ]
  },
  {
   "cell_type": "code",
   "execution_count": 23,
   "metadata": {
    "scrolled": true
   },
   "outputs": [
    {
     "name": "stdout",
     "output_type": "stream",
     "text": [
      "Replace=True argument result:\n",
      " [ 6  5  5 18  4 21 11 17  1 19 26 18 23  1  9 16 15  0  4 27  8 25 17 16\n",
      " 20 25 23  4 16 12] <class 'numpy.ndarray'> \n",
      "\n",
      "Sorted replace=True argument result:\n",
      " [ 0  1  1  4  4  4  5  5  6  8  9 11 12 15 16 16 16 17 17 18 18 19 20 21\n",
      " 23 23 25 25 26 27] \n",
      "\n",
      "Replace=False argument result:\n",
      " [10 22 15 27 17 16  8 18 21 20 26  3 12 11  6 23 29 19  5  4 13  7  0  2\n",
      "  1 14  9 28 24 25] <class 'numpy.ndarray'> \n",
      "\n",
      "Sorted replace=False argument result:\n",
      " [ 0  1  2  3  4  5  6  7  8  9 10 11 12 13 14 15 16 17 18 19 20 21 22 23\n",
      " 24 25 26 27 28 29] \n",
      "\n",
      "Replace=True 'size' > 'a' argument result:\n",
      " [2 2 3 4 5 6 9 4 3 3 4 5 5 4 0 9 6 6 0 7 1 2 8 4 3 2 2 1 3 1]\n"
     ]
    }
   ],
   "source": [
    "# choice() routine with replace=True size =< a\n",
    "test = np.random.choice(30, size=30, replace=True)\n",
    "# Display result of test\n",
    "print(\"Replace=True argument result:\\n\",\n",
    "     test, type(test),\"\\n\")\n",
    "# Display sort results of test\n",
    "print(\"Sorted replace=True argument result:\\n\",\n",
    "     np.sort(test),\"\\n\")\n",
    "\n",
    "# choice() routine with replace=False size =< a\n",
    "test = np.random.choice(30, size=30, replace=False)\n",
    "# Display result of test\n",
    "print(\"Replace=False argument result:\\n\",\n",
    "     test, type(test),\"\\n\")\n",
    "# Display sort results of test\n",
    "print(\"Sorted replace=False argument result:\\n\",\n",
    "     np.sort(test),\"\\n\")\n",
    "\n",
    "# choice() routine with replace=False size > a\n",
    "test = np.random.choice(a=10, size=30, replace=True)\n",
    "# Display sort results of test\n",
    "print(\"Replace=True 'size' > 'a' argument result:\\n\",\n",
    "     (test))\n",
    "\n",
    "# choice() routine with replace=False size > a\n",
    "#np.random.choice(a=10, size=30, replace=False) # without comment generates ValueError 'size'<'a'"
   ]
  },
  {
   "cell_type": "markdown",
   "metadata": {},
   "source": [
    "<font color='blue'>[5] _Probability argument_ </font>"
   ]
  },
  {
   "cell_type": "code",
   "execution_count": 24,
   "metadata": {},
   "outputs": [
    {
     "data": {
      "text/plain": [
       "array([0, 0, 0, 0, 2, 1, 0, 1, 0, 1, 0, 0, 1, 2, 0, 0, 0, 0, 0, 2, 2, 0,\n",
       "       2, 2, 2, 1, 2, 0, 1, 0], dtype=int64)"
      ]
     },
     "execution_count": 24,
     "metadata": {},
     "output_type": "execute_result"
    }
   ],
   "source": [
    "# choice() routine with size ('p' != size 'a')\n",
    "#np.random.choice(a=10, size=30, p=[0.5, 0.1, 0.0, 0.4]) # without comment\n",
    "                        # generates ValueError 'a' & 'p' must be same size\n",
    "\n",
    "# choice() routine with sum of ('p' != 1.0)\n",
    "#np.random.choice(a=4, size=30, p=[0.5, 0.3, 0.1, 0.0]) # without comment\n",
    "                            # generates ValueError sum of 'p' must = 1.0\n",
    "\n",
    "# choice() routine with size ('p' = size 'a') & (sum of 'p' != 1.0)\n",
    "np.random.choice(a=4, size=30, p=[0.5, 0.3, 0.2, 0.0])"
   ]
  },
  {
   "cell_type": "markdown",
   "metadata": {},
   "source": [
    "#### <font color='blue'>numpy.random.bytes()</font>\n",
    "\n",
    "bytes() routine from numpy.random(**1**) can take exactly one number argument<font color='blue'>[1]</font> and generates a random string of bytes, the length of which depends on the value of the number argument.\n",
    "If the argument is a float the fractional part of the number is dropped and the number is converted to an integer.\n",
    "\n",
    "The bytes() routine can not be run with no argument, multiple arguments or with a negative argument as these generate TypeError or SystemError.\n",
    "\n",
    "<font color='blue'>[1] _One number argument_ </font>"
   ]
  },
  {
   "cell_type": "code",
   "execution_count": 25,
   "metadata": {},
   "outputs": [
    {
     "name": "stdout",
     "output_type": "stream",
     "text": [
      "One argument result:  b'\\xf9S\\x9f\\x04[' <class 'bytes'> of length 5 \n",
      "\n",
      "One argument result:  b'S\\x0cU!|' <class 'bytes'> of length 5 \n",
      "\n"
     ]
    }
   ],
   "source": [
    "# bytes() routine with one integer argument\n",
    "test = np.random.bytes(5)\n",
    "# Display result of test\n",
    "print(\"One argument result: \", test, type(test), \"of length\", len(test),\"\\n\")\n",
    "\n",
    "# bytes() routine with one float argument\n",
    "test = np.random.bytes(5.5)\n",
    "# Display result of test\n",
    "print(\"One argument result: \", test, type(test), \"of length\", len(test),\"\\n\")"
   ]
  },
  {
   "cell_type": "markdown",
   "metadata": {},
   "source": [
    "<font color='blue'>[2] _Argument errors_ </font>"
   ]
  },
  {
   "cell_type": "code",
   "execution_count": 26,
   "metadata": {},
   "outputs": [],
   "source": [
    "# bytes() routine with No argument\n",
    "#np.random.bytes() # without comment generates TypeError & notes bytes() takes exactly one argument\n",
    "\n",
    "# bytes() routine with negative argument\n",
    "#np.random.bytes(-1) # without comment generates SystemError"
   ]
  },
  {
   "cell_type": "markdown",
   "metadata": {},
   "source": [
    "### <font color='blue'>Permutations</font>\n"
   ]
  },
  {
   "cell_type": "markdown",
   "metadata": {},
   "source": [
    "The permutations category of numpy.random include two routine called shuffle() and permutation(), which are explored in the following sub-sections.\n",
    "\n",
    "#### <font color='blue'>numpy.random.shuffle()</font>\n",
    "shuffle() routine from numpy.random(**1**) can take exactly one array object argument<font color='blue'>[1]</font> and changes the order of elements of that object. The routine returns **None**, but the purpose is to modify the object passed to it. The routine can be run on the object repeatedly to generate different results changing the same object every time it is run.\n",
    "\n",
    "If a multi-dimensional array such as a NumPy ndarray is passed to the routine, only the highest dimension/level of the array is shuffled<font color='blue'>[2]</font>. The lower dimension/level elements remain in the same relative positions nested within the highest shuffled level.\n",
    "\n",
    "The shuffle() routine can not be run <font color='blue'>[3]</font> with no argument, single number argument, multiple arguments or with a negative argument as these generate TypeError.\n",
    "\n",
    "<font color='blue'>[1] _One dimensional array object_ </font>"
   ]
  },
  {
   "cell_type": "code",
   "execution_count": 27,
   "metadata": {},
   "outputs": [
    {
     "name": "stdout",
     "output_type": "stream",
     "text": [
      "Original array order:\n",
      " [0, 1, 2, 3, 4] <class 'list'>\n",
      "1st shuffle array order:\n",
      " [2, 4, 3, 0, 1] <class 'list'>\n",
      "2nd shuffle array order:\n",
      " [3, 0, 2, 1, 4] <class 'list'> \n",
      "\n",
      "Original array order:\n",
      " ['a', 'b', 'c', 'd', 'e'] <class 'list'>\n",
      "1st shuffle array order:\n",
      " ['e', 'c', 'a', 'b', 'd'] <class 'list'>\n",
      "2nd shuffle array order:\n",
      " ['c', 'b', 'a', 'd', 'e'] <class 'list'> \n",
      "\n",
      "What is returned from shuffle() routine is: None\n"
     ]
    }
   ],
   "source": [
    "# 1-d array of numbers\n",
    "# Code adapted from \n",
    "# https://docs.scipy.org/doc/numpy-1.16.0/reference/generated/numpy.random.shuffle.html#numpy.random.shuffle\n",
    "array = [0, 1, 2, 3, 4]\n",
    "# Display array\n",
    "print(\"Original array order:\\n\", array, type(array))\n",
    "\n",
    "# shuffle() routine with one array object\n",
    "test = np.random.shuffle(array)\n",
    "# Display result of test\n",
    "print(\"1st shuffle array order:\\n\", array, type(array))\n",
    "\n",
    "# shuffle() routine with one array object\n",
    "test = np.random.shuffle(array)\n",
    "# Display result of test\n",
    "print(\"2nd shuffle array order:\\n\", array, type(array), \"\\n\")\n",
    "\n",
    "# 1-d array of strings\n",
    "# Code adapted from \n",
    "array = [\"a\", \"b\", \"c\", \"d\", \"e\"]\n",
    "# Display array\n",
    "print(\"Original array order:\\n\", array, type(array))\n",
    "\n",
    "# shuffle() routine with one array object\n",
    "test = np.random.shuffle(array)\n",
    "# Display result of test\n",
    "print(\"1st shuffle array order:\\n\", array, type(array))\n",
    "\n",
    "# shuffle() routine with one array object\n",
    "test = np.random.shuffle(array)\n",
    "# Display result of test\n",
    "print(\"2nd shuffle array order:\\n\", array, type(array), \"\\n\")\n",
    "\n",
    "# shuffle() routine with one array object\n",
    "print(\"What is returned from shuffle() routine is:\", np.random.shuffle(array))"
   ]
  },
  {
   "cell_type": "markdown",
   "metadata": {},
   "source": [
    "<font color='blue'>[2] _Multi dimensional array objects_ </font>"
   ]
  },
  {
   "cell_type": "code",
   "execution_count": 28,
   "metadata": {},
   "outputs": [
    {
     "name": "stdout",
     "output_type": "stream",
     "text": [
      "Original array order:\n",
      " [[ 0  1  2  3]\n",
      " [ 4  5  6  7]\n",
      " [ 8  9 10 11]] <class 'numpy.ndarray'> \n",
      "\n",
      "1st shuffle array order:\n",
      " [[ 0  1  2  3]\n",
      " [ 4  5  6  7]\n",
      " [ 8  9 10 11]] <class 'numpy.ndarray'> \n",
      "\n",
      "2nd shuffle array order:\n",
      " [[ 0  1  2  3]\n",
      " [ 4  5  6  7]\n",
      " [ 8  9 10 11]] <class 'numpy.ndarray'>\n"
     ]
    }
   ],
   "source": [
    "# 2-d ndarray of number object\n",
    "array = np.array([[0, 1, 2, 3], [4, 5, 6, 7], [8, 9, 10, 11]])\n",
    "# Display array\n",
    "print(\"Original array order:\\n\", array, type(array), \"\\n\")\n",
    "\n",
    "# shuffle() routine with 2-d ndarray object\n",
    "test = np.random.shuffle(array)\n",
    "# Display result of test\n",
    "print(\"1st shuffle array order:\\n\", array, type(array), \"\\n\")\n",
    "\n",
    "# shuffle() routine with 2-d ndarray object\n",
    "test = np.random.shuffle(array)\n",
    "# Display result of test\n",
    "print(\"2nd shuffle array order:\\n\", array, type(array))"
   ]
  },
  {
   "cell_type": "markdown",
   "metadata": {},
   "source": [
    "<font color='blue'>[3] _Argument errors_ </font>"
   ]
  },
  {
   "cell_type": "code",
   "execution_count": 29,
   "metadata": {},
   "outputs": [],
   "source": [
    "# shuffle() routine with No argument\n",
    "#np.random.shuffle() # without comment generates TypeError takes exactly one argument\n",
    "\n",
    "# shuffle() routine with one positive argument\n",
    "#np.random.shuffle(1) # without comment generates TypeError object has no length\n",
    "\n",
    "# shuffle() routine with two positive argument\n",
    "#np.random.shuffle(1, 2) # without comment generates TypeError takes exactly one argument\n",
    "\n",
    "# shuffle() routine with negative argument\n",
    "#np.random.shuffle(-1) # without comment generates TypeError object has no length"
   ]
  },
  {
   "cell_type": "markdown",
   "metadata": {},
   "source": [
    "#### <font color='blue'>numpy.random.permutation()</font>\n",
    "permutation() routine from numpy.random(**1**) can take exactly one single integer argument<font color='blue'>[1]</font> or one single list/tuple/array object argument that included integers, floats or strings<font color='blue'>[2]</font>.\n",
    "\n",
    "When run with a single integer argument, the routine returns a NumPy ndarray containing a list of integers from 0 up to but not including the argument number. Each number in the range is included once and the order of the numbers is random. A zero or negative value argument returns an empty NumPy ndarray.\n",
    "\n",
    "For a one-dimensional array, list or tuple, the routine returns a NumPy ndarrary with the elements shuffled around within the ndarray<font color='blue'>[2]</font>. NumPy arrays can only contain one member element type. Therefore, mixed element type lists/arrarys are converted using the following hierarchy: Integer to Float to String. In other words, mixed integers and floats are converted to floats and mixed numbers and strings are converted to strings.\n",
    "\n",
    "If a multi-dimensional array such as a NumPy ndarray is passed to the routine, only the highest dimension/level of the array is shuffled<font color='blue'>[3]</font>. The lower dimension/level elements remain in the same relative positions nested within the highest shuffled level.\n",
    "\n",
    "The permutation() routine can not be run <font color='blue'>[4]</font> with no argument, multiple arguments or with a float argument as these generate TypeError or IndexError.\n",
    "\n",
    "<font color='blue'>[1] _One number argument_ </font>"
   ]
  },
  {
   "cell_type": "code",
   "execution_count": 30,
   "metadata": {},
   "outputs": [
    {
     "name": "stdout",
     "output_type": "stream",
     "text": [
      "One positive number argument:\n",
      " [4 3 2 1 0] <class 'numpy.ndarray'> \n",
      "\n",
      "Zero value argument:\n",
      " [] <class 'numpy.ndarray'> \n",
      "\n",
      "One negative number argument:\n",
      " [] <class 'numpy.ndarray'>\n"
     ]
    }
   ],
   "source": [
    "# permutation() routine with one positive number argument\n",
    "test = np.random.permutation(5)\n",
    "# Display result of test\n",
    "print(\"One positive number argument:\\n\", test, type(test), \"\\n\")\n",
    "\n",
    "# permutation() routine with zero value argument\n",
    "test = np.random.permutation(0)\n",
    "# Display result of test\n",
    "print(\"Zero value argument:\\n\", test, type(test), \"\\n\")\n",
    "\n",
    "# permutation() routine with one negative number object\n",
    "test = np.random.permutation(-2)\n",
    "# Display result of test\n",
    "print(\"One negative number argument:\\n\", test, type(test))"
   ]
  },
  {
   "cell_type": "markdown",
   "metadata": {},
   "source": [
    "<font color='blue'>[2] _One dimensional array objects_ </font>"
   ]
  },
  {
   "cell_type": "code",
   "execution_count": 31,
   "metadata": {},
   "outputs": [
    {
     "name": "stdout",
     "output_type": "stream",
     "text": [
      "Original 1-d interger list order:\n",
      " [0, 1, 2, 3] <class 'list'>\n",
      "1st permutation 1-d interger array order:\n",
      " [3 0 1 2] <class 'numpy.ndarray'>\n",
      "2st permutation 1-d interger array order:\n",
      " [0 2 1 3] <class 'numpy.ndarray'> \n",
      "\n",
      "Original 1-d float array order:\n",
      " [0.1 1.1 2.2 3.3] <class 'numpy.ndarray'>\n",
      "1st permutation 1-d float array order:\n",
      " [3.3 1.1 0.1 2.2] <class 'numpy.ndarray'> \n",
      "\n",
      "Original 1-d string array order:\n",
      " ['a' 'b' 'c' 'd'] <class 'numpy.ndarray'>\n",
      "1st permutation 1-d string array order:\n",
      " ['c' 'b' 'd' 'a'] <class 'numpy.ndarray'> \n",
      "\n",
      "Original tuple of mixed number types:\n",
      " (1, 2.5, 5) <class 'tuple'>\n",
      "1st permutation mixed number types:\n",
      " [2.5 1.  5. ] <class 'numpy.ndarray'>\n",
      "2nd permutation mixed number types:\n",
      " [1.  2.5 5. ] <class 'numpy.ndarray'> \n",
      "\n",
      "Original list of mixed number/string types:\n",
      " [1, 2.5, 'a'] <class 'list'>\n",
      "1st permutation mixed number/string types:\n",
      " ['2.5' 'a' '1'] <class 'numpy.ndarray'>\n",
      "2nd permutation mixed number/string types:\n",
      " ['a' '2.5' '1'] <class 'numpy.ndarray'>\n"
     ]
    }
   ],
   "source": [
    "# list of integers\n",
    "array = [0, 1, 2, 3]\n",
    "# Display array\n",
    "print(\"Original 1-d interger list order:\\n\", array, type(array))\n",
    "# permutation() routine with one array of integers\n",
    "test = np.random.permutation(array)\n",
    "# Display result of test\n",
    "print(\"1st permutation 1-d interger array order:\\n\", test, type(test))\n",
    "# permutation() routine with one array of integers\n",
    "test = np.random.permutation(array)\n",
    "# Display result of test\n",
    "print(\"2st permutation 1-d interger array order:\\n\", test, type(test), \"\\n\")\n",
    "\n",
    "# 1-d ndarray of floats\n",
    "array = np.array([0.1, 1.1, 2.2, 3.3])\n",
    "# Display array\n",
    "print(\"Original 1-d float array order:\\n\", array, type(array))\n",
    "# permutation() routine with one array of floats\n",
    "test = np.random.permutation(array)\n",
    "# Display result of test\n",
    "print(\"1st permutation 1-d float array order:\\n\", test, type(test), \"\\n\")\n",
    "\n",
    "# 1-d ndarray of strings\n",
    "array = np.array([\"a\", \"b\", \"c\", \"d\"])\n",
    "# Display array\n",
    "print(\"Original 1-d string array order:\\n\", array, type(array))\n",
    "# permutation() routine with one array of strings\n",
    "test = np.random.permutation(array)\n",
    "# Display result of test\n",
    "print(\"1st permutation 1-d string array order:\\n\", test, type(test), \"\\n\")\n",
    "\n",
    "# Tuple of mixed number types\n",
    "array = (1, 2.5, 5)\n",
    "# Display array\n",
    "print(\"Original tuple of mixed number types:\\n\", array, type(array))\n",
    "# permutation() routine with mixed number types\n",
    "test = np.random.permutation(array)\n",
    "# Display test\n",
    "print(\"1st permutation mixed number types:\\n\", test, type(test))\n",
    "# permutation() routine with mixed number types\n",
    "test = np.random.permutation(array)\n",
    "# Display test\n",
    "print(\"2nd permutation mixed number types:\\n\", test, type(test), \"\\n\")\n",
    "\n",
    "# list of mixed number/string types\n",
    "array = [1, 2.5, 'a']\n",
    "# Display array\n",
    "print(\"Original list of mixed number/string types:\\n\", array, type(array))\n",
    "# permutation() routine with mixed number/string types\n",
    "test = np.random.permutation(array)\n",
    "# Display test\n",
    "print(\"1st permutation mixed number/string types:\\n\", test, type(test))\n",
    "# permutation() routine with mixed number/string types\n",
    "test = np.random.permutation(array)\n",
    "# Display test\n",
    "print(\"2nd permutation mixed number/string types:\\n\", test, type(test))"
   ]
  },
  {
   "cell_type": "markdown",
   "metadata": {},
   "source": [
    "<font color='blue'>[3] _Multi dimensional array objects_ </font>"
   ]
  },
  {
   "cell_type": "code",
   "execution_count": 32,
   "metadata": {},
   "outputs": [
    {
     "name": "stdout",
     "output_type": "stream",
     "text": [
      "Original 2-d array order:\n",
      " [[ 0  1  2  3]\n",
      " [ 4  5  6  7]\n",
      " [ 8  9 10 11]] <class 'numpy.ndarray'> \n",
      "\n",
      "1st permutation 2-d array order:\n",
      " [[ 8  9 10 11]\n",
      " [ 0  1  2  3]\n",
      " [ 4  5  6  7]] <class 'numpy.ndarray'> \n",
      "\n",
      "2nd permutation 2-d array order:\n",
      " [[ 4  5  6  7]\n",
      " [ 8  9 10 11]\n",
      " [ 0  1  2  3]] <class 'numpy.ndarray'>\n"
     ]
    }
   ],
   "source": [
    "# 2-d ndarray of number object\n",
    "array = np.array([[0, 1, 2, 3], [4, 5, 6, 7], [8, 9, 10, 11]])\n",
    "# Display array\n",
    "print(\"Original 2-d array order:\\n\", array, type(array), \"\\n\")\n",
    "\n",
    "# permutation() routine with one array object\n",
    "test = np.random.permutation(array)\n",
    "# Display result of test\n",
    "print(\"1st permutation 2-d array order:\\n\", test, type(test), \"\\n\")\n",
    "\n",
    "# permutation() routine with one array object\n",
    "test = np.random.permutation(array)\n",
    "# Display result of test\n",
    "print(\"2nd permutation 2-d array order:\\n\", test, type(test))"
   ]
  },
  {
   "cell_type": "markdown",
   "metadata": {},
   "source": [
    "<font color='blue'>[4] _Argument errors_ </font>"
   ]
  },
  {
   "cell_type": "code",
   "execution_count": 33,
   "metadata": {},
   "outputs": [],
   "source": [
    "# permutation() routine with No argument\n",
    "#np.random.permutation() # without comment generates TypeError\n",
    "                         # takes exactly one argument\n",
    "\n",
    "# permutation() routine with two positive argument\n",
    "#np.random.permutation(1, 2) # without comment generates TypeError\n",
    "                             #  takes exactly one argument\n",
    "\n",
    "# permutation() routine with float argument\n",
    "#np.random.permutation(1.5) # without comment generates IndexError\n",
    "\n",
    "# permutation() routine with string argument\n",
    "#np.random.permutation(\"g\") # without comment generates IndexError"
   ]
  },
  {
   "cell_type": "markdown",
   "metadata": {},
   "source": [
    "### <font color='blue'>Distributions</font>\n",
    "A selection of routines included in the numpy.random distributions category are beta(), binomial(), exponential(), logistic(), poison() and rayleigh() distributions. The following sub-sections explores these routines.\n",
    "\n",
    "#### <font color='blue'>numpy.random.beta()</font>\n",
    "beta() routine from numpy.random(**1**) takes samples from the Beta Distribution probability equation(**9**) and can take a number of arguments (a, b, size=None). The distribution requires two shape parameters(**8**) $\\alpha$ and $\\beta$ that control the shape of the distribution using the following formula.\n",
    "\n",
    "$f(x;a,b) = \\frac{1}{B(\\alpha,\\beta)}x^{\\alpha-1}(1-x)^{\\beta-1}$ where the normalisation, B function is $B(\\alpha,\\beta) = \\int_{0}^{1}t^{\\alpha-1}(1-t)^{\\beta-1}dt$\n",
    "\n",
    "The routine requires at least two positional arguments<font color='blue'>[1]</font>. The first and second arguments can be labeled as 'a' and 'b' respectively and both have to be either positive integers, floats or one dimensional array_like objects (array/list/tuple) that containing number elements only objects.\n",
    "\n",
    "Strings are not acceptable arguments as they generate TypeError or ValueError. 'a' and 'b' can not be multi-dimensional array_like objects and if both are array_like objects, they have to be of the same size, otherwise a ValueError is generated.\n",
    "\n",
    "When two number arguments for 'a' and 'b' are used the routine generates a float between 0.0 and 1.0<font color='blue'>[2]</font>. If either or both of the 'a' and 'b' arguments are array_like objects, the routine generates a NumPy ndarray the size of which depends on the size of the array_like object.\n",
    "\n",
    "Adding a third argument determines the size of the resulting ndarray<font color='blue'>[3]</font>. The third argument can be labeled as **size** and can be an integer or an array. Size cannot be a float value and if size is used 'a' and 'b' have to be integer values, otherwise TypeError or ValueError are generated respectively<font color='blue'>[1]</font>. The size argument determines the size and shape of the resulting ndarrary<font color='blue'>[3]</font>.\n",
    "\n",
    "Varying the values of 'a' and 'b' give different distributions of resulting values<font color='blue'>[4]</font>. If 'a' and 'b' are 1, the resulting distribution of values is more uniform. If 'a' and 'b' are the same and greater than 1 the distribution appears more like the normal or bell curve distribution and if less than 1 gives an inverted bell curve distribution with peaks near 0.0 and 1.0. If either 'a' or 'b' is higher than the other, the higher distribution is shewed closer to either 0.0 or 1.0.\n",
    "\n",
    "<font color='blue'>[1] _Argument errors_ </font>"
   ]
  },
  {
   "cell_type": "code",
   "execution_count": 34,
   "metadata": {},
   "outputs": [],
   "source": [
    "# beta() routine with No argument\n",
    "#np.random.beta() # without comment generates TypeError\n",
    "                 # takes at least 2 positional arguments\n",
    "\n",
    "# beta() routine with a<=0\n",
    "#np.random.beta(-1, 1) # without comment generates ValueError, a <= 0\n",
    "#np.random.beta(0, 1) # without comment generates ValueError, a <= 0\n",
    "    \n",
    "# beta() routine with b<=0\n",
    "#np.random.beta(1, -1) # without comment generates ValueError, b <= 0\n",
    "#np.random.beta(1, 0) # without comment generates ValueError, b <= 0\n",
    "\n",
    "# beta() routine with a = string\n",
    "#np.random.beta(\"a\", 0) # without comment generates ValueError, a != float\n",
    "\n",
    "# beta() routine with b = string\n",
    "#np.random.beta(1, \"b\") # without comment generates ValueError, b != float\n",
    "\n",
    "# beta() routine with a and b =array/list/tuple argument\n",
    "#np.random.beta([1, 2, 3], [4, 5, 7, 8])  # without comment generates ValueError,\n",
    "                                          # size of b != size of a\n",
    "    \n",
    "# beta() routine with a=2-d array argument and b=number\n",
    "#np.random.beta([[1, 2, 3, 4], [5, 6, 7]], 1) # without comment generates ValueError\n",
    "\n",
    "# beta() routine with a=number and b=2-d array argument\n",
    "#np.random.beta(1, [[1, 2, 3, 4], [5, 6, 7]]) # without comment generates ValueError\n",
    "\n",
    "# beta() routine with size = float\n",
    "#np.random.beta(a=2, b=3, size=5.5) # without comment generates TypeError \n",
    "\n",
    "# beta() routine with a/b=array size=int\n",
    "#np.random.beta(a=[4, 5], b=[6, 8], size=4) # without comment generates ValueError"
   ]
  },
  {
   "cell_type": "markdown",
   "metadata": {},
   "source": [
    "<font color='blue'>[2] _'a' and 'b' arguments_ </font>"
   ]
  },
  {
   "cell_type": "code",
   "execution_count": 35,
   "metadata": {},
   "outputs": [
    {
     "name": "stdout",
     "output_type": "stream",
     "text": [
      "Two number arguments:\n",
      " 0.05934275701361452 <class 'float'> \n",
      "\n",
      "a=array/list/tuple, b=number:\n",
      " [0.72752265 0.7526429  0.90883508 0.84514607 0.70172771] <class 'numpy.ndarray'> \n",
      "\n",
      "a=array/list/tuple, b=number:\n",
      " [0.26593927 0.82328433 0.91631866 0.78671619] <class 'numpy.ndarray'> \n",
      "\n",
      "a=array/list/tuple, b=number:\n",
      " [0.08843859 0.26615568 0.33163718] <class 'numpy.ndarray'>\n"
     ]
    }
   ],
   "source": [
    "# beta() routine with two number argument\n",
    "test = np.random.beta(1.5, 5)\n",
    "# Print result of test\n",
    "print(\"Two number arguments:\\n\", test, type(test), \"\\n\")\n",
    "\n",
    "# beta() routine with a=number argument and b=array/list/tuple\n",
    "test = np.random.beta(a=13, b=[1, 2, 3, 4, 5])\n",
    "# Print result of test\n",
    "print(\"a=array/list/tuple, b=number:\\n\", test, type(test), \"\\n\")\n",
    "\n",
    "# beta() routine with a=array/list/tuple argument and b=number\n",
    "test = np.random.beta(a=[1, 2, 3, 4], b=1)\n",
    "# Print result of test\n",
    "print(\"a=array/list/tuple, b=number:\\n\", test, type(test), \"\\n\")\n",
    "\n",
    "# beta() routine with a and b =array/list/tuple argument\n",
    "test = np.random.beta(a=[1, 2, 3], b=[5, 6, 7])\n",
    "# Print result of test\n",
    "print(\"a=array/list/tuple, b=number:\\n\", test, type(test))"
   ]
  },
  {
   "cell_type": "markdown",
   "metadata": {},
   "source": [
    "<font color='blue'>[3] _Size argument_ </font>"
   ]
  },
  {
   "cell_type": "code",
   "execution_count": 36,
   "metadata": {},
   "outputs": [
    {
     "name": "stdout",
     "output_type": "stream",
     "text": [
      "Three number arguments:\n",
      " [0.27074604 0.45497231 0.54479574 0.34736451 0.59168684] <class 'numpy.ndarray'> \n",
      "\n",
      "Size = multi-dimensional array:\n",
      " [[[0.45639911 0.38928017 0.53463826]\n",
      "  [0.36968117 0.16508501 0.12923698]]\n",
      "\n",
      " [[0.59676819 0.49052194 0.11376509]\n",
      "  [0.06327587 0.22988312 0.60410526]]\n",
      "\n",
      " [[0.5531693  0.46590809 0.27443914]\n",
      "  [0.63069721 0.47165359 0.16968335]]\n",
      "\n",
      " [[0.77363847 0.31301963 0.32640007]\n",
      "  [0.11642646 0.08181881 0.46853654]]] <class 'numpy.ndarray'>\n"
     ]
    }
   ],
   "source": [
    "# beta() routine with three number argument\n",
    "test = np.random.beta(2, 3, 5)\n",
    "# Print result of test\n",
    "print(\"Three number arguments:\\n\", test, type(test), \"\\n\")\n",
    "\n",
    "# beta() routine with size = multi-dimentional array\n",
    "test = np.random.beta(a=2, b=3, size=[4, 2, 3])\n",
    "# Print result of test\n",
    "print(\"Size = multi-dimensional array:\\n\", test, type(test))"
   ]
  },
  {
   "cell_type": "markdown",
   "metadata": {},
   "source": [
    "<font color='blue'>[4] _Sample range test_ </font>"
   ]
  },
  {
   "cell_type": "code",
   "execution_count": 37,
   "metadata": {},
   "outputs": [
    {
     "data": {
      "text/plain": [
       "<matplotlib.axes._subplots.AxesSubplot at 0x2a7cc2365f8>"
      ]
     },
     "execution_count": 37,
     "metadata": {},
     "output_type": "execute_result"
    },
    {
     "data": {
      "image/png": "[encoded data removed]",
      "text/plain": [
       "<Figure size 720x360 with 1 Axes>"
      ]
     },
     "metadata": {},
     "output_type": "display_data"
    }
   ],
   "source": [
    "# Create a number of test 1-d arrary with 10,000 values\n",
    "test_A = np.random.beta(a=1, b=5, size=10000)\n",
    "test_B = np.random.beta(a=5, b=1, size=10000)\n",
    "test_C = np.random.beta(a=1, b=1, size=10000)\n",
    "test_D = np.random.beta(a=5, b=5, size=10000)\n",
    "test_E = np.random.beta(a=0.5, b=0.5, size=10000)\n",
    "\n",
    "# Overlay plot distribution of values in 4 tests\n",
    "# Code adapted from https://stackoverflow.com/a/46046103\n",
    "# and https://seaborn.pydata.org/generated/seaborn.distplot.html?highlight=distplot#seaborn.distplot\n",
    "sns.distplot(test_A, hist=False, rug=True, label=\"a=1, b=5\")\n",
    "sns.distplot(test_B, hist=False, rug=True, label=\"a=5, b=1\")\n",
    "sns.distplot(test_C, hist=False, rug=True, label=\"a=1, b=1\")\n",
    "sns.distplot(test_D, hist=False, rug=True, label=\"a=5, b=5\")\n",
    "sns.distplot(test_E, hist=False, rug=True, label=\"a=0.5, b=0.5\")"
   ]
  },
  {
   "cell_type": "code",
   "execution_count": null,
   "metadata": {},
   "outputs": [],
   "source": []
  },
  {
   "cell_type": "code",
   "execution_count": null,
   "metadata": {},
   "outputs": [],
   "source": []
  },
  {
   "cell_type": "markdown",
   "metadata": {},
   "source": [
    "### <font color='blue'>Research References</font>\n",
    "\n",
    "**(1)** _NumPy.Random_\n",
    "- https://docs.scipy.org/doc/numpy-1.16.0/reference/routines.random.html\n",
    "- https://numpy.org/doc/1.17/reference/random/index.html\n",
    "- https://www.sharpsightlabs.com/blog/numpy-random-seed/\n",
    "\n",
    "**(2)** _Python Programming Language_\n",
    "- https://www.python.org/\n",
    "\n",
    "**(3)** _NumPy_\n",
    "- https://docs.scipy.org/doc/numpy-1.16.0/\n",
    "- https://www.quora.com/What-is-NumPy\n",
    "- https://docs.scipy.org/doc/numpy-1.16.0/user/whatisnumpy.html\n",
    "- https://numpy.org/devdocs/reference/arrays.ndarray.html\n",
    "- https://cloudxlab.com/blog/numpy-pandas-introduction/\n",
    "\n",
    "**(4)** _Random Numbers_\n",
    "- https://analyticstraining.com/random-numbers-applications/\n",
    "- https://engineering.mit.edu/engage/ask-an-engineer/can-a-computer-generate-a-truly-random-number/\n",
    "- https://en.wikipedia.org/wiki/Random_seed\n",
    "- https://www.random.org/randomness/\n",
    "- https://www.eg.bucknell.edu/~xmeng/Course/CS6337/Note/master/node37.html\n",
    "- https://en.wikipedia.org/wiki/Independence_(probability_theory)\n",
    "- https://www.ques10.com/p/3213/explain-the-properties-of-random-numbers/\n",
    "- https://machinelearningmastery.com/how-to-generate-random-numbers-in-python/\n",
    "\n",
    "**(5)** _Computer Simulation_\n",
    "- https://en.wikipedia.org/wiki/Computer_simulation\n",
    "- https://www.britannica.com/technology/computer-simulation\n",
    "\n",
    "**(6)** _Monte Carlo Methods_\n",
    "- https://towardsdatascience.com/an-overview-of-monte-carlo-methods-675384eb1694\n",
    "\n",
    "**(7)** _Marked Down Formatting and Image Sources_\n",
    "- https://stackoverflow.com/questions/46439874/display-image-jupyter-notebook-aligned-centre\n",
    "- https://stackoverflow.com/questions/19746350/how-does-one-change-color-in-markdown-cells-ipython-jupyter-notebook\n",
    "- https://i0.wp.com/www.simplifiedpython.net/wp-content/uploads/2018/11/Python-NumPy-14.png?w=672&ssl=1\n",
    "\n",
    "**(8)** _Distributions_\n",
    "- https://www.statisticshowto.datasciencecentral.com/uniform-distribution/\n",
    "- https://www.statisticshowto.datasciencecentral.com/probability-and-statistics/normal-distributions/\n",
    "- https://en.wikipedia.org/wiki/Beta_distribution\n",
    "\n",
    "**(9)** _LaTex equations_\n",
    "- https://jupyter-notebook.readthedocs.io/en/stable/examples/Notebook/Working%20With%20Markdown%20Cells.html\n",
    "- https://link.springer.com/content/pdf/bbm%3A978-1-4842-3913-1%2F1.pdf"
   ]
  }
 ],
 "metadata": {
  "kernelspec": {
   "display_name": "Python 3",
   "language": "python",
   "name": "python3"
  },
  "language_info": {
   "codemirror_mode": {
    "name": "ipython",
    "version": 3
   },
   "file_extension": ".py",
   "mimetype": "text/x-python",
   "name": "python",
   "nbconvert_exporter": "python",
   "pygments_lexer": "ipython3",
   "version": "3.7.3"
  }
 },
 "nbformat": 4,
 "nbformat_minor": 2
}
