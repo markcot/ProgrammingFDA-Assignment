{
 "cells": [
  {
   "cell_type": "markdown",
   "metadata": {},
   "source": [
    "# Programming for Data Analysis - Assignment\n",
    "- **Course** Higher Diploma in Data Analytics, GMIT, Ireland\n",
    "- **Lecturer** Brian McGinley\n",
    "- **Author** Mark Cotter\n",
    "- **Email** g00376335@gmit.ie\n",
    "- **Dates** October 2019 to November 2019\n",
    "\n",
    "### Introduction\n",
    "This document is my jupyter notebook file for the GMIT module 'Programming for Data Analysis' Assignment. The assignment includes a review of the NumPy.Random(**1**) function included the Python(**2**) library module NumPy(**3**). This jupyter notebook uses the python programming language to illustrate routines included in this function.\n",
    "\n",
    "### Random Numbers and Seeds\n",
    "Modern computers use randomly generated numbers for a multitude of purposes. Two important properties of a sequence of random numbers(**4**) are independence and uniformity.\n",
    "- Each number must be statistically independent of the previous number i.e. the probability of one number occurring is not dependent on another number\n",
    "- The numbers must have a equal/uniform probability of occurring. i.e. a sample of the numbers should be well distributed in the range\n",
    "\n",
    "Computers can not really generate random numbers(**4**) on their own. They are limited by their programming and follow rules based on various algorithms contained in the programming. Programs in computer can be used to generate what appears to be a random sequence of numbers that are called **pseudo-random** numbers, but these are in fact a pattern with a very long repeating period. No matter how complex an algorithm, if you know what algorithm was used and you know the starting point of the computation, the results can be predicted and repeated. This starting point is referred to as the **seed** number of the algorithm. Seeds can be either a fixed or randomly selected numbers themselves such as the current time in milliseconds.\n",
    "\n",
    "Sharing of a **pseudo-random seed** is often used for syncing security measures, where the seed number is commonly known by two or more remote pieces of equipment and is unknown to an outside observer. If the starting point of the algorithm is unknown, the outcome of an algorithm pattern can not be easily replicated.\n",
    "\n",
    "Another variation of computer based random numbers generation is called **'true random number generators'**, where the randomness of the number generated is based on a physical source connected to the computer such as background noise or the unpredictable decay of a radioactive source. This type of generator does not require a **seed**.\n",
    "\n",
    "Random numbers are useful in data analysis for simulating data. Simulation(**5**) is often used to verify solutions for mathematical models of natural scientific systems. This allows analysts to make inferences and predictions from the models without having to undertake real experiments. Such experiments are often referred to as _Monte Carlo Methods_ (**6**). **'Pseudo-random number generators'** are more widely used for these experiments as the processes can be repeated after changing some variables and produce comparable results if the **seed** remains constant.\n",
    "\n",
    "Where large datasets have been gathered, sampling random(**4**) selections of the data can be used to reduce the quantity of data, thereby reducing the processing time for data analysis.\n",
    "\n",
    "### Description and Purpose of NumPy.Random\n",
    "\n",
    "#### NumPy Python Library\n",
    "NumPy(**3**) is a library module for Python. NumPy is an abbreviation of 'Numerical Python' or ‘Numeric Python’ and is generally used for scientific computing and number crunching. The core of NumPy are homogeneous multidimensional array objects referred to as _'ndarray'_. These objects can only contain items of the same type and size, are defined by their shape and are usually of fixed size. NumPy is often used with other Python libraries such as Pandas to overcome some of these limitations.\n",
    "NumPy utilises elements of compiled C and C++ programming code in the background so that operations undertaken on NumPy objects are very efficient, which is very desirable when dealing with large quantities of data.\n",
    "\n",
    "The NumPy library and its related functions such as NumPy.Random(**1**) are not initially loaded when Python is run and have to be imported into a live Python session. Typically NumPy is imported using the following command."
   ]
  },
  {
   "cell_type": "code",
   "execution_count": 1,
   "metadata": {},
   "outputs": [],
   "source": [
    "# Import NumPy library into Python session\n",
    "import numpy as np"
   ]
  },
  {
   "cell_type": "markdown",
   "metadata": {},
   "source": [
    "#### NumPy.Random Purpose\n",
    "Python's NymPy library contains a function called NumPy.Random(**1**). This function includes various routines for **pseudo random numbers generation**. The random sequence of numbered generated from NumPy.Random routines are generally outputted to NumPy ndarray objects of the required value type, size and shape. The random number generation routines are divided into four main categories of as follows:\n",
    "- Simple random data\n",
    "- Permutations\n",
    "- Distribution\n",
    "- Random generator\n",
    "\n",
    "### Simple random data\n"
   ]
  },
  {
   "cell_type": "markdown",
   "metadata": {},
   "source": [
    "### Permutations\n"
   ]
  },
  {
   "cell_type": "markdown",
   "metadata": {},
   "source": [
    "### Distributions\n"
   ]
  },
  {
   "cell_type": "markdown",
   "metadata": {},
   "source": [
    "### Research References\n",
    "\n",
    "**(1)** _NumPy.Random_\n",
    "- https://docs.scipy.org/doc/numpy-1.16.0/reference/routines.random.html\n",
    "- https://numpy.org/doc/1.17/reference/random/index.html\n",
    "\n",
    "**(2)** _Python Programming Language_\n",
    "- https://www.python.org/\n",
    "\n",
    "**(3)** _NumPy_\n",
    "- https://docs.scipy.org/doc/numpy-1.16.0/\n",
    "- https://www.quora.com/What-is-NumPy\n",
    "- https://docs.scipy.org/doc/numpy-1.16.0/user/whatisnumpy.html\n",
    "- https://numpy.org/devdocs/reference/arrays.ndarray.html\n",
    "- https://cloudxlab.com/blog/numpy-pandas-introduction/\n",
    "\n",
    "**(4)** _Random Numbers_\n",
    "- https://analyticstraining.com/random-numbers-applications/\n",
    "- https://engineering.mit.edu/engage/ask-an-engineer/can-a-computer-generate-a-truly-random-number/\n",
    "- https://en.wikipedia.org/wiki/Random_seed\n",
    "- https://www.random.org/randomness/\n",
    "- https://www.eg.bucknell.edu/~xmeng/Course/CS6337/Note/master/node37.html\n",
    "- https://en.wikipedia.org/wiki/Independence_(probability_theory)\n",
    "- https://www.ques10.com/p/3213/explain-the-properties-of-random-numbers/\n",
    "- https://machinelearningmastery.com/how-to-generate-random-numbers-in-python/\n",
    "\n",
    "**(5)** _Computer_Simulation_\n",
    "- https://en.wikipedia.org/wiki/Computer_simulation\n",
    "- https://www.britannica.com/technology/computer-simulation\n",
    "\n",
    "**(6)** _Monte Carlo Methods_\n",
    "- https://towardsdatascience.com/an-overview-of-monte-carlo-methods-675384eb1694\n"
   ]
  },
  {
   "cell_type": "markdown",
   "metadata": {},
   "source": []
  }
 ],
 "metadata": {
  "kernelspec": {
   "display_name": "Python 3",
   "language": "python",
   "name": "python3"
  },
  "language_info": {
   "codemirror_mode": {
    "name": "ipython",
    "version": 3
   },
   "file_extension": ".py",
   "mimetype": "text/x-python",
   "name": "python",
   "nbconvert_exporter": "python",
   "pygments_lexer": "ipython3",
   "version": "3.7.3"
  }
 },
 "nbformat": 4,
 "nbformat_minor": 2
}
