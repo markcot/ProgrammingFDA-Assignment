{
 "cells": [
  {
   "cell_type": "markdown",
   "metadata": {},
   "source": [
    "# <font color='blue'>Programming for Data Analysis - Assignment</font> <img src=\"https://i0.wp.com/www.simplifiedpython.net/wp-content/uploads/2018/11/Python-NumPy-14.png?w=672&ssl=1\" width=\"350\" height=\"350\" align=\"right\"/>\n",
    "\n",
    "- **Course** Higher Diploma in Data Analytics, GMIT, Ireland \n",
    "- **Lecturer** Brian McGinley\n",
    "- **Author** Mark Cotter\n",
    "- **Email** g00376335@gmit.ie\n",
    "- **Dates** October 2019 to November 2019\n",
    "\n",
    "### <font color='blue'>Introduction</font>\n",
    "This document is my jupyter notebook file for the GMIT module 'Programming for Data Analysis' assignment. The assignment includes a review of the NumPy.Random(**1**) function included in the Python(**2**) library module NumPy(**3**). This jupyter notebook uses the Python programming language to illustrate routines included in this function.\n",
    "\n",
    "### <font color='blue'>Random numbers and seeds</font>\n",
    "Modern computers use randomly generated numbers for a multitude of purposes. Two important properties of a sequence of random numbers(**4**) are independence and uniformity.\n",
    "- Each number must be statistically independent of the previous number i.e. the probability of one number occurring is not dependent on another number\n",
    "- The numbers must have a equal/uniform probability of occurring. i.e. a sample of the numbers should be well distributed in the range\n",
    "\n",
    "Computers can not really generate random numbers(**4**) on their own. They are limited by their programming and follow rules based on various algorithms contained in the programming. Programs can be used to generate what appears to be a random sequence of numbers that are called **pseudo-random** numbers, but these are in fact a pattern with a very long repeat period. No matter how complex an algorithm, if you know what algorithm was used and you know the starting point of the computation, the results can be predicted and repeated. This starting point is referred to as the **seed** number of the algorithm. Seeds can be either a fixed or randomly selected numbers themselves such as the current time in milliseconds.\n",
    "\n",
    "Sharing of a **pseudo-random seed** is often used for syncing security measures, where the seed number is commonly known by two or more remote pieces of equipment and is unknown to an outside observer. If the starting point of the algorithm is unknown, the outcome of an algorithm pattern can not be easily replicated.\n",
    "\n",
    "Another variation of computer based random numbers generation is called **'true random number generators'**, where the randomness of the number generated is based on a physical source connected to the computer such as background noise or the unpredictable decay of a radioactive source. This type of generator does not require a **seed**.\n",
    "\n",
    "Where large datasets have been gathered, sampling random(**4**) selections of the data can be used to reduce the quantity of data, thereby reducing the processing time for data analysis. Random numbers are also useful in data analysis for simulating data. Simulation(**5**) is often used to verify solutions for mathematical models of natural scientific systems. This allows analysts to make inferences and predictions from the models without having to undertake real experiments. Such experiments are often referred to as _Monte Carlo Methods_ (**6**). **'Pseudo-random number generators'** are more widely used for these experiments as the processes can be repeated after changing some variables and produce comparable results if the **seed** remains constant.\n",
    "\n",
    "### <font color='blue'>Description and purpose of numpy.random</font>\n",
    "\n",
    "#### <font color='blue'>NumPy Python library</font>\n",
    "NumPy(**3**) is a library module for Python. NumPy is an abbreviation of 'Numerical Python' or ‘Numeric Python’ and is generally used for scientific computing and number crunching. The core of NumPy are homogeneous multidimensional array objects referred to as _'ndarray'_. These objects can only contain items of the same type and size, are defined by their shape and are usually of fixed size. NumPy is often used with other Python libraries such as Pandas to overcome some of these limitations.\n",
    "NumPy utilises elements of compiled C and C++ programming code in the background so that operations undertaken on NumPy objects are very efficient, which is very desirable when dealing with large quantities of data.\n",
    "\n",
    "The NumPy library, its related functions such as numpy.random(**1**) and many other libraries are not initially loaded when Python is run and have to be imported into a live Python session."
   ]
  },
  {
   "cell_type": "code",
   "execution_count": 1,
   "metadata": {},
   "outputs": [],
   "source": [
    "# Import NumPy library\n",
    "import numpy as np\n",
    "# Import seaborn library\n",
    "import seaborn as sns"
   ]
  },
  {
   "cell_type": "markdown",
   "metadata": {},
   "source": [
    "#### <font color='blue'>numpy.random purpose</font>\n",
    "Python's NumPy library contains a function called numpy.random(**1**). This function includes various routines for **pseudo random numbers generation**. The random sequence of numbered generated from NumPy.Random routines are generally outputted to NumPy ndarray objects of the required value type, size and shape. The random number generation routines are divided into four main categories of as follows:\n",
    "- Simple random data\n",
    "- Permutations\n",
    "- Distribution\n",
    "- Random generator\n",
    "\n",
    "### <font color='blue'>Simple random data</font>\n",
    "Routines included in this numpy.random category include rand(), randn(), randint(), random(), choice() and bytes(). The following code explores a number of these routines.\n",
    "\n",
    "#### <font color='blue'>numpy.random.rand()</font>\n",
    "numpy.random(**1**) routine rand() when called can take a variable number of arguments or dimensions (d0,d1,...,dn).  \n",
    "When run without an argument <font color='blue'>[1]</font>, it returns a random floating point number in the range 0.0 to 1.0. \n",
    "\n",
    "When the rand() routine is run with one or more positive integer number arguments <font color='blue'>[2]</font>, it returns an numpy ndarray containing random floating point numbers. The shape and size (number of dimensions) of the ndarray created depends on number of arguments and their numerical values. The values of the floating point numbers generated are uniformly distributed(**8**) between 0.0 and 1.0 <font color='blue'>[3]</font>.\n",
    "The numpy.random(**1**) webpage for rand() notes that the range is **[0, 1)** meaning that the value range is **(0 =< value < 1)** so 0.0 is a possible number, but 1.0 is not a possible number in the range.\n",
    "\n",
    "Zero value, negative values and floating point values are not acceptable argument values for the rand() routine <font color='blue'>[4]</font>. These generate AttributeError, ValueError and TypeError respectively.\n",
    "\n",
    "<font color='blue'>[1] _No arguments_ </font>"
   ]
  },
  {
   "cell_type": "code",
   "execution_count": 2,
   "metadata": {},
   "outputs": [
    {
     "name": "stdout",
     "output_type": "stream",
     "text": [
      "No argument result:\n",
      " 0.3846456631831574 <class 'float'>\n"
     ]
    }
   ],
   "source": [
    "# rand() routine without an argument\n",
    "test = np.random.rand()\n",
    "# Display result of test\n",
    "print(\"No argument result:\\n\",\n",
    "     test, type(test))"
   ]
  },
  {
   "cell_type": "markdown",
   "metadata": {},
   "source": [
    "<font color='blue'>[2] _One or more integer arguments_ </font>"
   ]
  },
  {
   "cell_type": "code",
   "execution_count": 3,
   "metadata": {
    "scrolled": true
   },
   "outputs": [
    {
     "name": "stdout",
     "output_type": "stream",
     "text": [
      "One integer argument result:\n",
      " 0.6030436776298662 <class 'float'> \n",
      "\n",
      "Two integer arguments result:\n",
      " [[0.59668582 0.65951398 0.75567523]\n",
      " [0.85244015 0.4369598  0.26117538]] \n",
      "\n",
      "Three integer arguments result:\n",
      " [[[0.95543208 0.55822185]\n",
      "  [0.84834664 0.49759371]\n",
      "  [0.01801782 0.65849943]]\n",
      "\n",
      " [[0.08408862 0.87224025]\n",
      "  [0.76067609 0.26884063]\n",
      "  [0.39945654 0.32624092]]]\n"
     ]
    }
   ],
   "source": [
    "# rand() routine with one integer argument\n",
    "test = np.random.rand()\n",
    "# Display result of test\n",
    "print(\"One integer argument result:\\n\",\n",
    "      test, type(test), \"\\n\")\n",
    "\n",
    "# rand() routine with two integer arguments\n",
    "print(\"Two integer arguments result:\\n\",\n",
    "      np.random.rand(2,3), \"\\n\")\n",
    "\n",
    "# rand() routine with three integer arguments\n",
    "print(\"Three integer arguments result:\\n\",\n",
    "      np.random.rand(2,3,2))"
   ]
  },
  {
   "cell_type": "markdown",
   "metadata": {},
   "source": [
    "<font color='blue'>[3] _Sample range test_ </font>"
   ]
  },
  {
   "cell_type": "code",
   "execution_count": 4,
   "metadata": {},
   "outputs": [
    {
     "name": "stdout",
     "output_type": "stream",
     "text": [
      "Limits of values in 'test' Min: 0.0000045320 and Max: 0.9999954854\n"
     ]
    },
    {
     "data": {
      "image/png": "[encoded data removed]",
      "text/plain": [
       "<Figure size 720x360 with 1 Axes>"
      ]
     },
     "metadata": {},
     "output_type": "display_data"
    }
   ],
   "source": [
    "# Create test 1-d arrary with 10,000 sample values\n",
    "test = np.random.rand(100000)\n",
    "# Print Min and Max value in 'test' to 10 decimal places\n",
    "print(\"Limits of values in 'test' Min: {:,.10f} and Max: {:,.10f}\".format(test.min(), test.max()))\n",
    "# Plot distribution of values in test\n",
    "# Set seaborn plot size. Code adapted from https://stackoverflow.com/a/47955814\n",
    "sns.set(rc={'figure.figsize':(10,5)})\n",
    "# Display plot\n",
    "# Code adapted from https://seaborn.pydata.org/tutorial/distributions.html\n",
    "plot = sns.distplot(test);"
   ]
  },
  {
   "cell_type": "markdown",
   "metadata": {},
   "source": [
    "<font color='blue'>[4] _Argument errors_ </font>"
   ]
  },
  {
   "cell_type": "code",
   "execution_count": 5,
   "metadata": {},
   "outputs": [],
   "source": [
    "# rand() routine with a zero value argument\n",
    "#print(np.random.rand(0)) # without comment generates AttributeError\n",
    "\n",
    "# rand() routine with negative value argument\n",
    "#print(np.random.rand(-2)) # without comment generates ValueError\n",
    "\n",
    "# rand() routine with one floating point number argument\n",
    "#print(np.random.rand(2.2)) # without comment generates TypeError"
   ]
  },
  {
   "cell_type": "markdown",
   "metadata": {},
   "source": [
    "#### <font color='blue'>numpy.random.randn()</font>\n",
    "numpy.random(**1**) routine randn() when called can take a variable number of arguments or dimensions (d0,d1,...,dn).  \n",
    "When run without an argument <font color='blue'>[1]</font>, it returns a random floating point number that can be positive or negative.\n",
    "\n",
    "When the randn() routine is run with one or more positive integer number arguments <font color='blue'>[2]</font>, it returns an numpy ndarray containing random positive or negative floating point numbers. The shape and size (number of dimensions) of the ndarray created depends on number of arguments and their numerical values. If a zero value argument is given the routine returns an empty ndarray. Otherwise, the values of the floating point numbers generated are samples from the normal or bell curve distribution <font color='blue'>[3]</font> for which the mean and most common value is centred on zero. The frequency of values left and right of the mean reduce exponentially to nothing giving a bell like shape to the distribution curve. The bell curve is a distribution that regularly occurs in nature and is often used to model natural systems (**8**).\n",
    "\n",
    "Negative values and floating point values are not acceptable argument values for the randn() routine <font color='blue'>[4]</font>. These generate ValueError and TypeError respectively.\n",
    "\n",
    "<font color='blue'>[1] _No arguments_ </font>"
   ]
  },
  {
   "cell_type": "code",
   "execution_count": 6,
   "metadata": {},
   "outputs": [
    {
     "name": "stdout",
     "output_type": "stream",
     "text": [
      "No argument result:\n",
      " -0.13921596849193513 <class 'float'>\n"
     ]
    }
   ],
   "source": [
    "# rand() routine without an argument\n",
    "test = np.random.randn()\n",
    "# Display result of test\n",
    "print(\"No argument result:\\n\",\n",
    "      test, type(test))"
   ]
  },
  {
   "cell_type": "markdown",
   "metadata": {},
   "source": [
    "<font color='blue'>[2] _One or more arguments_ </font>"
   ]
  },
  {
   "cell_type": "code",
   "execution_count": 7,
   "metadata": {},
   "outputs": [
    {
     "name": "stdout",
     "output_type": "stream",
     "text": [
      "One integer argument result:\n",
      " [2.14053119 2.11897718] <class 'numpy.ndarray'> \n",
      "\n",
      "Zero value argument result:\n",
      " [] <class 'numpy.ndarray'> \n",
      "\n",
      "Two integer arguments result:\n",
      " [[-1.15897423  1.04190299 -1.80212111]\n",
      " [ 0.59255473 -0.4235808  -0.85894913]] \n",
      "\n",
      "Three integer arguments result:\n",
      " [[[ 0.68424013  1.01635702]\n",
      "  [ 0.90308934 -0.3376593 ]\n",
      "  [ 0.44477731 -1.22176562]]\n",
      "\n",
      " [[-1.4133802  -0.29979518]\n",
      "  [-0.17175349 -0.03769319]\n",
      "  [ 1.2321776   0.59869971]]]\n"
     ]
    }
   ],
   "source": [
    "# randn() routine without an argument\n",
    "test = np.random.randn(2)\n",
    "# Display result of test\n",
    "print(\"One integer argument result:\\n\",\n",
    "      test, type(test), \"\\n\")\n",
    "\n",
    "# randn() routine with a zero value argument\n",
    "test = np.random.randn(0)\n",
    "# Display result of test\n",
    "print(\"Zero value argument result:\\n\",\n",
    "      test, type(test), \"\\n\")\n",
    "\n",
    "# randn() routine with two integer arguments\n",
    "print(\"Two integer arguments result:\\n\",\n",
    "      np.random.randn(2, 3), \"\\n\")\n",
    "\n",
    "# randn() routine with two integer arguments\n",
    "print(\"Three integer arguments result:\\n\",\n",
    "      np.random.randn(2, 3, 2))"
   ]
  },
  {
   "cell_type": "markdown",
   "metadata": {},
   "source": [
    "<font color='blue'>[3] _Sample range test_ </font>"
   ]
  },
  {
   "cell_type": "code",
   "execution_count": 8,
   "metadata": {},
   "outputs": [
    {
     "name": "stdout",
     "output_type": "stream",
     "text": [
      "Limits of values in 'test' Min: -4.3048468456 and Max: 4.0931720161\n"
     ]
    },
    {
     "data": {
      "image/png": "[encoded data removed]",
      "text/plain": [
       "<Figure size 720x360 with 1 Axes>"
      ]
     },
     "metadata": {},
     "output_type": "display_data"
    }
   ],
   "source": [
    "# Create test 1-d arrary with 10,000 values\n",
    "test = np.random.randn(100000)\n",
    "# Print Min and Max value in 'test' to 10 decimal places\n",
    "print(\"Limits of values in 'test' Min: {:,.10f} and Max: {:,.10f}\".format(\n",
    "    test.min(), test.max()))\n",
    "# Plot distribution of values in test\n",
    "plot = sns.distplot(test);"
   ]
  },
  {
   "cell_type": "markdown",
   "metadata": {},
   "source": [
    "<font color='blue'>[4] _Argument errors_ </font>"
   ]
  },
  {
   "cell_type": "code",
   "execution_count": 9,
   "metadata": {},
   "outputs": [],
   "source": [
    "# randn() routine with negative value argument\n",
    "#print(np.random.randn(-2)) # without comment generates ValueError\n",
    "\n",
    "# randn() routine with one floating point number argument\n",
    "#print(np.random.randn(2.2)) # without comment generates TypeError"
   ]
  },
  {
   "cell_type": "markdown",
   "metadata": {},
   "source": [
    "#### <font color='blue'>numpy.random.randint()</font>\n",
    "numpy.random(**1**) routine randint() when called can take a variable number of arguments (low, high=None, size=None, dtype='l'). randint() requires at least one positive number argument <font color='blue'>[1]</font>. Using no argument values generates a TypeError and a negative number generates a ValueError.\n",
    "\n",
    "When one positive number (integer or float) argument is used <font color='blue'>[2]</font>, randint() generates a random integer value in the range (**0 =< gen_value > arugment_value**). The generated number value can be zero but excludes the arugment_value number. If the argument_value number is a float, the routine first rounds the float number down to an integer value, basically dropping the fractional part of the number.\n",
    "\n",
    "Using two positive number (integer or float) arguments <font color='blue'>[3]</font>, the first argument is taken at a low_value and the second is taken as a high_value. randint() generates a random integer value in the range (**low_value =< gen_value > high_value**). The generated number value can be the low_value number but excludes the high_value number. For clarity of reading code the labels **low=** and **high=** can be used within the braces to identify which numbers are the low and high value<font color='blue'>[3]</font>.\n",
    "\n",
    "Adding a third positive number argument creates an NumPy ndarray <font color='blue'>[4]</font>, the size of which is determined by the value of the third argument. If the third argument is given two or more numbers separated by commas, this expands the dimensions of the ndarrary.\n",
    "The first two arguments determine the low and high range of the numbers generated. For clarity of reading code the labels **low=**, **high=** and **size=** can be used within the braces to indicate which argument each relates to. Alternatively with the size= label included and the high= label omitted the ndarray values generated is between 0 and the low= label value. The upper value of either range can not be a number choice for populating the ndarray.\n",
    "\n",
    "An optional argument to the change the desired integer output from a long 64bit integer to a short 32 bit integer using the **dtype=\"I\"** argument within the braces <font color='blue'>[5]</font>.\n",
    "\n",
    "The values of the integer numbers generated in the ndarray are uniformly distributed(**8**) between the lower value and higher value numbers <font color='blue'>[6]</font>.\n",
    "\n",
    "<font color='blue'>[1] _No argument_ </font>"
   ]
  },
  {
   "cell_type": "code",
   "execution_count": 10,
   "metadata": {},
   "outputs": [],
   "source": [
    "# randint() routine without an argument\n",
    "#print(np.random.randint()) # without comment generates TypeError: needs at least 1 positional argument\n",
    "\n",
    "# randint() routine with negative argument\n",
    "#print(np.random.randint(-1)) # without comment generates ValueError"
   ]
  },
  {
   "cell_type": "markdown",
   "metadata": {},
   "source": [
    "<font color='blue'>[2] _One positive number argument_ </font>"
   ]
  },
  {
   "cell_type": "code",
   "execution_count": 11,
   "metadata": {},
   "outputs": [
    {
     "name": "stdout",
     "output_type": "stream",
     "text": [
      "One integer argument result:\n",
      " 9 <class 'int'> \n",
      "\n",
      "One float argument result:\n",
      " 0 <class 'int'>\n"
     ]
    }
   ],
   "source": [
    "# randint() routine with one integer argument\n",
    "print(\"One integer argument result:\\n\", np.random.randint(10),\n",
    "      type(np.random.randint(10)), \"\\n\")\n",
    "\n",
    "# randint() routine with one float point number argument\n",
    "print(\"One float argument result:\\n\", np.random.randint(1.5),\n",
    "      type(np.random.randint(1.5))) # Only generates number 0"
   ]
  },
  {
   "cell_type": "markdown",
   "metadata": {},
   "source": [
    "<font color='blue'>[3] _Low and high number arguments_ </font>"
   ]
  },
  {
   "cell_type": "code",
   "execution_count": 12,
   "metadata": {},
   "outputs": [
    {
     "name": "stdout",
     "output_type": "stream",
     "text": [
      "Two integer arguments result:\n",
      " 10 <class 'int'> \n",
      "\n",
      "Two float arguments result:\n",
      " 10 \n",
      "\n",
      "Low and high labels result:\n",
      " 14\n"
     ]
    }
   ],
   "source": [
    "# randint() routine with two integer arguments\n",
    "test = np.random.randint(10, 20)\n",
    "# Print result of test\n",
    "print(\"Two integer arguments result:\\n\", test,\n",
    "      type(test), \"\\n\")\n",
    "\n",
    "# randint() routine with two float arguments\n",
    "print(\"Two float arguments result:\\n\",\n",
    "      np.random.randint(10.5, 11.5), \"\\n\") # Only generates number 10\n",
    "\n",
    "# randint() routine with low and high labels\n",
    "print(\"Low and high labels result:\\n\",\n",
    "      np.random.randint(low=10, high=20))"
   ]
  },
  {
   "cell_type": "markdown",
   "metadata": {},
   "source": [
    "<font color='blue'>[4] _Size number argument_ </font>"
   ]
  },
  {
   "cell_type": "code",
   "execution_count": 13,
   "metadata": {},
   "outputs": [
    {
     "name": "stdout",
     "output_type": "stream",
     "text": [
      "Three integer arguments result:\n",
      " [13 14 10 10 10 10 13 13 14 10 10 13 14 13 14 10 11 10 10 11] \n",
      " The size of <class 'numpy.ndarray'> is 20 \n",
      "\n",
      "Low high and size argument labels result:\n",
      " [[12 10 11]\n",
      " [14 13 12]] \n",
      " The size of <class 'numpy.ndarray'> is 6 \n",
      "\n",
      "Low and size argument labels result:\n",
      " [[[4 2 4 1 3]\n",
      "  [2 6 2 8 8]\n",
      "  [1 1 3 3 3]\n",
      "  [9 0 1 2 3]]\n",
      "\n",
      " [[2 8 3 0 7]\n",
      "  [1 4 9 9 5]\n",
      "  [5 6 4 1 0]\n",
      "  [9 5 6 7 4]]\n",
      "\n",
      " [[7 6 6 5 3]\n",
      "  [7 2 9 2 4]\n",
      "  [4 9 5 4 5]\n",
      "  [4 2 0 2 7]]] \n",
      " The size of <class 'numpy.ndarray'> is 60\n"
     ]
    }
   ],
   "source": [
    "# randint() routine with three arguments\n",
    "test = np.random.randint(10, 15 ,20)\n",
    "# Print result of test\n",
    "print(\"Three integer arguments result:\\n\", test, \"\\n\",\n",
    "      \"The size of\", type(test), \"is\", np.size(test), \"\\n\")\n",
    "\n",
    "# randint() routine with low, high and size argument labels\n",
    "test = np.random.randint(low=10, high=15 , size=(2, 3))\n",
    "# Print result of test\n",
    "print(\"Low high and size argument labels result:\\n\", test, \"\\n\",\n",
    "      \"The size of\", type(test), \"is\", np.size(test), \"\\n\")\n",
    "\n",
    "# randint() routine with low and size argument labels\n",
    "test = np.random.randint(low=10, size=(3, 4, 5))\n",
    "# Print result of test\n",
    "print(\"Low and size argument labels result:\\n\", test, \"\\n\",\n",
    "      \"The size of\", type(test), \"is\", np.size(test))"
   ]
  },
  {
   "cell_type": "markdown",
   "metadata": {},
   "source": [
    "<font color='blue'>[5] _Desired type_ </font>"
   ]
  },
  {
   "cell_type": "code",
   "execution_count": 14,
   "metadata": {},
   "outputs": [
    {
     "name": "stdout",
     "output_type": "stream",
     "text": [
      "Optional arguement desire type int32 result:\n",
      "\n"
     ]
    },
    {
     "data": {
      "text/plain": [
       "array([4, 8, 4, 1, 2], dtype=uint32)"
      ]
     },
     "execution_count": 14,
     "metadata": {},
     "output_type": "execute_result"
    }
   ],
   "source": [
    "# randint() routine with desired 32 bit integer output\n",
    "print(\"Optional arguement desire type int32 result:\\n\")\n",
    "np.random.randint(10, size=5, dtype='I')"
   ]
  },
  {
   "cell_type": "markdown",
   "metadata": {},
   "source": [
    "<font color='blue'>[6] _Sample range test_ </font>"
   ]
  },
  {
   "cell_type": "code",
   "execution_count": 15,
   "metadata": {
    "scrolled": true
   },
   "outputs": [
    {
     "name": "stdout",
     "output_type": "stream",
     "text": [
      "Limits of values in 'test' Min: 0 and Max: 999\n"
     ]
    },
    {
     "data": {
      "image/png": "[encoded data removed]",
      "text/plain": [
       "<Figure size 720x360 with 1 Axes>"
      ]
     },
     "metadata": {},
     "output_type": "display_data"
    }
   ],
   "source": [
    "# Create test 1-d arrary with 100,000 values between 0 and <1000\n",
    "test = np.random.randint(1000, size=100000)\n",
    "# Print Min and Max value in 'test'\n",
    "print(\"Limits of values in 'test' Min: {} and Max: {}\".format(\n",
    "    test.min(), test.max()))\n",
    "# Plot distribution of values in test\n",
    "plot = sns.distplot(test);"
   ]
  },
  {
   "cell_type": "markdown",
   "metadata": {},
   "source": []
  },
  {
   "cell_type": "code",
   "execution_count": null,
   "metadata": {},
   "outputs": [],
   "source": []
  },
  {
   "cell_type": "code",
   "execution_count": null,
   "metadata": {},
   "outputs": [],
   "source": []
  },
  {
   "cell_type": "markdown",
   "metadata": {},
   "source": [
    "### <font color='blue'>Permutations</font>\n"
   ]
  },
  {
   "cell_type": "markdown",
   "metadata": {},
   "source": [
    "### <font color='blue'>Distributions</font>\n"
   ]
  },
  {
   "cell_type": "code",
   "execution_count": null,
   "metadata": {},
   "outputs": [],
   "source": []
  },
  {
   "cell_type": "markdown",
   "metadata": {},
   "source": [
    "### <font color='blue'>Research References</font>\n",
    "\n",
    "**(1)** _NumPy.Random_\n",
    "- https://docs.scipy.org/doc/numpy-1.16.0/reference/routines.random.html\n",
    "- https://numpy.org/doc/1.17/reference/random/index.html\n",
    "\n",
    "**(2)** _Python Programming Language_\n",
    "- https://www.python.org/\n",
    "\n",
    "**(3)** _NumPy_\n",
    "- https://docs.scipy.org/doc/numpy-1.16.0/\n",
    "- https://www.quora.com/What-is-NumPy\n",
    "- https://docs.scipy.org/doc/numpy-1.16.0/user/whatisnumpy.html\n",
    "- https://numpy.org/devdocs/reference/arrays.ndarray.html\n",
    "- https://cloudxlab.com/blog/numpy-pandas-introduction/\n",
    "\n",
    "**(4)** _Random Numbers_\n",
    "- https://analyticstraining.com/random-numbers-applications/\n",
    "- https://engineering.mit.edu/engage/ask-an-engineer/can-a-computer-generate-a-truly-random-number/\n",
    "- https://en.wikipedia.org/wiki/Random_seed\n",
    "- https://www.random.org/randomness/\n",
    "- https://www.eg.bucknell.edu/~xmeng/Course/CS6337/Note/master/node37.html\n",
    "- https://en.wikipedia.org/wiki/Independence_(probability_theory)\n",
    "- https://www.ques10.com/p/3213/explain-the-properties-of-random-numbers/\n",
    "- https://machinelearningmastery.com/how-to-generate-random-numbers-in-python/\n",
    "\n",
    "**(5)** _Computer_Simulation_\n",
    "- https://en.wikipedia.org/wiki/Computer_simulation\n",
    "- https://www.britannica.com/technology/computer-simulation\n",
    "\n",
    "**(6)** _Monte Carlo Methods_\n",
    "- https://towardsdatascience.com/an-overview-of-monte-carlo-methods-675384eb1694\n",
    "\n",
    "**(7)** _Marked Down Formatting and Image Sources_\n",
    "- https://stackoverflow.com/questions/46439874/display-image-jupyter-notebook-aligned-centre\n",
    "- https://stackoverflow.com/questions/19746350/how-does-one-change-color-in-markdown-cells-ipython-jupyter-notebook\n",
    "- https://i0.wp.com/www.simplifiedpython.net/wp-content/uploads/2018/11/Python-NumPy-14.png?w=672&ssl=1\n",
    "\n",
    "**(8)** _Distribution Curves_\n",
    "- https://www.statisticshowto.datasciencecentral.com/uniform-distribution/\n",
    "- https://www.statisticshowto.datasciencecentral.com/probability-and-statistics/normal-distributions/"
   ]
  },
  {
   "cell_type": "code",
   "execution_count": null,
   "metadata": {},
   "outputs": [],
   "source": []
  },
  {
   "cell_type": "code",
   "execution_count": null,
   "metadata": {},
   "outputs": [],
   "source": []
  }
 ],
 "metadata": {
  "kernelspec": {
   "display_name": "Python 3",
   "language": "python",
   "name": "python3"
  },
  "language_info": {
   "codemirror_mode": {
    "name": "ipython",
    "version": 3
   },
   "file_extension": ".py",
   "mimetype": "text/x-python",
   "name": "python",
   "nbconvert_exporter": "python",
   "pygments_lexer": "ipython3",
   "version": "3.7.3"
  }
 },
 "nbformat": 4,
 "nbformat_minor": 2
}
