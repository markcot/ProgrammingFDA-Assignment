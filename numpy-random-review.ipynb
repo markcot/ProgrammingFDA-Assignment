{
 "cells": [
  {
   "cell_type": "markdown",
   "metadata": {},
   "source": [
    "# <font color='blue'>Programming for Data Analysis - Assignment</font> <img src=\"https://i0.wp.com/www.simplifiedpython.net/wp-content/uploads/2018/11/Python-NumPy-14.png?w=672&ssl=1\" width=\"350\" height=\"350\" align=\"right\"/>\n",
    "\n",
    "- **Course** Higher Diploma in Data Analytics, GMIT, Ireland \n",
    "- **Lecturer** Brian McGinley\n",
    "- **Author** Mark Cotter\n",
    "- **Email** g00376335@gmit.ie\n",
    "- **Dates** October 2019 to November 2019\n",
    "\n",
    "### <font color='blue'>Introduction</font>\n",
    "This document is my jupyter notebook file for the GMIT module 'Programming for Data Analysis' assignment. The assignment includes a review of the numpy.random(**1**) function included in the Python(**2**) library module NumPy(**3**). This jupyter notebook uses the Python programming language to illustrate routines included in this function.\n",
    "\n",
    "### <font color='blue'>Random numbers and seeds</font>\n",
    "Modern computers use randomly generated numbers for a multitude of purposes. Two important properties of a sequence of random numbers(**4**) are independence and uniformity.\n",
    "- Each number must be statistically independent of the previous number i.e. the probability of one number occurring is not dependent on another number\n",
    "- The numbers must have a equal/uniform probability of occurring. i.e. a sample of the numbers should be well distributed in the range\n",
    "\n",
    "Computers can not really generate random numbers(**4**) on their own. They are limited by their programming and follow rules based on various algorithms contained in the programming. Programs can be used to generate what appears to be a random sequence of numbers that are called **pseudo-random** numbers, but these are in fact a pattern with a very long repeat period. No matter how complex an algorithm, if you know what algorithm was used and you know the starting point of the computation, the results can be predicted and repeated. This starting point is referred to as the **seed** number of the algorithm. Seeds can be either a fixed or randomly selected numbers themselves such as using the current time in milliseconds.\n",
    "\n",
    "Sharing of a **pseudo-random seed** is often used for syncing security measures, where the seed number is commonly known by two or more remote pieces of equipment and is unknown to an outside observer. If the starting point of the algorithm is unknown, the outcome of an algorithm pattern can not be easily replicated.\n",
    "\n",
    "Another variation of computer based random numbers generation is called **'true random number generators'**, where the randomness of the number generated is based on a physical source connected to the computer such as background noise or the unpredictable decay of a radioactive source. This type of generator does not require a **seed**.\n",
    "\n",
    "Where large datasets have been gathered, sampling random(**4**) selections of the data can be used to reduce the quantity of data, thereby reducing the processing time for data analysis. Random numbers are also useful in data analysis for simulating data. Simulation(**5**) is often used to verify solutions for mathematical models of natural scientific systems. This allows analysts to make inferences and predictions from the models without having to undertake real experiments. Such experiments are often referred to as _Monte Carlo Methods_ (**6**). **'Pseudo-random number generators'** are more widely used for these experiments as the processes can be repeated after changing some variables and produce comparable results if the **seed** remains constant.\n",
    "\n",
    "### <font color='blue'>Description and purpose of numpy.random</font>\n",
    "\n",
    "#### <font color='blue'>NumPy Python library</font>\n",
    "NumPy(**3**) is a library module for Python. NumPy is an abbreviation of 'Numerical Python' or ‘Numeric Python’ and is generally used for scientific computing and number crunching. The core of NumPy are homogeneous multidimensional array objects referred to as _'ndarray'_. These objects can only contain items of the same type and size, are defined by their shape and are usually of fixed size. NumPy is often used with other Python libraries such as Pandas to overcome some of these limitations.\n",
    "NumPy utilises elements of compiled C and C++ programming code in the background so that operations undertaken on NumPy objects are very efficient, which is very desirable when dealing with large quantities of data.\n",
    "\n",
    "The NumPy library, its related functions such as numpy.random(**1**) and many other libraries are not initially loaded when Python is run and have to be imported into a live Python session."
   ]
  },
  {
   "cell_type": "code",
   "execution_count": 1,
   "metadata": {},
   "outputs": [],
   "source": [
    "# Import NumPy library\n",
    "import numpy as np\n",
    "# Import seaborn library\n",
    "import seaborn as sns"
   ]
  },
  {
   "cell_type": "markdown",
   "metadata": {},
   "source": [
    "#### <font color='blue'>numpy.random purpose</font>\n",
    "Python's NumPy library contains a function called numpy.random(**1**). This function includes various routines for **pseudo random number generation**. The **seed** used for the random generator can be randomly generated using a number of methods or can be set to a fixed number using the _numpy.random.seed()_ routine included in the **random generator** category of the function. The fixed seed number method is often used for repeating experiments. The random sequence of numbers generated from numpy.random routines are generally returned as NumPy ndarray objects of the required value type, size and shape. The random number generation routines are divided into three other main categories of the function as follows and discussed below:\n",
    "\n",
    "- Simple random data\n",
    "- Permutations\n",
    "- Distribution\n",
    "\n",
    "### <font color='blue'>Simple random data</font>\n",
    "Simple random data generate integer or float number or NumPy ndarrays of numbers in various ranges that in general follow either the simple uniform or normal distribution patterns(**8**).  A number of routines included in the numpy.random simple random data category are rand(), randn(), randint(), random(), choice() and bytes(). The following sub-sections explores these routines.\n",
    "\n",
    "#### <font color='blue'>numpy.random.rand()</font>\n",
    "rand() routine from numpy.random(**1**) can take a variable number of arguments or dimensions (d0,d1,...,dn).  \n",
    "When run without an argument <font color='blue'>[1]</font>, it returns a random floating point number in the range 0.0 to 1.0. \n",
    "\n",
    "When the rand() routine is run with one or more positive integer number arguments<font color='blue'>[2]</font>, it returns an NumPy ndarray containing random floating point numbers uniformly distributed(**8**) in the range 0.0 and 1.0<font color='blue'>[3]</font>. The shape and size (number of dimensions) of the ndarray created depends on the number of arguments and their numerical values. A zero value argument returns an empty NumPy ndarray<font color='blue'>[2]</font>.\n",
    "The numpy.random(**1**) website for rand() notes that the generated range is **[0, 1)** meaning that the generated value range is **(0 =< gen_value < 1)** so 0.0 is a possible number, but 1.0 is not a possible number in the range.\n",
    "\n",
    "Negative, float or string values are not acceptable arguments for the rand() routine <font color='blue'>[4]</font>.\n",
    "\n",
    "<font color='blue'> [1] *No argument* </font>"
   ]
  },
  {
   "cell_type": "code",
   "execution_count": 2,
   "metadata": {},
   "outputs": [
    {
     "name": "stdout",
     "output_type": "stream",
     "text": [
      "No argument:\n",
      " 0.092901193170711 <class 'float'>\n"
     ]
    }
   ],
   "source": [
    "# rand() routine with no argument\n",
    "test = np.random.rand()\n",
    "# Display result of test\n",
    "print(\"No argument:\\n\",\n",
    "      test, type(test))"
   ]
  },
  {
   "cell_type": "markdown",
   "metadata": {},
   "source": [
    "<font color='blue'>[2] *One or more integer arguments* </font>"
   ]
  },
  {
   "cell_type": "code",
   "execution_count": 3,
   "metadata": {
    "scrolled": true
   },
   "outputs": [
    {
     "name": "stdout",
     "output_type": "stream",
     "text": [
      "One integer argument(2):\n",
      " [0.10786847 0.65105145] <class 'numpy.ndarray'> \n",
      "\n",
      "Zero value argument:\n",
      " [] <class 'numpy.ndarray'> \n",
      "\n",
      "Two integer arguments(2,3):\n",
      " [[0.51151263 0.49313781 0.57559579]\n",
      " [0.23467794 0.75043742 0.97401371]] \n",
      "\n",
      "Three integer arguments(2,3,4):\n",
      " [[[0.61492336 0.56089959 0.57313911 0.90280615]\n",
      "  [0.06761872 0.95294401 0.60069153 0.26755809]\n",
      "  [0.49380009 0.69995738 0.8087534  0.23302024]]\n",
      "\n",
      " [[0.62939281 0.28551745 0.8221598  0.62196232]\n",
      "  [0.53828262 0.04662688 0.83208778 0.90640045]\n",
      "  [0.56759077 0.10914742 0.82038151 0.84887221]]]\n"
     ]
    }
   ],
   "source": [
    "# rand() routine with one integer argument\n",
    "test = np.random.rand(2)\n",
    "# Display result of test\n",
    "print(\"One integer argument(2):\\n\",\n",
    "      test, type(test), \"\\n\")\n",
    "\n",
    "# rand() routine with a zero value argument\n",
    "test = np.random.rand(0)\n",
    "# Display result of test\n",
    "print(\"Zero value argument:\\n\",\n",
    "      test, type(test), \"\\n\")\n",
    "\n",
    "# rand() routine with two integer arguments\n",
    "print(\"Two integer arguments(2,3):\\n\",\n",
    "      np.random.rand(2,3), \"\\n\")\n",
    "\n",
    "# rand() routine with three integer arguments\n",
    "print(\"Three integer arguments(2,3,4):\\n\",\n",
    "      np.random.rand(2,3,4))"
   ]
  },
  {
   "cell_type": "markdown",
   "metadata": {},
   "source": [
    "<font color='blue'>[3] *Sample range test* </font>"
   ]
  },
  {
   "cell_type": "code",
   "execution_count": 4,
   "metadata": {},
   "outputs": [
    {
     "name": "stdout",
     "output_type": "stream",
     "text": [
      "Limits of values in 'test' Min: 0.0000060356 and Max: 0.9999975804\n"
     ]
    },
    {
     "data": {
      "image/png": "[encoded data removed]",
      "text/plain": [
       "<Figure size 720x360 with 1 Axes>"
      ]
     },
     "metadata": {},
     "output_type": "display_data"
    }
   ],
   "source": [
    "# Create test 1-d arrary with 100,000 sample values\n",
    "test = np.random.rand(100000)\n",
    "# Print Min and Max value in 'test' to 10 decimal places\n",
    "print(\"Limits of values in 'test' Min: {:,.10f} and Max: {:,.10f}\".format(\n",
    "    test.min(), test.max()))\n",
    "# Plot distribution of values in test\n",
    "# Set seaborn plot size. Code adapted from https://stackoverflow.com/a/47955814\n",
    "sns.set(rc={'figure.figsize':(10,5)})\n",
    "# Display plot\n",
    "# Code adapted from https://seaborn.pydata.org/tutorial/distributions.html\n",
    "plot = sns.distplot(test);"
   ]
  },
  {
   "cell_type": "markdown",
   "metadata": {},
   "source": [
    "<font color='blue'>[4] *Argument errors* </font>"
   ]
  },
  {
   "cell_type": "code",
   "execution_count": 5,
   "metadata": {},
   "outputs": [],
   "source": [
    "# rand() routine with negative value argument\n",
    "#np.random.rand(-2) # without comment generates ValueError, negative not allowed\n",
    "\n",
    "# rand() routine with one float argument\n",
    "#np.random.rand(2.2) # without comment generates TypeError, float != int\n",
    "\n",
    "# rand() routine with one string argument\n",
    "#np.random.rand(\"a\") # without comment generates TypeError, str != int"
   ]
  },
  {
   "cell_type": "markdown",
   "metadata": {},
   "source": [
    "#### <font color='blue'>numpy.random.randn()</font>\n",
    "randn() routine from numpy.random(**1**) can take a variable number of arguments or dimensions (d0,d1,...,dn).  \n",
    "When run without an argument <font color='blue'>[1]</font>, it returns a random floating point number that can be positive or negative.\n",
    "\n",
    "When the randn() routine is run with one or more positive integer number arguments <font color='blue'>[2]</font>, it returns an numpy ndarray containing random positive or negative floating point numbers. The shape and size (number of dimensions) of the ndarray created depends on number of arguments and their numerical values. If a zero value argument is given the routine returns an empty ndarray. \n",
    "Otherwise, the values of the floating point numbers generated are sampled from the normal or bell curve distribution <font color='blue'>[3]</font> for which the mean and most expected value is centred on zero and the distribution has a standard deviation of approximately 1.0 and the majority of the resulting values lie between -3.0 and +3.0.\n",
    "The frequency of values left and right of the zero mean reduce exponentially to nothing giving a bell like shape to the distribution curve. The bell curve is a distribution that regularly occurs in nature and is often used to model natural systems (**8**).\n",
    "\n",
    "Negative, float and strings values are not acceptable arguments for the randn() routine <font color='blue'>[4]</font>.\n",
    "\n",
    "<font color='blue'>[1] *No arguments* </font>"
   ]
  },
  {
   "cell_type": "code",
   "execution_count": 6,
   "metadata": {},
   "outputs": [
    {
     "name": "stdout",
     "output_type": "stream",
     "text": [
      "No argument:\n",
      " 0.03846109464103311 <class 'float'>\n"
     ]
    }
   ],
   "source": [
    "# randn() routine without an argument\n",
    "test = np.random.randn()\n",
    "# Display result of test\n",
    "print(\"No argument:\\n\",\n",
    "      test, type(test))"
   ]
  },
  {
   "cell_type": "markdown",
   "metadata": {},
   "source": [
    "<font color='blue'>[2] *One or more arguments* </font>"
   ]
  },
  {
   "cell_type": "code",
   "execution_count": 7,
   "metadata": {},
   "outputs": [
    {
     "name": "stdout",
     "output_type": "stream",
     "text": [
      "One integer argument:\n",
      " [-1.1136953   0.90436751] <class 'numpy.ndarray'> \n",
      "\n",
      "Zero value argument:\n",
      " [] <class 'numpy.ndarray'> \n",
      "\n",
      "Two integer arguments:\n",
      " [[-1.02607877 -0.12621968 -1.37968025]\n",
      " [-0.25708287  1.09466573  2.13238062]] \n",
      "\n",
      "Three integer arguments:\n",
      " [[[ 0.09496068 -0.73533093]\n",
      "  [-1.20300065  0.81094234]\n",
      "  [ 0.0524579  -0.19820427]]\n",
      "\n",
      " [[ 0.86849461  0.60261235]\n",
      "  [-1.39053195 -0.58175819]\n",
      "  [ 1.19706145  0.55248126]]]\n"
     ]
    }
   ],
   "source": [
    "# randn() routine with one argument\n",
    "test = np.random.randn(2)\n",
    "# Display result of test\n",
    "print(\"One integer argument:\\n\",\n",
    "      test, type(test), \"\\n\")\n",
    "\n",
    "# randn() routine with a zero value argument\n",
    "test = np.random.randn(0)\n",
    "# Display result of test\n",
    "print(\"Zero value argument:\\n\",\n",
    "      test, type(test), \"\\n\")\n",
    "\n",
    "# randn() routine with two integer arguments\n",
    "print(\"Two integer arguments:\\n\",\n",
    "      np.random.randn(2, 3), \"\\n\")\n",
    "\n",
    "# randn() routine with three integer arguments\n",
    "print(\"Three integer arguments:\\n\",\n",
    "      np.random.randn(2, 3, 2))"
   ]
  },
  {
   "cell_type": "markdown",
   "metadata": {},
   "source": [
    "<font color='blue'>[3] *Sample range test* </font>"
   ]
  },
  {
   "cell_type": "code",
   "execution_count": 8,
   "metadata": {},
   "outputs": [
    {
     "name": "stdout",
     "output_type": "stream",
     "text": [
      "Limits of values in 'test' Min: -4.2197528821 and Max: 4.3887831887\n",
      "The standard deviation of the 'test' values is: 0.997546100562984\n"
     ]
    },
    {
     "data": {
      "image/png": "[encoded data removed]",
      "text/plain": [
       "<Figure size 720x360 with 1 Axes>"
      ]
     },
     "metadata": {},
     "output_type": "display_data"
    }
   ],
   "source": [
    "# Create test 1-d arrary with 100,000 values\n",
    "test = np.random.randn(100000)\n",
    "# Print Min and Max value in 'test' to 10 decimal places\n",
    "print(\"Limits of values in 'test' Min: {:,.10f} and Max: {:,.10f}\".format(\n",
    "    test.min(), test.max()))\n",
    "\n",
    "# Print Standard deviation of test\n",
    "# Standard deviation of 1 reference from 'Python for Data Analysis' by Wes McKinney\n",
    "print(\"The standard deviation of the 'test' values is:\",test.std())\n",
    "\n",
    "# Plot distribution of values in test\n",
    "plot = sns.distplot(test);"
   ]
  },
  {
   "cell_type": "markdown",
   "metadata": {},
   "source": [
    "<font color='blue'>[4] *Argument errors* </font>"
   ]
  },
  {
   "cell_type": "code",
   "execution_count": 9,
   "metadata": {},
   "outputs": [],
   "source": [
    "# randn() routine with negative value argument\n",
    "#np.random.randn(-2) # without comment generates ValueError, negative not allowed\n",
    "\n",
    "# randn() routine with one float argument\n",
    "#np.random.randn(2.2) # without comment generates TypeError, float != int\n",
    "\n",
    "# randn() routine with one string argument\n",
    "#np.random.randn(\"a\") # without comment generates TypeError, str != int"
   ]
  },
  {
   "cell_type": "markdown",
   "metadata": {},
   "source": [
    "#### <font color='blue'>numpy.random.randint()</font>\n",
    "randint() routine from numpy.random(**1**) can take a variable number of arguments (low, high=None, size=None, dtype='l'). randint() requires at least one positive number argument. Zero, negative or string values are not acceptable arguments for randint()<font color='blue'>[1]</font>.\n",
    "\n",
    "When one positive non-zero number (integer or float) argument is used <font color='blue'>[2]</font>, randint() generates a random integer value in the range (**0 =< gen_value > arugment_value**). In this case the argument_value is taken as the highest number limit and zero is taken as the lowest possible number for the range. The generated number value range can include zero but excludes the argument_value number. If the argument_value number is a float, the routine first rounds the float number down to an integer value, basically dropping the fractional part of the number.\n",
    "\n",
    "Using two positive number (integer or float) arguments <font color='blue'>[3]</font>, the first argument is taken at a low_value and the second is taken as a high_value. randint() generates a random integer value in the range (**low_value =< gen_value > high_value**). The generated number value range can include the low_value number but excludes the high_value number. For clarity the labels **low=** and **high=** can be used to identify which values are low and high<font color='blue'>[3]</font>.\n",
    "\n",
    "Adding a third positive number argument creates an NumPy ndarray <font color='blue'>[4]</font>, the size of which is determined by the value of the third argument. If the third argument is given two or more numbers separated by commas, this expands the dimensional size of the ndarrary generated.\n",
    "The first two arguments determine the low and high range of the numbers generated. For clarity the labels **low=**, **high=** and **size=** can be used to indicate which value each argument relates to.\n",
    "Alternatively with the **size=** label included and the **high=** label omitted the ndarray values generated is between 0 and up to the **low=** label value. The numbers generated for populating the ndarray will always be less than the upper value of either zero to low or low to high ranges.\n",
    "\n",
    "An optional argument can be used to the change the desired returned integer types from the default short 32 bit integers to longer 64 bit integers using the **dtype=\"int64\"** argument within the routine braces <font color='blue'>[5]</font>.\n",
    "\n",
    "The values of the integer numbers generated in the ndarray are uniformly distributed(**8**) between the lower value and upper value number range, including the lower value and excluding the upper value<font color='blue'>[6]</font>.\n",
    "\n",
    "<font color='blue'>[1] *Arguments errors* </font>"
   ]
  },
  {
   "cell_type": "code",
   "execution_count": 10,
   "metadata": {},
   "outputs": [],
   "source": [
    "# randint() routine without an argument\n",
    "#np.random.randint() # without comment generates TypeError,\n",
    "                     # at least 1 positional argument\n",
    "\n",
    "# randint() routine with negative argument\n",
    "#np.random.randint(-1) # without comment generates ValueError,\n",
    "                       # Range cannot be empty (low >= high)\n",
    "    \n",
    "# randint() routine with zero value argument\n",
    "#np.random.randint(0) # without comment generates ValueError,\n",
    "                      # Range cannot be empty (low >= high)\n",
    "    \n",
    "# randint() routine with string argument\n",
    "#np.random.randint(\"a\") # without comment generates ValueError, \n",
    "                        # str != int"
   ]
  },
  {
   "cell_type": "markdown",
   "metadata": {},
   "source": [
    "<font color='blue'>[2] *One positive number argument* </font>"
   ]
  },
  {
   "cell_type": "code",
   "execution_count": 11,
   "metadata": {},
   "outputs": [
    {
     "name": "stdout",
     "output_type": "stream",
     "text": [
      "One integer argument(10):\n",
      " 1 <class 'int'> \n",
      "\n",
      "One float argument(1.5):\n",
      " 0 <class 'int'>\n"
     ]
    }
   ],
   "source": [
    "# randint() routine with one integer argument\n",
    "print(\"One integer argument(10):\\n\", np.random.randint(10),\n",
    "      type(np.random.randint(10)), \"\\n\")\n",
    "\n",
    "# randint() routine with one float point number argument\n",
    "print(\"One float argument(1.5):\\n\", np.random.randint(1.5),\n",
    "      type(np.random.randint(1.5))) # Only generates number 0\n",
    "                                    # as 1 is set to upper limit"
   ]
  },
  {
   "cell_type": "markdown",
   "metadata": {},
   "source": [
    "<font color='blue'>[3] *Low and high number arguments* </font>"
   ]
  },
  {
   "cell_type": "code",
   "execution_count": 12,
   "metadata": {},
   "outputs": [
    {
     "name": "stdout",
     "output_type": "stream",
     "text": [
      "Two integer arguments(10-->20):\n",
      " 13 <class 'int'> \n",
      "\n",
      "Two float arguments(10.5-->11.5):\n",
      " 10 \n",
      "\n",
      "Low and high labels(10-->20):\n",
      " 13\n"
     ]
    }
   ],
   "source": [
    "# randint() routine with two integer arguments\n",
    "test = np.random.randint(10, 20)\n",
    "# Print result of test\n",
    "print(\"Two integer arguments(10-->20):\\n\", test,\n",
    "      type(test), \"\\n\")\n",
    "\n",
    "# randint() routine with two float arguments\n",
    "print(\"Two float arguments(10.5-->11.5):\\n\",\n",
    "      np.random.randint(10.5, 11.5), \"\\n\") # Only generates number 10,\n",
    "                                           # as 11 is set to upper limit\n",
    "                                           # and 10 to lower limit\n",
    "\n",
    "# randint() routine with low and high labels\n",
    "print(\"Low and high labels(10-->20):\\n\",\n",
    "      np.random.randint(low=10, high=20))"
   ]
  },
  {
   "cell_type": "markdown",
   "metadata": {},
   "source": [
    "<font color='blue'>[4] *Size number argument* </font>"
   ]
  },
  {
   "cell_type": "code",
   "execution_count": 13,
   "metadata": {},
   "outputs": [
    {
     "name": "stdout",
     "output_type": "stream",
     "text": [
      "Three integer arguments, (size=20):\n",
      " [13 10 11 10 10 11 11 10 11 10 10 14 13 13 11 14 13 13 11 13] \n",
      " The size of <class 'numpy.ndarray'> is 20 \n",
      "\n",
      "Low high and size argument labels, (size=2x3):\n",
      " [[12 14 13]\n",
      " [14 12 13]] \n",
      " The size of <class 'numpy.ndarray'> is 6 \n",
      "\n",
      "Low and size argument labels, (size=3x4x5):\n",
      " [[[9 6 9 8 3]\n",
      "  [4 7 6 6 7]\n",
      "  [9 4 4 5 8]\n",
      "  [0 1 3 8 2]]\n",
      "\n",
      " [[6 5 0 1 5]\n",
      "  [7 1 0 7 6]\n",
      "  [1 8 3 4 8]\n",
      "  [1 9 0 7 8]]\n",
      "\n",
      " [[1 5 6 2 5]\n",
      "  [3 2 7 5 6]\n",
      "  [6 3 8 4 6]\n",
      "  [4 4 1 8 0]]] \n",
      " The size of <class 'numpy.ndarray'> is 60\n"
     ]
    }
   ],
   "source": [
    "# randint() routine with three arguments\n",
    "test = np.random.randint(10, 15 ,20)\n",
    "# Print result of test\n",
    "print(\"Three integer arguments, (size=20):\\n\", test, \"\\n\",\n",
    "      \"The size of\", type(test), \"is\", np.size(test), \"\\n\")\n",
    "\n",
    "# randint() routine with low, high and size argument labels\n",
    "test = np.random.randint(low=10, high=15 , size=(2, 3))\n",
    "# Print result of test\n",
    "print(\"Low high and size argument labels, (size=2x3):\\n\", test, \"\\n\",\n",
    "      \"The size of\", type(test), \"is\", np.size(test), \"\\n\")\n",
    "\n",
    "# randint() routine with low and size argument labels\n",
    "test = np.random.randint(low=10, size=(3, 4, 5))\n",
    "# Print result of test\n",
    "print(\"Low and size argument labels, (size=3x4x5):\\n\", test, \"\\n\",\n",
    "      \"The size of\", type(test), \"is\", np.size(test))"
   ]
  },
  {
   "cell_type": "markdown",
   "metadata": {},
   "source": [
    "<font color='blue'>[5] *Desired type* </font>"
   ]
  },
  {
   "cell_type": "code",
   "execution_count": 14,
   "metadata": {},
   "outputs": [
    {
     "name": "stdout",
     "output_type": "stream",
     "text": [
      "Default desire type result:\n",
      " [3 0 3 7 3] \n",
      " Default desire type gives numbers of: <class 'numpy.int32'> \n",
      "\n",
      "Desire type int32 result:\n",
      " [2 2 5 6 1] \n",
      " Dtype=int32 desire type gives numbers of: <class 'numpy.int32'> \n",
      "\n",
      "Desire type int64 result:\n",
      " [1 7 5 4 3] \n",
      " Dtype=int64 desire type gives numbers of: <class 'numpy.int64'>\n"
     ]
    }
   ],
   "source": [
    "# randint() routine with default desired integer output type\n",
    "test = np.random.randint(10, size=5)\n",
    "# Print result of test\n",
    "# Data type test adapted from https://scikit-learn.org/stable/tutorial/basic/tutorial.html\n",
    "print(\"Default desire type result:\\n\", test, \"\\n\",\n",
    "      \"Default desire type gives numbers of:\", type(test[0]), \"\\n\")\n",
    "\n",
    "# randint() routine with desired 32 bit integer output\n",
    "test = np.random.randint(10, size=5, dtype='int32')\n",
    "# Print result of test\n",
    "print(\"Desire type int32 result:\\n\", test, \"\\n\",\n",
    "      \"Dtype=int32 desire type gives numbers of:\", type(test[0]), \"\\n\")\n",
    "\n",
    "# randint() routine with desired 64 bit integer output\n",
    "test = np.random.randint(10, size=5, dtype='int64')\n",
    "# Print result of test\n",
    "print(\"Desire type int64 result:\\n\", test, \"\\n\",\n",
    "      \"Dtype=int64 desire type gives numbers of:\", type(test[0]),)"
   ]
  },
  {
   "cell_type": "markdown",
   "metadata": {},
   "source": [
    "<font color='blue'>[6] *Sample range test* </font>"
   ]
  },
  {
   "cell_type": "code",
   "execution_count": 15,
   "metadata": {
    "scrolled": true
   },
   "outputs": [
    {
     "name": "stdout",
     "output_type": "stream",
     "text": [
      "Limits of values in 'test' Min: 10 and Max: 999\n"
     ]
    },
    {
     "data": {
      "image/png": "[encoded data removed]",
      "text/plain": [
       "<Figure size 720x360 with 1 Axes>"
      ]
     },
     "metadata": {},
     "output_type": "display_data"
    }
   ],
   "source": [
    "# Create test 1-d arrary with 100,000 values between 10 and <1000\n",
    "test = np.random.randint(low= 10, high=1000, size=100000)\n",
    "# Print Min and Max value in 'test'\n",
    "print(\"Limits of values in 'test' Min: {} and Max: {}\".format(\n",
    "    test.min(), test.max()))\n",
    "# Plot distribution of values in test\n",
    "plot = sns.distplot(test);"
   ]
  },
  {
   "cell_type": "markdown",
   "metadata": {},
   "source": [
    "#### <font color='blue'>numpy.random.random()</font>\n",
    "random() routine from numpy.random(**1**) can take one positive integer argument <font color='blue'>[4]</font> or None (size=None).\n",
    "When run without an argument <font color='blue'>[1]</font>, it returns a random floating point number in the range 0.0 to 1.0.\n",
    "\n",
    "When the random() routine is run with a positive integer argument, it returns a one dimensional NumPy ndarray containing random float numbers <font color='blue'>[2]</font>. For clarity the argument can be labeled as **size=**. The values of the float numbers generated are uniformly distributed(**8**) between 0.0 and 1.0 <font color='blue'>[3]</font>. A zero value argument returns an empty ndarray.\n",
    "The numpy.random(**1**) website for random() notes that the range is **[0, 1)** meaning that the generated value range is **(0 =< gen_value < 1)** so 0.0 is a possible number, but 1.0 is not a possible number in the range.\n",
    "\n",
    "More than one argument, float, negative or string values are not acceptable arguments for the random() routine<font color='blue'>[4]</font>.\n",
    "\n",
    "<font color='blue'>[1] *No arguments* </font>"
   ]
  },
  {
   "cell_type": "code",
   "execution_count": 16,
   "metadata": {},
   "outputs": [
    {
     "name": "stdout",
     "output_type": "stream",
     "text": [
      "No argument result:\n",
      " 0.029409707367849314 <class 'float'>\n"
     ]
    }
   ],
   "source": [
    "# random() routine without an argument\n",
    "test = np.random.random()\n",
    "# Display result of test\n",
    "print(\"No argument result:\\n\",\n",
    "     test, type(test))"
   ]
  },
  {
   "cell_type": "markdown",
   "metadata": {},
   "source": [
    "<font color='blue'>[2] *Size argument* </font>"
   ]
  },
  {
   "cell_type": "code",
   "execution_count": 17,
   "metadata": {},
   "outputs": [
    {
     "name": "stdout",
     "output_type": "stream",
     "text": [
      "Zero value argument:\n",
      " [] <class 'numpy.ndarray'> \n",
      "\n",
      "One non-zero postive argument(5):\n",
      " [0.41404969 0.89265629 0.95119907 0.68496533 0.08479945] <class 'numpy.ndarray'>\n"
     ]
    }
   ],
   "source": [
    "# random() routine with a zero value argument\n",
    "test = np.random.random(0)\n",
    "# Display result of test\n",
    "print(\"Zero value argument:\\n\",\n",
    "     test, type(test), \"\\n\")\n",
    "\n",
    "# random() routine one non-zero argument\n",
    "test = np.random.random(size=5)\n",
    "# Display result of test\n",
    "print(\"One non-zero postive argument(5):\\n\",\n",
    "     test, type(test))"
   ]
  },
  {
   "cell_type": "markdown",
   "metadata": {},
   "source": [
    "<font color='blue'>[3] *Sample range test* </font>"
   ]
  },
  {
   "cell_type": "code",
   "execution_count": 18,
   "metadata": {
    "scrolled": true
   },
   "outputs": [
    {
     "name": "stdout",
     "output_type": "stream",
     "text": [
      "Limits of values in 'test' Min: 0.0000179123 and Max: 0.9999761234\n"
     ]
    },
    {
     "data": {
      "image/png": "[encoded data removed]",
      "text/plain": [
       "<Figure size 720x360 with 1 Axes>"
      ]
     },
     "metadata": {},
     "output_type": "display_data"
    }
   ],
   "source": [
    "# Create test 1-d arrary with 100,000 values\n",
    "test = np.random.random(100000)\n",
    "# Print Min and Max value in 'test' to 10 decimal places\n",
    "print(\"Limits of values in 'test' Min: {:,.10f} and Max: {:,.10f}\".format(\n",
    "    test.min(), test.max()))\n",
    "# Plot distribution of values in test\n",
    "plot = sns.distplot(test);"
   ]
  },
  {
   "cell_type": "markdown",
   "metadata": {},
   "source": [
    "<font color='blue'>[4] *Argument errors* </font>"
   ]
  },
  {
   "cell_type": "code",
   "execution_count": 19,
   "metadata": {},
   "outputs": [],
   "source": [
    "# random() routine with two or more argument\n",
    "#np.random.random(2, 3) # without comment generates TypeError,\n",
    "                        #takes at most 1 positional argument\n",
    "\n",
    "# random() routine with one floating point number argument\n",
    "#np.random.random(2.2) # without comment generates TypeError,\n",
    "                       # float != int\n",
    "\n",
    "# random() routine with negative value argument\n",
    "#np.random.random(-2) # without comment generates ValueError,\n",
    "                      # negative not allowed\n",
    "\n",
    "# random() routine with string value argument\n",
    "#np.random.random(\"a\") # without comment generates TypeError,\n",
    "                       # str != int"
   ]
  },
  {
   "cell_type": "markdown",
   "metadata": {},
   "source": [
    "#### <font color='blue'>numpy.random.choice()</font>\n",
    "choice() routine from numpy.random(**1**) can take a number of arguments (a, size=None, replace=True, p=None), but needs at least one argument. No argument, float, negative or single string values are not acceptable arguments for the choice() routine<font color='blue'>[5]</font>.\n",
    "\n",
    "The first argument can be either a positive non-zero integer or an array of number or strings<font color='blue'>[1]</font>. The label **a=** can be used to identify this argument. If the first argument is an integer, the routine returns a random number in the range **0 =< gen_value > a**. Zero is possible selection, but the 'a' is not a possible selection. If the first argument is an array of either numbers or strings, the routine returns a random number or string from the array. If the elements of the array are mixed, the routine converts the elements to the highest type available in the order (int --> float --> string).\n",
    "\n",
    "Adding a second positive number argument creates an NumPy ndarray <font color='blue'>[2]</font>, the size of which is determined by the value of the second argument. If the second argument is given two or more numbers separated by commas, this expands the dimensions of the ndarray generated. For clarity the label **size=** can be used to indicate which value this argument relates to. A zero value size argument results in an empty ndarrary. The size argument can not be a negative, float or string value<font color='blue'>[5]</font>.\n",
    "\n",
    "The **replace** is optional argument that can be either **True** or **False**<font color='blue'>[3]</font>. By default it is set to True.\n",
    "If set to False, after each new integer/array element randomly is selected from the 'a' argument that selected value/element is no longer available for the remaining selections. For example if the range of 'a' is set to 30 numbers (0 to 29), the size of the ndarray is 30 and replace=False, all 30 numbers will be eventually selected for the populating the ndarray, which is more apparent if the array elements are sorted by value.\n",
    "If the replace option is set to False, the size of the ndarray has to be less than or equal to the range of 'a', otherwise the choice() routine runs out of elements to select<font color='blue'>[5]</font>, but can be useful ensuring that all elements are eventually selected.\n",
    "\n",
    "The **p** argument is another optional argument that can be used to alter the probability of selecting each element in 'a' <font color='blue'>[2]</font>. By default the probability of each element is uniform. If variable probabilities are used, the number/size/shape of the various probabilities argument **p** must equal the number/size/shape of elements in **a** argument and the sum of the probabilities in **p** must equal 1.0<font color='blue'>[5]</font>.\n",
    "Using this method each element in 'a' argument can be given a high, low or no percentage chance of being selected depending on the value of the equivalent position in the **p** argument.\n",
    "\n",
    "<font color='blue'>[1] *First argument* </font>"
   ]
  },
  {
   "cell_type": "code",
   "execution_count": 20,
   "metadata": {},
   "outputs": [
    {
     "name": "stdout",
     "output_type": "stream",
     "text": [
      "One integer argument(5):\n",
      " 0 <class 'int'> \n",
      "\n",
      "String array argument:\n",
      " a <class 'numpy.str_'> \n",
      "\n",
      "Number array argument:\n",
      " 7.8 <class 'numpy.float64'> \n",
      "\n",
      "Mixed number/string array argument:\n",
      " 4 <class 'numpy.str_'>\n"
     ]
    }
   ],
   "source": [
    "# choice() routine with one postive integer argument\n",
    "test = np.random.choice(5)\n",
    "# Display result of test\n",
    "print(\"One integer argument(5):\\n\",\n",
    "     test, type(test),\"\\n\")\n",
    "\n",
    "# choice() routine with one array of string argument\n",
    "# Code adapted from\n",
    "# https://docs.scipy.org/doc/numpy-1.16.0/reference/generated/numpy.random.choice.html#numpy.random.choice\n",
    "test = np.random.choice(a = [\"a\", \"b\", \"c\", \"d\", \"e\"])\n",
    "# Display result of test\n",
    "print(\"String array argument:\\n\",\n",
    "     test, type(test),\"\\n\")\n",
    "\n",
    "# choice() routine with one mixed array of numbers\n",
    "test = np.random.choice(a = [2, 4, 6, 5.5, 7.8])\n",
    "# Display result of test\n",
    "print(\"Number array argument:\\n\",\n",
    "     test, type(test),\"\\n\")\n",
    "\n",
    "# choice() routine with one mixed array of numbers/strings\n",
    "test = np.random.choice(a = [2, 4, 6, 5.5, \"b\"])\n",
    "# Display result of test\n",
    "print(\"Mixed number/string array argument:\\n\",\n",
    "     test, type(test))"
   ]
  },
  {
   "cell_type": "markdown",
   "metadata": {},
   "source": [
    "<font color='blue'>[2] *Size argument* </font>"
   ]
  },
  {
   "cell_type": "code",
   "execution_count": 21,
   "metadata": {},
   "outputs": [
    {
     "name": "stdout",
     "output_type": "stream",
     "text": [
      "Two postive integer argument(5, 3):\n",
      " [4 1 3] <class 'numpy.ndarray'> \n",
      "\n",
      "Zero size argument:\n",
      " [] <class 'numpy.ndarray'> \n",
      "\n",
      "String and size(2, 3) argument:\n",
      " [['b' 'c' 'b']\n",
      " ['a' 'e' 'b']] <class 'numpy.ndarray'>\n"
     ]
    }
   ],
   "source": [
    "# choice() routine with two postive integer argument\n",
    "test = np.random.choice(5, 3)\n",
    "# Display result of test\n",
    "print(\"Two postive integer argument(5, 3):\\n\",\n",
    "     test, type(test),\"\\n\")\n",
    "\n",
    "# choice() routine with a=integer and size=0 arguments\n",
    "test = np.random.choice(5, 0)\n",
    "# Display result of test\n",
    "print(\"Zero size argument:\\n\",\n",
    "     test, type(test),\"\\n\")\n",
    "\n",
    "# choice() routine with a string and size argument\n",
    "test = np.random.choice(a = [\"a\", \"b\", \"c\", \"d\", \"e\"], size = (2, 3))\n",
    "# Display result of test\n",
    "print(\"String and size(2, 3) argument:\\n\",\n",
    "     test, type(test))"
   ]
  },
  {
   "cell_type": "markdown",
   "metadata": {},
   "source": [
    "<font color='blue'>[3] *Replace argument* </font>"
   ]
  },
  {
   "cell_type": "code",
   "execution_count": 22,
   "metadata": {
    "scrolled": true
   },
   "outputs": [
    {
     "name": "stdout",
     "output_type": "stream",
     "text": [
      "Replace=True argument(0-->29):\n",
      " [21  4  3  6  1  6 12  4  6 22 26 22 13 24 10 25 17  0 27 18  2  9  1 19\n",
      " 15 14 23 10  0 10] <class 'numpy.ndarray'> \n",
      "\n",
      "Sorted replace=True argument(0-->29):\n",
      " [ 0  0  1  1  2  3  4  4  6  6  6  9 10 10 10 12 13 14 15 17 18 19 21 22\n",
      " 22 23 24 25 26 27] \n",
      "\n",
      "Replace=False argument(0-->29):\n",
      " [15  0 17 29  4  3 18 26  7  6  1 23  2  5 13 24 16  8 25 10 28 11 20 27\n",
      " 21 22  9 19 12 14] <class 'numpy.ndarray'> \n",
      "\n",
      "Sorted replace=False argument(0-->29):\n",
      " [ 0  1  2  3  4  5  6  7  8  9 10 11 12 13 14 15 16 17 18 19 20 21 22 23\n",
      " 24 25 26 27 28 29] \n",
      "\n",
      "Replace=True 'size'(30) > 'a'(10) argument:\n",
      " [4 9 4 6 7 5 0 9 4 6 4 9 0 4 6 7 3 0 9 3 7 4 5 3 6 9 9 5 1 6]\n"
     ]
    }
   ],
   "source": [
    "# choice() routine with replace=True size <= a\n",
    "test = np.random.choice(30, size=30, replace=True)\n",
    "# Display result of test\n",
    "print(\"Replace=True argument(0-->29):\\n\",\n",
    "     test, type(test),\"\\n\")\n",
    "# Display sort results of test\n",
    "print(\"Sorted replace=True argument(0-->29):\\n\",\n",
    "     np.sort(test),\"\\n\")\n",
    "\n",
    "# choice() routine with replace=False size <= a\n",
    "test = np.random.choice(30, size=30, replace=False)\n",
    "# Display result of test\n",
    "print(\"Replace=False argument(0-->29):\\n\",\n",
    "     test, type(test),\"\\n\")\n",
    "# Display sort results of test\n",
    "print(\"Sorted replace=False argument(0-->29):\\n\",\n",
    "     np.sort(test),\"\\n\")\n",
    "\n",
    "# choice() routine with replace=False size > a\n",
    "test = np.random.choice(a=10, size=30, replace=True)\n",
    "# Display sort results of test\n",
    "print(\"Replace=True 'size'(30) > 'a'(10) argument:\\n\",\n",
    "     (test))"
   ]
  },
  {
   "cell_type": "markdown",
   "metadata": {},
   "source": [
    "<font color='blue'>[4] *Probability argument* </font>"
   ]
  },
  {
   "cell_type": "code",
   "execution_count": 23,
   "metadata": {},
   "outputs": [
    {
     "name": "stdout",
     "output_type": "stream",
     "text": [
      "Sum of p = 1.0\n"
     ]
    },
    {
     "data": {
      "text/plain": [
       "array([0, 1, 0, 0, 0, 1, 2, 0, 0, 0, 1, 0, 0, 1, 1, 2, 0, 1, 1, 2, 2, 0,\n",
       "       0, 0, 0, 1, 1, 0, 1, 1], dtype=int64)"
      ]
     },
     "execution_count": 23,
     "metadata": {},
     "output_type": "execute_result"
    }
   ],
   "source": [
    "# choice() routine with ('p' = array) & (sum of 'p' != 1.0)\n",
    "# array of probabilities\n",
    "prob = [0.5, 0.3, 0.2, 0.0]\n",
    "# Print sum of probabilities in array\n",
    "print(\"Sum of p =\",np.sum(prob))\n",
    "# Display result of choice() with array of probabilities\n",
    "np.random.choice(a=4, size=30, p=prob)"
   ]
  },
  {
   "cell_type": "markdown",
   "metadata": {},
   "source": [
    "<font color='blue'>[5] *Argument errors* </font>"
   ]
  },
  {
   "cell_type": "code",
   "execution_count": 24,
   "metadata": {},
   "outputs": [],
   "source": [
    "# choice() routine with no argument\n",
    "#np.random.choice() # without comment generates TypeError,\n",
    "                    # takes at least 1 positional argument\n",
    "\n",
    "# choice() routine with zero number argument\n",
    "#np.random.choice(0) # without comment generates ValueError,\n",
    "                     # 'a' must be greater than 0\n",
    "\n",
    "# choice() routine with negative argument\n",
    "#np.random.choice(-1) # without comment generates ValueError,\n",
    "                     # 'a' must be greater than 0    \n",
    "    \n",
    "# choice() routine with float point number argument\n",
    "#np.random.choice(5.5) # without comment generates ValueError,\n",
    "                       # 'a' != int or array\n",
    "\n",
    "# choice() routine with string argument\n",
    "#np.random.choice(\"a\") # without comment generates ValueError,\n",
    "                       # str != int or array\n",
    "\n",
    "# choice() routine with negative size argument\n",
    "#np.random.choice(5, -1) # without comment generates ValueError,\n",
    "                         # negative not allowed\n",
    "\n",
    "# choice() routine with floating point size argument\n",
    "#np.random.choice(5, 2.5) # without comment generates TypeError,\n",
    "                          # float != int\n",
    "\n",
    "# choice() routine with string size argument\n",
    "#np.random.choice(5, \"si\") # without comment generates TypeError,\n",
    "                           # str != int\n",
    "\n",
    "# choice() routine with replace=False size(30) > a(10)\n",
    "#np.random.choice(a=10, size=30, replace=False) # without comment\n",
    "                        # generates ValueError, 'size'>'a'\n",
    "    \n",
    "# choice() routine with (size 'p') != (size 'a')\n",
    "#np.random.choice(a=10, size=30, p=[0.5, 0.1, 0.0, 0.4]) # without comment\n",
    "                        # generates ValueError 'a' & 'p' must be same size\n",
    "\n",
    "# choice() routine with sum of ('p' != 1.0)\n",
    "#np.random.choice(a=4, size=30, p=[0.5, 0.3, 0.1, 0.0]) # without comment\n",
    "                                # generates ValueError sum of 'p' != 1.0"
   ]
  },
  {
   "cell_type": "markdown",
   "metadata": {},
   "source": [
    "#### <font color='blue'>numpy.random.bytes()</font>\n",
    "\n",
    "bytes() routine from numpy.random(**1**) can take exactly one number argument<font color='blue'>[2]</font> and generates a random string of bytes, the length of which depends on the value of the number argument<font color='blue'>[1]</font>.\n",
    "If the argument is a float the fractional part of the number is dropped and the number is converted to an integer.\n",
    "\n",
    "The bytes() routine can not be run with no argument, multiple arguments, arrays, negative or string value arguments<font color='blue'>[2]</font>.\n",
    "\n",
    "<font color='blue'>[1] *One number argument* </font>"
   ]
  },
  {
   "cell_type": "code",
   "execution_count": 25,
   "metadata": {},
   "outputs": [
    {
     "name": "stdout",
     "output_type": "stream",
     "text": [
      "One int argument:  b'$/\\xbc\\x0bw' <class 'bytes'> of length 5 \n",
      "\n",
      "One float argument:  b\"\\xd9\\xf8\\xe8\\xbe'\" <class 'bytes'> of length 5\n"
     ]
    }
   ],
   "source": [
    "# bytes() routine with one integer argument\n",
    "test = np.random.bytes(5)\n",
    "# Display result of test\n",
    "print(\"One int argument: \", test, type(test), \"of length\", len(test),\"\\n\")\n",
    "\n",
    "# bytes() routine with one float argument\n",
    "test = np.random.bytes(5.5)\n",
    "# Display result of test\n",
    "print(\"One float argument: \", test, type(test), \"of length\", len(test))"
   ]
  },
  {
   "cell_type": "markdown",
   "metadata": {},
   "source": [
    "<font color='blue'>[2] *Argument errors* </font>"
   ]
  },
  {
   "cell_type": "code",
   "execution_count": 26,
   "metadata": {},
   "outputs": [],
   "source": [
    "# bytes() routine with No argument\n",
    "#np.random.bytes() # without comment generates TypeError,\n",
    "                   # bytes() takes exactly one argument\n",
    "\n",
    "# bytes() routine with negative argument\n",
    "#np.random.bytes(-1) # without comment generates SystemError,\n",
    "                     # Negative size passed\n",
    "\n",
    "# bytes() routine with string argument\n",
    "#np.random.bytes(\"a\") # without comment generates TypeError,\n",
    "                      # integer is required\n",
    "\n",
    "# bytes() routine with array argument\n",
    "#np.random.bytes([1, 3]) # without comment generates TypeError,\n",
    "                         # integer is required"
   ]
  },
  {
   "cell_type": "markdown",
   "metadata": {},
   "source": [
    "### <font color='blue'>Permutations</font>\n"
   ]
  },
  {
   "cell_type": "markdown",
   "metadata": {},
   "source": [
    "Permutation routine are generally used for shuffling elements in array_like objects. The permutations category of numpy.random include two routines called shuffle() and permutation(), which are explored in the following sub-sections.\n",
    "\n",
    "#### <font color='blue'>numpy.random.shuffle()</font>\n",
    "shuffle() routine from numpy.random(**1**) can take exactly one<font color='blue'>[4]</font> array_like object or a single string argument and changes the order of elements within that object<font color='blue'>[2]</font>. In the case of a single string object, there is only one element so no change is made<font color='blue'>[1]</font>. The routine returns **None**, but its purpose is only to modify the object passed to it. The routine can be run on the same object repeatedly to generate different results changing the object every time it runs<font color='blue'>[2]</font>.\n",
    "\n",
    "If a multi-dimensional array_like object such as a NumPy ndarray is passed to the routine, only the highest dimension/level of the array is shuffled<font color='blue'>[3]</font>. The lower dimension/level elements remain in the same relative positions nested within the highest shuffled level.\n",
    "\n",
    "The shuffle() routine can not be run with no argument, single number argument, multiple arguments or with a negative argument<font color='blue'>[4]</font>.\n",
    "\n",
    "<font color='blue'>[1] *Single string argument* </font>"
   ]
  },
  {
   "cell_type": "code",
   "execution_count": 27,
   "metadata": {},
   "outputs": [
    {
     "name": "stdout",
     "output_type": "stream",
     "text": [
      "Original string order:\n",
      " a <class 'str'>\n",
      "Shuffled string order:\n",
      " a <class 'str'> \n",
      "\n",
      "shuffle() routine returns:\n",
      " None\n"
     ]
    }
   ],
   "source": [
    "# single string object argument\n",
    "string = \"a\"\n",
    "# Display string\n",
    "print(\"Original string order:\\n\", string, type(string))\n",
    "# shuffle() single string object\n",
    "np.random.shuffle(string)\n",
    "# Display shuffled string\n",
    "print(\"Shuffled string order:\\n\", string, type(string), \"\\n\")\n",
    "\n",
    "# print what shuffle() routine returns\n",
    "print(\"shuffle() routine returns:\\n\", np.random.shuffle(string))"
   ]
  },
  {
   "cell_type": "markdown",
   "metadata": {},
   "source": [
    "<font color='blue'>[2] *One dimensional array object* </font>"
   ]
  },
  {
   "cell_type": "code",
   "execution_count": 28,
   "metadata": {},
   "outputs": [
    {
     "name": "stdout",
     "output_type": "stream",
     "text": [
      "Original 1-d array order:\n",
      " [0, 1, 2, 3, 4] <class 'list'>\n",
      "1st shuffle 1-d array order:\n",
      " [2, 4, 0, 1, 3] <class 'list'>\n",
      "2nd shuffle 1-d array order:\n",
      " [4, 3, 2, 0, 1] <class 'list'> \n",
      "\n",
      "Original 1-d string array order:\n",
      " ['a', 'b', 'c', 'd', 'e'] <class 'list'>\n",
      "1st shuffle 1-d string array order:\n",
      " ['d', 'a', 'c', 'b', 'e'] <class 'list'>\n",
      "2nd shuffle 1-d string array order:\n",
      " ['e', 'a', 'b', 'd', 'c'] <class 'list'> \n",
      "\n",
      "shuffle() routine returns:\n",
      " None\n"
     ]
    }
   ],
   "source": [
    "# 1-d array of numbers\n",
    "# Code adapted from \n",
    "# https://docs.scipy.org/doc/numpy-1.16.0/reference/generated/numpy.random.shuffle.html#numpy.random.shuffle\n",
    "array = [0, 1, 2, 3, 4]\n",
    "# Display array\n",
    "print(\"Original 1-d array order:\\n\", array, type(array))\n",
    "\n",
    "# shuffle() routine with 1-d array object\n",
    "test = np.random.shuffle(array)\n",
    "# Display result of test\n",
    "print(\"1st shuffle 1-d array order:\\n\", array, type(array))\n",
    "\n",
    "# shuffle() routine with 1-d array object\n",
    "test = np.random.shuffle(array)\n",
    "# Display result of test\n",
    "print(\"2nd shuffle 1-d array order:\\n\", array, type(array), \"\\n\")\n",
    "\n",
    "# 1-d array of strings\n",
    "# Code adapted from \n",
    "array = [\"a\", \"b\", \"c\", \"d\", \"e\"]\n",
    "# Display array\n",
    "print(\"Original 1-d string array order:\\n\", array, type(array))\n",
    "\n",
    "# shuffle() routine with one array object\n",
    "test = np.random.shuffle(array)\n",
    "# Display result of test\n",
    "print(\"1st shuffle 1-d string array order:\\n\", array, type(array))\n",
    "\n",
    "# shuffle() routine with one array object\n",
    "test = np.random.shuffle(array)\n",
    "# Display result of test\n",
    "print(\"2nd shuffle 1-d string array order:\\n\", array, type(array), \"\\n\")\n",
    "\n",
    "# print waht shuffle() routine returns\n",
    "print(\"shuffle() routine returns:\\n\", np.random.shuffle(array))"
   ]
  },
  {
   "cell_type": "markdown",
   "metadata": {},
   "source": [
    "<font color='blue'>[3] *Multi dimensional array objects* </font>"
   ]
  },
  {
   "cell_type": "code",
   "execution_count": 29,
   "metadata": {},
   "outputs": [
    {
     "name": "stdout",
     "output_type": "stream",
     "text": [
      "Original Multi-d array order:\n",
      " [[ 0  1  2  3]\n",
      " [ 4  5  6  7]\n",
      " [ 8  9 10 11]] <class 'numpy.ndarray'> \n",
      "\n",
      "1st shuffle Multi-d array order:\n",
      " [[ 8  9 10 11]\n",
      " [ 0  1  2  3]\n",
      " [ 4  5  6  7]] <class 'numpy.ndarray'> \n",
      "\n",
      "2nd shuffle Multi-d array order:\n",
      " [[ 4  5  6  7]\n",
      " [ 8  9 10 11]\n",
      " [ 0  1  2  3]] <class 'numpy.ndarray'>\n"
     ]
    }
   ],
   "source": [
    "# Multi-d ndarray of number object\n",
    "array = np.array([[0, 1, 2, 3], [4, 5, 6, 7], [8, 9, 10, 11]])\n",
    "# Display array\n",
    "print(\"Original Multi-d array order:\\n\", array, type(array), \"\\n\")\n",
    "\n",
    "# shuffle() routine with 2-d ndarray object\n",
    "test = np.random.shuffle(array)\n",
    "# Display result of test\n",
    "print(\"1st shuffle Multi-d array order:\\n\", array, type(array), \"\\n\")\n",
    "\n",
    "# shuffle() routine with 2-d ndarray object\n",
    "test = np.random.shuffle(array)\n",
    "# Display result of test\n",
    "print(\"2nd shuffle Multi-d array order:\\n\", array, type(array))"
   ]
  },
  {
   "cell_type": "markdown",
   "metadata": {},
   "source": [
    "<font color='blue'>[4] *Argument errors* </font>"
   ]
  },
  {
   "cell_type": "code",
   "execution_count": 30,
   "metadata": {},
   "outputs": [],
   "source": [
    "# shuffle() routine with No argument\n",
    "#np.random.shuffle() # without comment generates TypeError\n",
    "                     #takes exactly one argument\n",
    "\n",
    "# shuffle() routine with one positive argument\n",
    "#np.random.shuffle(5) # without comment generates TypeError\n",
    "                      # object has no length\n",
    "\n",
    "# shuffle() routine with two positive argument\n",
    "#np.random.shuffle(1, 2) # without comment generates TypeError\n",
    "                         # takes exactly one argument\n",
    "\n",
    "# shuffle() routine with negative argument\n",
    "#np.random.shuffle(-1) # without comment generates TypeError\n",
    "                       # object has no length"
   ]
  },
  {
   "cell_type": "markdown",
   "metadata": {},
   "source": [
    "#### <font color='blue'>numpy.random.permutation()</font>\n",
    "permutation() routine from numpy.random(**1**) can take exactly one single integer argument<font color='blue'>[1, 4]</font> or one array_like object(array, list or tuple) argument that included integers, floats or strings<font color='blue'>[2]</font>.\n",
    "\n",
    "When run with a single integer argument, the routine returns a NumPy ndarray containing a list of integers from 0 up to but not including the argument number. Each number in the range is included once and the order of the numbers is random. A zero or negative value argument returns an empty NumPy ndarray.\n",
    "\n",
    "For a one-dimensional array_like object, the routine returns a NumPy ndarrary with the elements shuffled around within the ndarray<font color='blue'>[2]</font>. NumPy ndarrays can only contain one member element type. Therefore, mixed element type lists/arrarys are converted to the highest type in the order (integer --> float --> string). In other words, mixed integers and floats are converted to floats and mixed numbers and strings are converted to strings.\n",
    "\n",
    "If a multi-dimensional array_like object such as a NumPy ndarray is passed to the routine, only the highest dimension/level of the array is shuffled<font color='blue'>[3]</font>. The lower dimension/level elements remain in the same relative positions nested within the highest shuffled level.\n",
    "\n",
    "The permutation() routine can not be run with no argument, multiple arguments, single float or single string value arguments<font color='blue'>[4]</font>.\n",
    "\n",
    "<font color='blue'>[1] *One number argument* </font>"
   ]
  },
  {
   "cell_type": "code",
   "execution_count": 31,
   "metadata": {},
   "outputs": [
    {
     "name": "stdout",
     "output_type": "stream",
     "text": [
      "One positive number argument(5):\n",
      " [0 3 1 4 2] <class 'numpy.ndarray'> \n",
      "\n",
      "Zero value argument:\n",
      " [] <class 'numpy.ndarray'> \n",
      "\n",
      "One negative number argument:\n",
      " [] <class 'numpy.ndarray'>\n"
     ]
    }
   ],
   "source": [
    "# permutation() routine with one positive number argument\n",
    "test = np.random.permutation(5)\n",
    "# Display result of test\n",
    "print(\"One positive number argument(5):\\n\", test, type(test), \"\\n\")\n",
    "\n",
    "# permutation() routine with zero value argument\n",
    "test = np.random.permutation(0)\n",
    "# Display result of test\n",
    "print(\"Zero value argument:\\n\", test, type(test), \"\\n\")\n",
    "\n",
    "# permutation() routine with one negative number object\n",
    "test = np.random.permutation(-2)\n",
    "# Display result of test\n",
    "print(\"One negative number argument:\\n\", test, type(test))"
   ]
  },
  {
   "cell_type": "markdown",
   "metadata": {},
   "source": [
    "<font color='blue'>[2] *One dimensional array object* </font>"
   ]
  },
  {
   "cell_type": "code",
   "execution_count": 32,
   "metadata": {},
   "outputs": [
    {
     "name": "stdout",
     "output_type": "stream",
     "text": [
      "Original 1-d interger list order:\n",
      " [0, 1, 2, 3] <class 'list'>\n",
      "1st permutation 1-d interger array order:\n",
      " [0 2 3 1] <class 'numpy.ndarray'>\n",
      "2st permutation 1-d interger array order:\n",
      " [0 2 1 3] <class 'numpy.ndarray'> \n",
      "\n",
      "Original 1-d float array order:\n",
      " [0.1 1.1 2.2 3.3] <class 'numpy.ndarray'>\n",
      "1st permutation 1-d float array order:\n",
      " [2.2 0.1 3.3 1.1] <class 'numpy.ndarray'> \n",
      "\n",
      "Original 1-d string array order:\n",
      " ['a' 'b' 'c' 'd'] <class 'numpy.ndarray'>\n",
      "1st permutation 1-d string array order:\n",
      " ['b' 'a' 'c' 'd'] <class 'numpy.ndarray'> \n",
      "\n",
      "Original tuple of mixed number types:\n",
      " (1, 2.5, 5) <class 'tuple'>\n",
      "1st permutation mixed number types:\n",
      " [2.5 5.  1. ] <class 'numpy.ndarray'>\n",
      "2nd permutation mixed number types:\n",
      " [1.  5.  2.5] <class 'numpy.ndarray'> \n",
      "\n",
      "Original list of mixed number/string types:\n",
      " [1, 2.5, 'a'] <class 'list'>\n",
      "1st permutation mixed number/string types:\n",
      " ['2.5' 'a' '1'] <class 'numpy.ndarray'>\n",
      "2nd permutation mixed number/string types:\n",
      " ['1' '2.5' 'a'] <class 'numpy.ndarray'>\n"
     ]
    }
   ],
   "source": [
    "# list of integers\n",
    "array = [0, 1, 2, 3]\n",
    "# Display array\n",
    "print(\"Original 1-d interger list order:\\n\", array, type(array))\n",
    "# permutation() routine with one array of integers\n",
    "test = np.random.permutation(array)\n",
    "# Display result of test\n",
    "print(\"1st permutation 1-d interger array order:\\n\", test, type(test))\n",
    "# permutation() routine with one array of integers\n",
    "test = np.random.permutation(array)\n",
    "# Display result of test\n",
    "print(\"2st permutation 1-d interger array order:\\n\", test, type(test), \"\\n\")\n",
    "\n",
    "# 1-d ndarray of floats\n",
    "array = np.array([0.1, 1.1, 2.2, 3.3])\n",
    "# Display array\n",
    "print(\"Original 1-d float array order:\\n\", array, type(array))\n",
    "# permutation() routine with one array of floats\n",
    "test = np.random.permutation(array)\n",
    "# Display result of test\n",
    "print(\"1st permutation 1-d float array order:\\n\", test, type(test), \"\\n\")\n",
    "\n",
    "# 1-d ndarray of strings\n",
    "array = np.array([\"a\", \"b\", \"c\", \"d\"])\n",
    "# Display array\n",
    "print(\"Original 1-d string array order:\\n\", array, type(array))\n",
    "# permutation() routine with one array of strings\n",
    "test = np.random.permutation(array)\n",
    "# Display result of test\n",
    "print(\"1st permutation 1-d string array order:\\n\", test, type(test), \"\\n\")\n",
    "\n",
    "# Tuple of mixed number types\n",
    "array = (1, 2.5, 5)\n",
    "# Display array\n",
    "print(\"Original tuple of mixed number types:\\n\", array, type(array))\n",
    "# permutation() routine with mixed number types\n",
    "test = np.random.permutation(array)\n",
    "# Display test\n",
    "print(\"1st permutation mixed number types:\\n\", test, type(test))\n",
    "# permutation() routine with mixed number types\n",
    "test = np.random.permutation(array)\n",
    "# Display test\n",
    "print(\"2nd permutation mixed number types:\\n\", test, type(test), \"\\n\")\n",
    "\n",
    "# list of mixed number/string types\n",
    "array = [1, 2.5, 'a']\n",
    "# Display array\n",
    "print(\"Original list of mixed number/string types:\\n\", array, type(array))\n",
    "# permutation() routine with mixed number/string types\n",
    "test = np.random.permutation(array)\n",
    "# Display test\n",
    "print(\"1st permutation mixed number/string types:\\n\", test, type(test))\n",
    "# permutation() routine with mixed number/string types\n",
    "test = np.random.permutation(array)\n",
    "# Display test\n",
    "print(\"2nd permutation mixed number/string types:\\n\", test, type(test))"
   ]
  },
  {
   "cell_type": "markdown",
   "metadata": {},
   "source": [
    "<font color='blue'>[3] *Multi dimensional array objects* </font>"
   ]
  },
  {
   "cell_type": "code",
   "execution_count": 33,
   "metadata": {},
   "outputs": [
    {
     "name": "stdout",
     "output_type": "stream",
     "text": [
      "Original Multi-d array order:\n",
      " [[ 0  1  2  3]\n",
      " [ 4  5  6  7]\n",
      " [ 8  9 10 11]] <class 'numpy.ndarray'> \n",
      "\n",
      "1st permutation Multi-d array order:\n",
      " [[ 8  9 10 11]\n",
      " [ 0  1  2  3]\n",
      " [ 4  5  6  7]] <class 'numpy.ndarray'> \n",
      "\n",
      "2nd permutation Multi-d array order:\n",
      " [[ 0  1  2  3]\n",
      " [ 4  5  6  7]\n",
      " [ 8  9 10 11]] <class 'numpy.ndarray'>\n"
     ]
    }
   ],
   "source": [
    "# Multi-d ndarray of number object\n",
    "array = np.array([[0, 1, 2, 3], [4, 5, 6, 7], [8, 9, 10, 11]])\n",
    "# Display array\n",
    "print(\"Original Multi-d array order:\\n\", array, type(array), \"\\n\")\n",
    "\n",
    "# permutation() routine with one array object\n",
    "test = np.random.permutation(array)\n",
    "# Display result of test\n",
    "print(\"1st permutation Multi-d array order:\\n\", test, type(test), \"\\n\")\n",
    "\n",
    "# permutation() routine with one array object\n",
    "test = np.random.permutation(array)\n",
    "# Display result of test\n",
    "print(\"2nd permutation Multi-d array order:\\n\", test, type(test))"
   ]
  },
  {
   "cell_type": "markdown",
   "metadata": {},
   "source": [
    "<font color='blue'>[4] *Argument errors* </font>"
   ]
  },
  {
   "cell_type": "code",
   "execution_count": 34,
   "metadata": {},
   "outputs": [],
   "source": [
    "# permutation() routine with No argument\n",
    "#np.random.permutation() # without comment generates TypeError\n",
    "                         # takes exactly one argument\n",
    "\n",
    "# permutation() routine with two positive argument\n",
    "#np.random.permutation(1, 2) # without comment generates TypeError\n",
    "                             #  takes exactly one argument\n",
    "\n",
    "# permutation() routine with float argument\n",
    "#np.random.permutation(1.5) # without comment generates IndexError\n",
    "\n",
    "# permutation() routine with string argument\n",
    "#np.random.permutation(\"g\") # without comment generates IndexError"
   ]
  },
  {
   "cell_type": "markdown",
   "metadata": {},
   "source": [
    "### <font color='blue'>Distributions</font>\n",
    "Distributions type random generators generally output integer or float numbers or NumPy ndarrays of numbers in various ranges that in general follow complex shape distribution patterns based on distribution equations(**8**). A selection of routines included in the numpy.random distributions category are beta(), binomial(), exponential(), logistic(), and poison() distributions. The following sub-sections explores these routines.\n",
    "\n",
    "#### <font color='blue'>numpy.random.beta()</font>\n",
    "beta() routine from numpy.random(**1**) takes samples from the beta distribution and can take a number of arguments (a, b, size=None). The distribution requires two shape parameters(**8**) $\\alpha$ and $\\beta$ that control the shape of the distribution using the following equation(**9**).\n",
    "\n",
    "$f(x;a,b) = \\frac{1}{B(\\alpha,\\beta)}x^{\\alpha-1}(1-x)^{\\beta-1}$ where the normalisation, $B$ function is $B(\\alpha,\\beta) = \\int_{0}^{1}t^{\\alpha-1}(1-t)^{\\beta-1}dt$\n",
    "\n",
    "The routine requires at least two positional arguments<font color='blue'>[4]</font>. The first and second arguments can be labeled as **a=** and **b=** respectively and both have to be non-zero positive integers, floats or one dimensional array_like objects (array/list/tuple) that contains numbers.\n",
    "Strings are not acceptable arguments.\n",
    "\n",
    "When two number arguments for 'a' and 'b' are used the routine generates a float between 0.0 and 1.0<font color='blue'>[1]</font>. If either or both of the 'a' and 'b' arguments are array_like objects the routine generates a NumPy ndarray, the size of which depends on the size of the array_like object.\n",
    "'a' and 'b' can not be multi-dimensional array_like objects or if both are array_like objects, they have to be of the same dimensional size<font color='blue'>[4]</font>.\n",
    "\n",
    "Adding a third argument determines the size and shape of the resulting ndarray<font color='blue'>[2]</font>. The third argument can be labeled as **size** and can be an integer or an array_like object containing integers. Size cannot be a float value and if size argument is used 'a' and 'b' have to be single number values<font color='blue'>[4]</font>.\n",
    "\n",
    "Varying the values of 'a' and 'b' give different distributions of resulting values<font color='blue'>[3]</font>. If 'a' and 'b' are both 1, the resulting distribution of values is more uniform(**8**). If 'a' and 'b' are the same and greater than 1 the distribution appears more like the normal or bell curve distribution with a peak at 0.5 and if less than 1 gives an inverted bell curve distribution with peaks near 0.0 and 1.0. If either 'a' or 'b' is higher than the other, the higher distribution is shewed closer to either 0.0 or 1.0.\n",
    "\n",
    "The beta distribution can be used to model a percentage range of anticipated outcomes of an event dependent on two shape factors, when the actually expected value is unknown, such as baseball batting average over a season(**8**).\n",
    "\n",
    "<font color='blue'>[1] *'a' and 'b' arguments* </font>"
   ]
  },
  {
   "cell_type": "code",
   "execution_count": 35,
   "metadata": {},
   "outputs": [
    {
     "name": "stdout",
     "output_type": "stream",
     "text": [
      "Two number arguments:\n",
      " 0.2919619905962687 <class 'float'> \n",
      "\n",
      "a = int, b = array_like:\n",
      " [0.6957103  0.91186393 0.80917159 0.84011085 0.73508602] <class 'numpy.ndarray'> \n",
      "\n",
      "a = array_like, b = int:\n",
      " [0.00529939 0.04722149 0.09879957 0.14728401 0.2157734 ] <class 'numpy.ndarray'> \n",
      "\n",
      "a, b = equal_sized array_like objects:\n",
      " [0.01357201 0.4339827  0.77234985] <class 'numpy.ndarray'>\n"
     ]
    }
   ],
   "source": [
    "# beta() routine with two number arguments\n",
    "test = np.random.beta(1.5, 5)\n",
    "# Print result of test\n",
    "print(\"Two number arguments:\\n\", test, type(test), \"\\n\")\n",
    "\n",
    "# beta() routine with a=int and b=array_like\n",
    "test = np.random.beta(a=13, b=[1, 2, 3, 4, 5])\n",
    "# Print result of test\n",
    "print(\"a = int, b = array_like:\\n\", test, type(test), \"\\n\")\n",
    "\n",
    "# beta() routine with a=array_like and b=int\n",
    "test = np.random.beta(a=[1, 2, 3, 4, 5], b=20)\n",
    "# Print result of test\n",
    "print(\"a = array_like, b = int:\\n\", test, type(test), \"\\n\")\n",
    "\n",
    "# beta() routine with a and b = equal array/list/tuple argument\n",
    "test = np.random.beta(a=[1, 2, 3], b=[5, 6, 7])\n",
    "# Print result of test\n",
    "print(\"a, b = equal_sized array_like objects:\\n\", test, type(test))"
   ]
  },
  {
   "cell_type": "markdown",
   "metadata": {},
   "source": [
    "<font color='blue'>[2] *Size argument* </font>"
   ]
  },
  {
   "cell_type": "code",
   "execution_count": 36,
   "metadata": {},
   "outputs": [
    {
     "name": "stdout",
     "output_type": "stream",
     "text": [
      "Three number arguments:\n",
      " [0.80293635 0.05554113 0.43425624 0.39178471 0.45431546] <class 'numpy.ndarray'> \n",
      "\n",
      "Size = multi-dimensional array:\n",
      " [[[0.27671129 0.47457442 0.29077126]\n",
      "  [0.46795287 0.34599889 0.51561013]]\n",
      "\n",
      " [[0.07804393 0.27444866 0.25572311]\n",
      "  [0.69528785 0.58986934 0.82665176]]\n",
      "\n",
      " [[0.27910338 0.38661838 0.39201117]\n",
      "  [0.31461708 0.24321661 0.0169367 ]]\n",
      "\n",
      " [[0.41581044 0.02346336 0.32650098]\n",
      "  [0.24274508 0.59490507 0.14257309]]] <class 'numpy.ndarray'>\n"
     ]
    }
   ],
   "source": [
    "# beta() routine with three number arguments\n",
    "test = np.random.beta(2, 3, 5)\n",
    "# Print result of test\n",
    "print(\"Three number arguments:\\n\", test, type(test), \"\\n\")\n",
    "\n",
    "# beta() routine with size = multi-dimentional array\n",
    "test = np.random.beta(a=2, b=3, size=[4, 2, 3])\n",
    "# Print result of test\n",
    "print(\"Size = multi-dimensional array:\\n\", test, type(test))"
   ]
  },
  {
   "cell_type": "markdown",
   "metadata": {},
   "source": [
    "<font color='blue'>[3] *Sample range test* </font>"
   ]
  },
  {
   "cell_type": "code",
   "execution_count": 37,
   "metadata": {},
   "outputs": [
    {
     "data": {
      "text/plain": [
       "<matplotlib.axes._subplots.AxesSubplot at 0x2f96f8fd0f0>"
      ]
     },
     "execution_count": 37,
     "metadata": {},
     "output_type": "execute_result"
    },
    {
     "data": {
      "image/png": "[encoded data removed]",
      "text/plain": [
       "<Figure size 720x360 with 1 Axes>"
      ]
     },
     "metadata": {},
     "output_type": "display_data"
    }
   ],
   "source": [
    "# Create a number of test 1-d arrarys with 10,000 values\n",
    "test_A = np.random.beta(a=1, b=5, size=10000)\n",
    "test_B = np.random.beta(a=5, b=1, size=10000)\n",
    "test_C = np.random.beta(a=1, b=1, size=10000)\n",
    "test_D = np.random.beta(a=5, b=5, size=10000)\n",
    "test_E = np.random.beta(a=0.1, b=0.1, size=10000)\n",
    "\n",
    "# Overlay plot distribution of values in 5 tests\n",
    "# Code adapted from https://stackoverflow.com/a/46046103\n",
    "# and https://seaborn.pydata.org/tutorial/distributions.html#distribution-tutorial\n",
    "sns.kdeplot(test_A, label=\"a=1, b=5\")\n",
    "sns.kdeplot(test_B, label=\"a=5, b=1\")\n",
    "sns.kdeplot(test_C, label=\"a=1, b=1\")\n",
    "sns.kdeplot(test_D, label=\"a=5, b=5\")\n",
    "sns.kdeplot(test_E, label=\"a=0.1, b=0.1\")"
   ]
  },
  {
   "cell_type": "markdown",
   "metadata": {},
   "source": [
    "<font color='blue'>[4] *Argument errors* </font>"
   ]
  },
  {
   "cell_type": "code",
   "execution_count": 38,
   "metadata": {},
   "outputs": [],
   "source": [
    "# beta() routine with No argument\n",
    "#np.random.beta() # without comment generates TypeError\n",
    "                 # takes at least 2 positional arguments\n",
    "\n",
    "# beta() routine with a<=0\n",
    "#np.random.beta(-1, 1) # without comment generates ValueError, a <= 0\n",
    "#np.random.beta(0, 1) # without comment generates ValueError, a <= 0\n",
    "    \n",
    "# beta() routine with b<=0\n",
    "#np.random.beta(1, -1) # without comment generates ValueError,\n",
    "                        # b <= 0\n",
    "#np.random.beta(1, 0) # without comment generates ValueError,\n",
    "                        # b <= 0\n",
    "\n",
    "# beta() routine with a = string\n",
    "#np.random.beta(\"a\", 0) # without comment generates ValueError,\n",
    "                        # a != string\n",
    "\n",
    "# beta() routine with b = string\n",
    "#np.random.beta(1, \"b\") # without comment generates ValueError,\n",
    "                        # b != string\n",
    "\n",
    "# beta() routine with a and b =array/list/tuple argument\n",
    "#np.random.beta(a=[1, 2, 3], b=[4, 5, 7, 8])  # without comment \n",
    "            # generates ValueError, size of b != size of a\n",
    "    \n",
    "# beta() routine with a=2-d array argument and b=number\n",
    "#np.random.beta([[1, 2, 3, 4], [5, 6, 7]], 1) # without comment\n",
    "                        # generates ValueError\n",
    "\n",
    "# beta() routine with a=number and b=2-d array argument\n",
    "#np.random.beta(a=1, b=[[1, 2, 3, 4], [5, 6, 7]]) # without comment\n",
    "                        # generates ValueError\n",
    "\n",
    "# beta() routine with size = float\n",
    "#np.random.beta(a=2, b=3, size=5.5) # without comment \n",
    "                        # generates TypeError \n",
    "\n",
    "# beta() routine with a/b=array size=int\n",
    "#np.random.beta(a=[4, 5], b=[6, 8], size=4) # without comment \n",
    "                        # generates ValueError"
   ]
  },
  {
   "cell_type": "markdown",
   "metadata": {},
   "source": [
    "#### <font color='blue'>numpy.random.binomial()</font>\n",
    "binomial() routine from numpy.random(**1**) takes samples from the binomial distribution and can take a number of arguments (n, p, size=None). The distribution requires two parameters(**8**) $n$ (number of trials of independent experiment) and $p$ (probability of success) that control the shape of the distribution using the following equation(**9**) for the probability $P$ for the number of successes $N$.\n",
    "\n",
    "$P(N) = (\\frac{n}{N})p^{N}(1 - p)^{n - N}$\n",
    "\n",
    "The routine requires at least two positional arguments<font color='blue'>[4]</font>. The first and second arguments can be labeled as **n** and **p** respectively.\n",
    "'n' has to be a positive number and can be integer, float or an array_like object(array/list/tuple) that contains numbers.\n",
    "'p' has to be a float or array_like object containing floats, the value/s of which must lie between 0.0 and 1.0<font color='blue'>[4]</font>.\n",
    "\n",
    "When two number arguments for 'n' and 'p' are used the routine generates an integer <font color='blue'>[1]</font>. The integer generated is in the range from 0 up to and including the value of 'n'. If 'n' is a float the fractional part of the float is dropped. A zero value for 'n' or 'p' will always result in a zero value integer being returned. A 1.0 value for 'p' will result in a 100% success rate for the 'n' test values and returns the 'n' value 100% of the time.\n",
    "If either or both of the 'n' and 'p' arguments are array_like objects, the routine generates a NumPy ndarray the size of which depends on the size of the orginal array_like object.\n",
    "When array_like objects are used for both 'n' and 'p', they have to match in each dimension<font color='blue'>[4]</font>.\n",
    "\n",
    "Adding a third argument determines the size and shape of the resulting ndarray<font color='blue'>[2]</font>. The third argument can be labeled as **size** and can be an integer or array_like containing integers. The size argument cannot be a float value and if the size argument is used, 'n' has to be integer/float number value and 'p' has to be a float and neither can be array-like.<font color='blue'>[4]</font>.\n",
    "\n",
    "Varying the values of 'n' and 'p' gives different distributions of values<font color='blue'>[3]</font>. In general the distribution results in a normal/bell curve shaped distribution with a mean value centred on the product value of multiplying 'n' and 'p'<font color='blue'>[3]</font>.\n",
    "For example if the number of tests (n) is 100 and the probability of success (p) is 0.5, the normal shaped bell curve distribution is centred on (100 * 0.5) = 50, whereas a probability of 0.1 or 0.9 would skew the distribution curve to left or right end of the 'n' value range.\n",
    "A probability of 0.5 gives a lower peak and wider spread of values (higher standard deviation) than probabilities which are closer to 0.0 or 1.0.\n",
    "\n",
    "The most well-known use of the binomial distribution is to predict the outcome of a coin toss(**8**). i.e. number of times heads are up in a given number of fair coin tosses. In this case the probability ($p$) of either heads or tails is 0.5 for a given number of tosses ($n$).\n",
    "\n",
    "<font color='blue'>[1] *'a' and 'p' arguments* </font>"
   ]
  },
  {
   "cell_type": "code",
   "execution_count": 39,
   "metadata": {},
   "outputs": [
    {
     "name": "stdout",
     "output_type": "stream",
     "text": [
      "'n' = zero, p=0.5:\n",
      " 0 <class 'int'> \n",
      "\n",
      "'p' = zero, n=5:\n",
      " 0 <class 'int'> \n",
      "\n",
      "'n' = positive float(1.5), p=0.9:\n",
      " 1 <class 'int'> \n",
      "\n",
      "'n' = large positive integer(50), p=0.5:\n",
      " 22 <class 'int'> \n",
      "\n",
      "'n' = array_like, p=0.5:\n",
      " [ 9 18 27] <class 'numpy.ndarray'> \n",
      "\n",
      "'p' = 1.0 or 100% success, n=50:\n",
      " 50 <class 'int'> \n",
      "\n",
      "'p' = array_like, n=50:\n",
      " [23 20  4] <class 'numpy.ndarray'> \n",
      "\n",
      "'n' and 'p' = array_like of equal_size:\n",
      " [10 15 17] <class 'numpy.ndarray'> \n",
      "\n",
      "'n' = multi-d array_like of equal_dimensional_scale, p=0.5:\n",
      " [[3 4 2]\n",
      " [3 3 1]\n",
      " [4 5 4]] <class 'numpy.ndarray'> \n",
      "\n",
      "'p' = Multi-d array_like of equal_dimensional_scale, n=10:\n",
      " [[ 2  7  2]\n",
      " [ 7  7  2]\n",
      " [ 7 10  3]] <class 'numpy.ndarray'>\n"
     ]
    }
   ],
   "source": [
    "# binomial() routine with n=zero and 0.0<p<1.0\n",
    "test = np.random.binomial(0, 0.5)\n",
    "# Print result of test\n",
    "print(\"'n' = zero, p=0.5:\\n\", test, type(test), \"\\n\")\n",
    "\n",
    "# binomial() routine with n=5 and p=zero\n",
    "test = np.random.binomial(n=5, p=0.0)\n",
    "# Print result of test\n",
    "print(\"'p' = zero, n=5:\\n\", test, type(test), \"\\n\")\n",
    "\n",
    "# binomial() routine with float_n>0 and 0.0<p<1.0\n",
    "test = np.random.binomial(n=1.5, p=0.9) # Only results in 0 or 1\n",
    "# Print result of test\n",
    "print(\"'n' = positive float(1.5), p=0.9:\\n\", test, type(test), \"\\n\")\n",
    "\n",
    "# binomial() routine with int_n>>0 and 0.0<p<1.0\n",
    "test = np.random.binomial(n=50, p=0.5)\n",
    "# Print result of test\n",
    "print(\"'n' = large positive integer(50), p=0.5:\\n\",\n",
    "      test, type(test), \"\\n\")\n",
    "\n",
    "# binomial() routine with n = array\n",
    "test = np.random.binomial(n=[20, 40, 60], p=0.5)\n",
    "# Print result of test\n",
    "print(\"'n' = array_like, p=0.5:\\n\", test, type(test), \"\\n\")\n",
    "\n",
    "# binomial() routine with int_n>>0 and p=1.0 or 100% success\n",
    "test = np.random.binomial(n=50, p=1.0)\n",
    "# Print result of test\n",
    "print(\"'p' = 1.0 or 100% success, n=50:\\n\", test, type(test), \"\\n\")\n",
    "\n",
    "# binomial() routine with p = array\n",
    "test = np.random.binomial(n=50, p=[0.5, 0.4, 0.2])\n",
    "# Print result of test\n",
    "print(\"'p' = array_like, n=50:\\n\", test, type(test), \"\\n\")\n",
    "\n",
    "# binomial() routine with n,p = equal_size_arrays\n",
    "test = np.random.binomial(n=[20, 40, 60], p=[0.5, 0.4, 0.2])\n",
    "# Print result of test\n",
    "print(\"'n' and 'p' = array_like of equal_size:\\n\", test, \n",
    "      type(test), \"\\n\")\n",
    "\n",
    "# binomial() routine with n=equal scale Multi-d_array\n",
    "test = np.random.binomial(n=[[4, 5, 3], [6, 7, 3], [8, 9, 4]], p=0.5)\n",
    "# Print result of test\n",
    "print(\"'n' = multi-d array_like of equal_dimensional_scale, p=0.5:\\n\",\n",
    "      test, type(test), \"\\n\")\n",
    "\n",
    "# binomial() routine with n=equal scale Multi-d_array\n",
    "test = np.random.binomial(n=10, p=[[0.2, 0.5, 0.3], [0.6, 0.7, 0.3],\n",
    "                                   [0.8, 0.9, 0.4]])\n",
    "# Print result of test\n",
    "print(\"'p' = Multi-d array_like of equal_dimensional_scale, n=10:\\n\", \n",
    "      test, type(test))"
   ]
  },
  {
   "cell_type": "markdown",
   "metadata": {},
   "source": [
    "<font color='blue'>[2] *Size argument* </font>"
   ]
  },
  {
   "cell_type": "code",
   "execution_count": 40,
   "metadata": {},
   "outputs": [
    {
     "name": "stdout",
     "output_type": "stream",
     "text": [
      "size = int:\n",
      " [4 5 5] <class 'numpy.ndarray'> \n",
      "\n",
      "size = array:\n",
      " [[[8 5 7 7]\n",
      "  [6 5 3 5]\n",
      "  [3 6 5 5]]\n",
      "\n",
      " [[6 8 7 2]\n",
      "  [5 8 7 2]\n",
      "  [5 4 6 6]]] <class 'numpy.ndarray'>\n"
     ]
    }
   ],
   "source": [
    "# binomial() routine with n/p=array size=int\n",
    "test = np.random.binomial(n=10, p=0.5, size=3)\n",
    "# Print result of test\n",
    "print(\"size = int:\\n\", test, type(test), \"\\n\")\n",
    "\n",
    "# binomial() routine with n/p=array size=array\n",
    "test = np.random.binomial(n=10, p=0.5, size=[2, 3, 4])\n",
    "# Print result of test\n",
    "print(\"size = array:\\n\", test, type(test))"
   ]
  },
  {
   "cell_type": "markdown",
   "metadata": {},
   "source": [
    "<font color='blue'>[3] *Sample range test* </font>"
   ]
  },
  {
   "cell_type": "code",
   "execution_count": 41,
   "metadata": {},
   "outputs": [
    {
     "name": "stdout",
     "output_type": "stream",
     "text": [
      "n:100 p:0.10 gives --> mean:9.99 std:2.99\n",
      "n:100 p:0.25 gives --> mean:24.97 std:4.37\n",
      "n:100 p:0.50 gives --> mean:50.11 std:4.91\n",
      "n:100 p:0.75 gives --> mean:74.97 std:4.39\n",
      "n:100 p:0.90 gives --> mean:90.00 std:2.99\n"
     ]
    },
    {
     "data": {
      "text/plain": [
       "<matplotlib.axes._subplots.AxesSubplot at 0x2f96f9b80f0>"
      ]
     },
     "execution_count": 41,
     "metadata": {},
     "output_type": "execute_result"
    },
    {
     "data": {
      "image/png": "[encoded data removed]",
      "text/plain": [
       "<Figure size 720x360 with 1 Axes>"
      ]
     },
     "metadata": {},
     "output_type": "display_data"
    }
   ],
   "source": [
    "# Create a number of test 1-d arrarys with 10,000 values\n",
    "test_A = np.random.binomial(n=100, p=0.10, size=10000)\n",
    "test_B = np.random.binomial(n=100, p=0.25, size=10000)\n",
    "test_C = np.random.binomial(n=100, p=0.50, size=10000)\n",
    "test_D = np.random.binomial(n=100, p=0.75, size=10000)\n",
    "test_E = np.random.binomial(n=100, p=0.90, size=10000)\n",
    "\n",
    "# print mean values\n",
    "# Mean value noted from https://en.wikipedia.org/wiki/Binomial_distribution\n",
    "print(\"n:{} p:{:.2f} gives --> mean:{:.2f} std:{:.2f}\".format(\n",
    "        100, 0.10, np.mean(test_A), np.std(test_A)))\n",
    "print(\"n:{} p:{:.2f} gives --> mean:{:.2f} std:{:.2f}\".format(\n",
    "        100, 0.25, np.mean(test_B), np.std(test_B)))\n",
    "print(\"n:{} p:{:.2f} gives --> mean:{:.2f} std:{:.2f}\".format(\n",
    "        100, 0.50, np.mean(test_C), np.std(test_C)))\n",
    "print(\"n:{} p:{:.2f} gives --> mean:{:.2f} std:{:.2f}\".format(\n",
    "        100, 0.75, np.mean(test_D), np.std(test_D)))\n",
    "print(\"n:{} p:{:.2f} gives --> mean:{:.2f} std:{:.2f}\".format(\n",
    "        100, 0.90, np.mean(test_E), np.std(test_E)))\n",
    "\n",
    "# Overlay plot distribution of values in 5 tests\n",
    "sns.kdeplot(test_A, label=\"n=100, p=0.10\")\n",
    "sns.kdeplot(test_B, label=\"n=100, p=0.25\")\n",
    "sns.kdeplot(test_C, label=\"n=100, p=0.50\")\n",
    "sns.kdeplot(test_D, label=\"n=100, p=0.75\")\n",
    "sns.kdeplot(test_E, label=\"n=100, p=0.90\")"
   ]
  },
  {
   "cell_type": "markdown",
   "metadata": {},
   "source": [
    "<font color='blue'>[4] *Argument errors* </font>"
   ]
  },
  {
   "cell_type": "code",
   "execution_count": 42,
   "metadata": {},
   "outputs": [],
   "source": [
    "# binomial() routine with No argument\n",
    "#np.random.binomial() # without comment generates TypeError\n",
    "                 # takes at least 2 positional arguments\n",
    "    \n",
    "# binomial() routine with negative 'n'\n",
    "#np.random.binomial(-1, 1) # without comment generates ValueError, n < 0\n",
    "\n",
    "# binomial() routine with 'p'< 0\n",
    "#np.random.binomial(5, -1) # without comment generates ValueError, p < 0\n",
    "\n",
    "# binomial() routine with 'p'> 1\n",
    "#np.random.binomial(5, 2) # without comment generates ValueError, p > 1\n",
    "\n",
    "# binomial() routine with n = string\n",
    "#np.random.binomial(\"n\", 0) # without comment generates ValueError, \n",
    "                        # n != string\n",
    "\n",
    "# binomial() routine with b = string\n",
    "#np.random.binomial(1, \"p\") # without comment generates ValueError, \n",
    "                        # p != string\n",
    "\n",
    "# binomial() routine with n & p = unequal size arrarys\n",
    "#np.random.binomial([6, 2, 3], [0.5, 0.4]) # without comment \n",
    "                        # generates ValueError, size_n != size_p\n",
    "\n",
    "# binomial() routine with n=unequal scale Multi-d_array\n",
    "#np.random.binomial(n=[[4, 5 ,3], [7, 3], [8, 9 ,4]], p=0.5)\n",
    "                        # without comment generates ValueError\n",
    "\n",
    "# binomial() routine with p=unequal scale Multi-d_array\n",
    "#np.random.binomial(n=2, p=0.5, size=5.5) # without comment \n",
    "                        # generates TypeError, size != float\n",
    "\n",
    "# binomial() routine with n/p=array size=int\n",
    "#np.random.binomial(n=[4, 5], p=[0.5, 0.4], size=4) # without comment \n",
    "                        # generates ValueError\n",
    "\n",
    "# binomial() routine with n/p=array size=array\n",
    "#np.random.binomial(n=[4, 5], p=[0.5, 0.4], size=[2, 1]) \n",
    "                        # without comment generates ValueError"
   ]
  },
  {
   "cell_type": "markdown",
   "metadata": {},
   "source": [
    "#### <font color='blue'>numpy.random.exponential()</font>\n",
    "exponential() routine from numpy.random(**1**) takes samples from the exponential distribution and can take a number of arguments (scale=1.0, size=None). The distribution has one parameter(**8**) **$\\beta$** or scale that control the shape of the distribution using the following equation(**9**).\n",
    "\n",
    "$f(x;\\frac{1}{\\beta}) = \\frac{1}{\\beta}exp(-\\frac{x}{\\beta})$ for x > 0 and equal to 0 elsewhere.\n",
    "\n",
    "When the routine is run with no or one positive number arguments, a positive float is returned<font color='blue'>[1]</font>. The value of the argument determines the number generated and can be labeled as **scale**. The numpy.random(**1**) website notes that the default value of scale is 1.0. A zero scale argument return a zero value float.\n",
    "An array_like object for the scale argument returns an NumPy ndarray of the same size/shape as the original object that now contains floats. For a multi-dimensional array scale argument, the array must be of equal dimensional scale<font color='blue'>[4]</font>.\n",
    "\n",
    "A second argument can be used to determine the shape/size of the ndarray generated and is labeled as **size**<font color='blue'>[2]</font>. Size can be an integer or an array_like object containing integers, but neither option can include floats or strings<font color='blue'>[4]</font>. If the size argument is used, 'scale' has to be integer/float number and cannot be array-like<font color='blue'>[4]</font>.\n",
    "\n",
    "Varying the 'scale' ($\\beta$) value alters the shape of the distributions values<font color='blue'>[3]</font>. In general, the closer to zero the $\\beta$ value, the higher the probability the resulting number will be close to zero. As $\\beta$ value increases the probability of a larger resulting number gets slightly higher, but the majority of numbers will still be close to zero. The mean or expected value and the standard deviation in the distribution both approximately equal the $\\beta$ value.<font color='blue'>[3]</font>.\n",
    "\n",
    "The exponential distribution is widely used to model time elapsed between events(**8**) when the expected mean number of events in a given time period is known.\n",
    "\n",
    "<font color='blue'>[1] *No or single scale argument* </font>"
   ]
  },
  {
   "cell_type": "code",
   "execution_count": 43,
   "metadata": {},
   "outputs": [
    {
     "name": "stdout",
     "output_type": "stream",
     "text": [
      "No arguments test:\n",
      " 2.942708570514719 <class 'float'> \n",
      "\n",
      "scale = integer(1):\n",
      " 0.31443793157245753 <class 'float'> \n",
      "\n",
      "scale = zero:\n",
      " 0.0 <class 'float'> \n",
      "\n",
      "scale = 50:\n",
      " 49.801679443241866 <class 'float'> \n",
      "\n",
      "scale = float:\n",
      " 1.03092289665699 <class 'float'> \n",
      "\n",
      "scale = array_like:\n",
      " [0.26998763 7.31273038 4.51688724] <class 'numpy.ndarray'> \n",
      "\n",
      "scale = Multi-d array_like of equal_dimensional_scale:\n",
      " [[1.28962781e-03 8.38811662e-01 1.67156315e+01]\n",
      " [8.67725212e+00 8.12296693e+00 9.58308927e+00]\n",
      " [4.69188265e+00 2.18749142e+00 9.09051562e+00]] <class 'numpy.ndarray'> \n",
      "\n"
     ]
    }
   ],
   "source": [
    "# exponential() routine with no argument\n",
    "test = np.random.exponential()\n",
    "# Print result of test\n",
    "print(\"No arguments test:\\n\", test, type(test), \"\\n\")\n",
    "\n",
    "# exponential() routine with scale = int\n",
    "test = np.random.exponential(1)\n",
    "# Print result of test\n",
    "print(\"scale = integer(1):\\n\", test, type(test), \"\\n\")\n",
    "\n",
    "# exponential() routine with scale = zero\n",
    "test = np.random.exponential(scale=0)\n",
    "# Print result of test\n",
    "print(\"scale = zero:\\n\", test, type(test), \"\\n\")\n",
    "\n",
    "# exponential() routine with scale = 50\n",
    "test = np.random.exponential(scale=50)\n",
    "# Print result of test\n",
    "print(\"scale = 50:\\n\", test, type(test), \"\\n\")\n",
    "\n",
    "# exponential() routine with scale = float>0\n",
    "test = np.random.exponential(scale=1.5)\n",
    "# Print result of test\n",
    "print(\"scale = float:\\n\", test, type(test), \"\\n\")\n",
    "\n",
    "# exponential() routine with scale = array\n",
    "test = np.random.exponential(scale=[2, 4, 6])\n",
    "# Print result of test\n",
    "print(\"scale = array_like:\\n\", test, type(test), \"\\n\")\n",
    "\n",
    "# exponential() routine with scale = equal scale Multi-d_array\n",
    "test = np.random.exponential(scale=[[2, 4, 6], [4, 6, 9], [3, 4, 7]])\n",
    "# Print result of test\n",
    "print(\"scale = Multi-d array_like of equal_dimensional_scale:\\n\",\n",
    "      test, type(test), \"\\n\")"
   ]
  },
  {
   "cell_type": "markdown",
   "metadata": {},
   "source": [
    "<font color='blue'>[2] *Size argument* </font>"
   ]
  },
  {
   "cell_type": "code",
   "execution_count": 44,
   "metadata": {},
   "outputs": [
    {
     "name": "stdout",
     "output_type": "stream",
     "text": [
      "size = int:\n",
      " [0.37520076 3.44171816 0.18536749 1.54479407 0.70218465] <class 'numpy.ndarray'> \n",
      "\n",
      "size = array:\n",
      " [[[0.26233273 1.62247124 0.33169718 2.38651339]\n",
      "  [0.46922728 0.40755255 3.10330035 0.26352771]\n",
      "  [2.261915   0.635549   1.54319136 0.99965331]]\n",
      "\n",
      " [[1.86041301 0.13735852 0.44093313 0.14145322]\n",
      "  [2.2129809  1.01043081 2.42319014 0.8872728 ]\n",
      "  [1.14413524 3.0402756  0.76358541 0.75687387]]] <class 'numpy.ndarray'>\n"
     ]
    }
   ],
   "source": [
    "# exponential() routine with scale=int size=int\n",
    "test = np.random.exponential(scale=1, size=5)\n",
    "# Print result of test\n",
    "print(\"size = int:\\n\", test, type(test), \"\\n\")\n",
    "\n",
    "# exponential() routine with scale=int size=array\n",
    "test = np.random.exponential(scale=1, size=[2, 3, 4])\n",
    "# Print result of test\n",
    "print(\"size = array:\\n\", test, type(test))"
   ]
  },
  {
   "cell_type": "markdown",
   "metadata": {},
   "source": [
    "<font color='blue'>[3] *Sample range test* </font>"
   ]
  },
  {
   "cell_type": "code",
   "execution_count": 45,
   "metadata": {},
   "outputs": [
    {
     "name": "stdout",
     "output_type": "stream",
     "text": [
      "scale:0.1 gives --> mean:0.10 & std:0.11\n",
      "scale:0.5 gives --> mean:0.49 & std:0.51\n",
      "scale:1.0 gives --> mean:1.05 & std:1.03\n",
      "scale:1.5 gives --> mean:1.57 & std:1.54\n",
      "scale:3.0 gives --> mean:2.87 & std:2.75\n"
     ]
    },
    {
     "data": {
      "text/plain": [
       "<matplotlib.axes._subplots.AxesSubplot at 0x2f96f9c97b8>"
      ]
     },
     "execution_count": 45,
     "metadata": {},
     "output_type": "execute_result"
    },
    {
     "data": {
      "image/png": "[encoded data removed]",
      "text/plain": [
       "<Figure size 720x360 with 1 Axes>"
      ]
     },
     "metadata": {},
     "output_type": "display_data"
    }
   ],
   "source": [
    "# Create a number of test 1-d arrarys with 1,000 values\n",
    "# Values adapted from https://en.wikipedia.org/wiki/Exponential_distribution\n",
    "test_A = np.random.exponential(scale=0.1, size=1000)\n",
    "test_B = np.random.exponential(scale=0.5, size=1000)\n",
    "test_C = np.random.exponential(scale=1.0, size=1000)\n",
    "test_D = np.random.exponential(scale=1.5, size=1000)\n",
    "test_E = np.random.exponential(scale=3.0, size=1000)\n",
    "\n",
    "# print mean & std values for various scale values\n",
    "# Mean & std values noted from https://en.wikipedia.org/wiki/Exponential_distribution\n",
    "print(\"scale:{0} gives --> mean:{1:.2f} & std:{2:.2f}\".format(\n",
    "            0.1, np.mean(test_A), np.std(test_A)))\n",
    "print(\"scale:{0} gives --> mean:{1:.2f} & std:{2:.2f}\".format(\n",
    "            0.5, np.mean(test_B), np.std(test_B)))\n",
    "print(\"scale:{0} gives --> mean:{1:.2f} & std:{2:.2f}\".format(\n",
    "            1.0, np.mean(test_C), np.std(test_C)))\n",
    "print(\"scale:{0} gives --> mean:{1:.2f} & std:{2:.2f}\".format(\n",
    "            1.5, np.mean(test_D), np.std(test_D)))\n",
    "print(\"scale:{0} gives --> mean:{1:.2f} & std:{2:.2f}\".format(\n",
    "            3.0, np.mean(test_E), np.std(test_E)))\n",
    "\n",
    "# Overlay plot distribution of values in 4 tests\n",
    "sns.kdeplot(test_B, label=\"scale=0.5\")\n",
    "sns.kdeplot(test_C, label=\"scale=1.0\")\n",
    "sns.kdeplot(test_D, label=\"scale=1.5\")\n",
    "sns.kdeplot(test_E, label=\"scale=3.0\")"
   ]
  },
  {
   "cell_type": "markdown",
   "metadata": {},
   "source": [
    "<font color='blue'>[4] *Argument errors* </font>"
   ]
  },
  {
   "cell_type": "code",
   "execution_count": 46,
   "metadata": {},
   "outputs": [],
   "source": [
    "# exponential() routine with negative scale\n",
    "#np.random.exponential(-1) # without comment generates ValueError, scale < 0\n",
    "\n",
    "# exponential() routine with scale = string\n",
    "#np.random.exponential(scale=\"s\") # without comment generates ValueError,\n",
    "                                  # Cannot convert string to float\n",
    "\n",
    "# exponential() routine with scale =unequal scale Multi-d_array\n",
    "#np.random.exponential(scale=[[2, 3], [3, 4, 5]])\n",
    "                                # without comment generates ValueError,\n",
    "\n",
    "# exponential() routine with size = float\n",
    "#np.random.exponential(scale=1, size=2.5) # without comment generates TypeError,\n",
    "                                          # float cannot be converted to integer\n",
    "    \n",
    "# exponential() routine with size = string\n",
    "#np.random.exponential(scale=1, size=\"si\") # without comment generates TypeError,\n",
    "                                           # str cannot be converted to integer\n",
    "\n",
    "# exponential() routine with scale, size = array\n",
    "#np.random.exponential(scale=[1, 2, 3], size=[2, 3, 4]) # without comment\n",
    "                                           # generates ValueError"
   ]
  },
  {
   "cell_type": "markdown",
   "metadata": {},
   "source": [
    "#### <font color='blue'>numpy.random.logistic()</font>\n",
    "logistic() routine from numpy.random(**1**) takes samples from the logistic distribution and can take a number of arguments (loc=0.0, scale=1.0, size=None). The distribution has two parameters(**8**) **$\\mu$** (location) and **scale** parameters that control the shape of the distribution using the following equation(**9**).\n",
    "\n",
    "$P(x) = \\frac{e^{-(x-\\mu)/s}}{s(1 + e^{-(x-\\mu)/s})^{2}}$, where $\\mu$ is location and $s$ is scale.\n",
    "\n",
    "When the routine is run with no or one number arguments, a positive or negative float is returned<font color='blue'>[1]</font>. The first argument can be labeled as **loc** ($\\mu$)<font color='blue'>[5]</font>. The numpy.random(**1**) website notes that the default value of loc is 0.0. 'loc' can be positive, negative, an integer, a float or can be an arrary_like object containing numbers<font color='blue'>[1]</font>. loc cannot be a string type<font color='blue'>[5]</font>. For array_like loc arguments, the routine returns an NumPy ndarray of the same size/shape as the original array that now contains floats. A multi-dimensional array loc argument must have array equal dimensional scale or ValueError is generated<font color='blue'>[5]</font>.\n",
    "\n",
    "Adding a second argument alters the returned float number/s<font color='blue'>[2]</font>. This variable can be labeled as **scale** ($s$)<font color='blue'>[5]</font>. The scale argument has to be a positive integer, float or an array_like object containing positive numbers<font color='blue'>[2]</font>. scale cannot be a string type<font color='blue'>[5]</font>. The numpy.random(**1**) website notes that the default value of scale is 1.0.\n",
    "If a scale value of zero is used, the routine returns the value of the loc argument<font color='blue'>[3]</font>.\n",
    "For an array_like object scale argument, the routine returns an NumPy ndarray of the same size/shape as the original array that now contains floats. A multi-dimensional array scale argument must have of equal dimensional scale<font color='blue'>[5]</font>. Similarly if both loc and scale are array_like objects, they have to be of the same shape/size.\n",
    "\n",
    "A third argument can be used to determine the shape/size of the ndarray generated and is labeled as **size**<font color='blue'>[3]</font>. Size can be an integer or an array_like object containing integers, but neither option can include floats or strings<font color='blue'>[5]</font>. If the size argument is used, 'loc' and 'scale' have to be integer/floats value and cannot be array-like or ValueError are generated<font color='blue'>[5]</font>.\n",
    "\n",
    "Varying the 'loc'($\\mu$) and 'scale'($s$) values alters the shape of the distributions of values<font color='blue'>[4]</font>. In general the distribution looks similar to the normal or bell curve. The $\\mu$ argument determines the location of the peak and mean value and the $s$ argument determines the its scale such as height and sharpness of the peak and the spread of the values away from the peak.\n",
    "\n",
    "The logistic distribution if often used for modeling growth, a type of regression known as logistic regression and for modeling life data(**8**).\n",
    "\n",
    "<font color='blue'>[1] *No or single loc argument* </font>"
   ]
  },
  {
   "cell_type": "code",
   "execution_count": 47,
   "metadata": {},
   "outputs": [
    {
     "name": "stdout",
     "output_type": "stream",
     "text": [
      "No arguments test:\n",
      " -1.48709263582154 <class 'float'> \n",
      "\n",
      "loc = zero:\n",
      " 1.436781229810214 <class 'float'> \n",
      "\n",
      "loc = integer(5):\n",
      " 2.683050563439988 <class 'float'> \n",
      "\n",
      "loc = negative integer(-10):\n",
      " -13.155840062639236 <class 'float'> \n",
      "\n",
      "loc = float(5.5):\n",
      " 4.163134106347854 <class 'float'> \n",
      "\n",
      "loc = array_like:\n",
      " [ 0.54881696 -1.40018678  6.6823945 ] <class 'numpy.ndarray'> \n",
      "\n",
      "loc = Multi-d array_like of equal_dimensional_scale:\n",
      " [[2.55577743 6.94265625 6.42858723]\n",
      " [1.36383966 8.44764642 8.99113512]\n",
      " [3.27947391 4.17919307 6.79182032]] <class 'numpy.ndarray'>\n"
     ]
    }
   ],
   "source": [
    "# logistic() routine with no argument\n",
    "test = np.random.logistic()\n",
    "# Print result of test\n",
    "print(\"No arguments test:\\n\", test, type(test), \"\\n\")\n",
    "\n",
    "# logistic() routine with single zero\n",
    "test = np.random.logistic(0)\n",
    "# Print result of test\n",
    "print(\"loc = zero:\\n\", test, type(test), \"\\n\")\n",
    "\n",
    "# logistic() routine with single int argument\n",
    "test = np.random.logistic(loc=5)\n",
    "# Print result of test\n",
    "print(\"loc = integer(5):\\n\", test, type(test), \"\\n\")\n",
    "\n",
    "# logistic() routine with negative loc\n",
    "test = np.random.logistic(loc=-10)\n",
    "# Print result of test\n",
    "print(\"loc = negative integer(-10):\\n\", test, type(test), \"\\n\")\n",
    "\n",
    "# logistic() routine with loc = float>0\n",
    "test = np.random.logistic(loc=5.5)\n",
    "# Print result of test\n",
    "print(\"loc = float(5.5):\\n\", test, type(test), \"\\n\")\n",
    "\n",
    "# logistic() routine with loc = array\n",
    "test = np.random.logistic(loc=[2, 4, 6])\n",
    "# Print result of test\n",
    "print(\"loc = array_like:\\n\", test, type(test), \"\\n\")\n",
    "\n",
    "# logistic() routine with loc = equal scale Multi-d_array\n",
    "test = np.random.logistic(loc=[[2, 4, 6], [4, 6, 9], [3, 4, 7]])\n",
    "# Print result of test\n",
    "print(\"loc = Multi-d array_like of equal_dimensional_scale:\\n\", test, type(test))"
   ]
  },
  {
   "cell_type": "markdown",
   "metadata": {},
   "source": [
    "<font color='blue'>[2] *Scale argument* </font>"
   ]
  },
  {
   "cell_type": "code",
   "execution_count": 48,
   "metadata": {},
   "outputs": [
    {
     "name": "stdout",
     "output_type": "stream",
     "text": [
      "loc = zero, scale = zero:\n",
      " 0.0 <class 'float'> \n",
      "\n",
      "loc = 2.0, scale = zero:\n",
      " 2.0 <class 'float'> \n",
      "\n",
      "scale = 1:\n",
      " 1.6105298303779634 <class 'float'> \n",
      "\n",
      "scale = 50:\n",
      " 91.1373195188334 <class 'float'> \n",
      "\n",
      "scale = float:\n",
      " 37.556066396713405 <class 'float'> \n",
      "\n",
      "scale = array_like:\n",
      " [ -0.81137841 -11.58185798  -0.43460611] <class 'numpy.ndarray'> \n",
      "\n",
      "loc, scale = array_like of same size:\n",
      " [-5.43220538 11.21100161 11.05986344] <class 'numpy.ndarray'>\n"
     ]
    }
   ],
   "source": [
    "# logistic() routine with scale = 0\n",
    "test = np.random.logistic(loc=0.0, scale=0)\n",
    "# Print result of test\n",
    "print(\"loc = zero, scale = zero:\\n\", test, type(test), \"\\n\")\n",
    "\n",
    "# logistic() routine with loc=2, scale=0\n",
    "test = np.random.logistic(loc=2.0, scale=0)\n",
    "# Print result of test\n",
    "print(\"loc = 2.0, scale = zero:\\n\", test, type(test), \"\\n\")\n",
    "\n",
    "# logistic() routine with scale = 1\n",
    "test = np.random.logistic(loc=0.0, scale=1)\n",
    "# Print result of test\n",
    "print(\"scale = 1:\\n\", test, type(test), \"\\n\")\n",
    "\n",
    "# logistic() routine with scale = 50\n",
    "test = np.random.logistic(loc=0.0, scale=50)\n",
    "# Print result of test\n",
    "print(\"scale = 50:\\n\", test, type(test), \"\\n\")\n",
    "\n",
    "# logistic() routine with scale = float>0\n",
    "test = np.random.logistic(loc=0.0, scale=10.5)\n",
    "# Print result of test\n",
    "print(\"scale = float:\\n\", test, type(test), \"\\n\")\n",
    "\n",
    "# logistic() routine with scale = array\n",
    "test = np.random.logistic(loc=0.0, scale=[2, 4, 6])\n",
    "# Print result of test\n",
    "print(\"scale = array_like:\\n\", test, type(test), \"\\n\")\n",
    "\n",
    "# logistic() routine with loc, scale = array of same size\n",
    "test = np.random.logistic(loc=[2, 4, 6], scale=[4, 5, 6])\n",
    "# Print result of test\n",
    "print(\"loc, scale = array_like of same size:\\n\", test, type(test))"
   ]
  },
  {
   "cell_type": "markdown",
   "metadata": {},
   "source": [
    "<font color='blue'>[3] *Size argument* </font>"
   ]
  },
  {
   "cell_type": "code",
   "execution_count": 49,
   "metadata": {},
   "outputs": [
    {
     "name": "stdout",
     "output_type": "stream",
     "text": [
      "size = int(5):\n",
      " [-2.17438017 -0.61511506 -2.27962909  4.90230501  0.30885998] <class 'numpy.ndarray'> \n",
      "\n",
      "size = array:\n",
      " [[[-1.06438432 -1.20653545  1.45085813 -2.28132103]\n",
      "  [-0.78306583 -1.31654227  0.25351923 -1.04821871]\n",
      "  [ 1.82433815 -1.20548644  2.51715967 -0.3074314 ]]\n",
      "\n",
      " [[-3.15166654 -0.79510583 -1.18434512 -2.82498963]\n",
      "  [ 1.82736897 -0.04292695 -1.41810126 -0.84368611]\n",
      "  [ 0.63349366 -0.08810289 -1.94058937 -1.21837996]]] <class 'numpy.ndarray'>\n"
     ]
    }
   ],
   "source": [
    "# logistic() routine with n/p=array size=int\n",
    "test = np.random.logistic(loc=0, scale=1.0, size=5)\n",
    "# Print result of test\n",
    "print(\"size = int(5):\\n\", test, type(test), \"\\n\")\n",
    "\n",
    "# logistic() routine with n/p=array size=array\n",
    "test = np.random.logistic(loc=0, scale=1.0, size=[2, 3, 4])\n",
    "# Print result of test\n",
    "print(\"size = array:\\n\", test, type(test))"
   ]
  },
  {
   "cell_type": "markdown",
   "metadata": {},
   "source": [
    "<font color='blue'>[4] *Sample range test* </font>"
   ]
  },
  {
   "cell_type": "code",
   "execution_count": 50,
   "metadata": {},
   "outputs": [
    {
     "name": "stdout",
     "output_type": "stream",
     "text": [
      "loc:2.0 & scale:0.5 gives --> mean:2.00 & std:0.93\n",
      "loc:2.0 & scale:1.0 gives --> mean:2.01 & std:1.76\n",
      "loc:6.0 & scale:1.0 gives --> mean:5.99 & std:1.86\n",
      "loc:6.0 & scale:3.0 gives --> mean:5.94 & std:5.33\n",
      "loc:9.0 & scale:1.0 gives --> mean:8.95 & std:1.75\n",
      "loc:9.0 & scale:3.0 gives --> mean:8.79 & std:5.52\n"
     ]
    },
    {
     "data": {
      "text/plain": [
       "<matplotlib.axes._subplots.AxesSubplot at 0x2f96f7bc9b0>"
      ]
     },
     "execution_count": 50,
     "metadata": {},
     "output_type": "execute_result"
    },
    {
     "data": {
      "image/png": "[encoded data removed]",
      "text/plain": [
       "<Figure size 720x360 with 1 Axes>"
      ]
     },
     "metadata": {},
     "output_type": "display_data"
    }
   ],
   "source": [
    "# Create a number of test 1-d arrarys with 1,000 values\n",
    "# Values adapted from https://en.wikipedia.org/wiki/Logistic_distribution\n",
    "test_A = np.random.logistic(loc=2.0, scale=0.5, size=1000)\n",
    "test_B = np.random.logistic(loc=2.0, scale=1.0, size=1000)\n",
    "test_C = np.random.logistic(loc=6.0, scale=1.0, size=1000)\n",
    "test_D = np.random.logistic(loc=6.0, scale=3.0, size=1000)\n",
    "test_E = np.random.logistic(loc=9.0, scale=1.0, size=1000)\n",
    "test_F = np.random.logistic(loc=9.0, scale=3.0, size=1000)\n",
    "\n",
    "# print mean & std values for various scale values\n",
    "# Mean & std values noted from https://www.sciencedirect.com/topics/mathematics/logistic-distribution\n",
    "print(\"loc:{} & scale:{} gives --> mean:{:.2f} & std:{:.2f}\".format(\n",
    "            2.0, 0.5, np.mean(test_A), np.std(test_A)))\n",
    "print(\"loc:{} & scale:{} gives --> mean:{:.2f} & std:{:.2f}\".format(\n",
    "            2.0, 1.0, np.mean(test_B), np.std(test_B)))\n",
    "print(\"loc:{} & scale:{} gives --> mean:{:.2f} & std:{:.2f}\".format(\n",
    "            6.0, 1.0, np.mean(test_C), np.std(test_C)))\n",
    "print(\"loc:{} & scale:{} gives --> mean:{:.2f} & std:{:.2f}\".format(\n",
    "            6.0, 3.0, np.mean(test_D), np.std(test_D)))\n",
    "print(\"loc:{} & scale:{} gives --> mean:{:.2f} & std:{:.2f}\".format(\n",
    "            9.0, 1.0, np.mean(test_E), np.std(test_E)))\n",
    "print(\"loc:{} & scale:{} gives --> mean:{:.2f} & std:{:.2f}\".format(\n",
    "            9.0, 3.0, np.mean(test_F), np.std(test_F)))\n",
    "\n",
    "# Overlay plot distribution of values in 6 tests\n",
    "sns.kdeplot(test_A, label=\"$\\mu$=2.0, $s$=0.5\")\n",
    "sns.kdeplot(test_B, label=\"$\\mu$=2.0, $s$=1.0\")\n",
    "sns.kdeplot(test_C, label=\"$\\mu$=6.0, $s$=1.0\")\n",
    "sns.kdeplot(test_D, label=\"$\\mu$=6.0, $s$=3.0\")\n",
    "sns.kdeplot(test_E, label=\"$\\mu$=9.0, $s$=1.0\")\n",
    "sns.kdeplot(test_F, label=\"$\\mu$=9.0, $s$=3.0\")"
   ]
  },
  {
   "cell_type": "markdown",
   "metadata": {},
   "source": [
    "<font color='blue'>[5] *Argument errors* </font>"
   ]
  },
  {
   "cell_type": "code",
   "execution_count": 51,
   "metadata": {},
   "outputs": [],
   "source": [
    "# logistic() routine with loc = string\n",
    "#np.random.logistic(\"l\") # without comment generates ValueError,\n",
    "                        # Cannot convert string to float\n",
    "\n",
    "# logistic() routine with loc =unequal scale Multi-d_array\n",
    "#np.random.logistic(loc=[[2, 3], [3, 4, 5]]) \n",
    "            # without comment generates ValueError,\n",
    "    \n",
    "# logistic() routine with scale = negative\n",
    "#np.random.logistic(1.0, -1) # without comment generates ValueError, scale < 0\n",
    "    \n",
    "# logistic() routine with scale = string\n",
    "#np.random.logistic(loc=1.0, scale=\"s\") # without comment \n",
    "            # generates ValueError, Cannot convert string to float\n",
    "    \n",
    "# logistic() routine with scale =unequal scale Multi-d_array\n",
    "#np.random.logistic(loc=0.0, scale=[[2, 3], [3, 4, 5]])\n",
    "            # without comment generates ValueError\n",
    "\n",
    "# logistic() routine with loc, scale = array of different sizes\n",
    "#np.random.logistic(loc=[2, 4, 6], scale=[4, 6]) \n",
    "            # without comment generates ValueError\n",
    "\n",
    "# logistic() routine with size = float\n",
    "#np.random.logistic(loc=0.0, scale=1.0, size=5.5) \n",
    "            # without comment generates TypeError\n",
    "\n",
    "# logistic() routine with size = array with floats\n",
    "#np.random.logistic(loc=0.0, scale=1.0, size=[1, 5.5]) \n",
    "            # without comment generates TypeError\n",
    "\n",
    "# logistic() routine with size = string\n",
    "#np.random.logistic(loc=0.0, scale=1.0, size=\"si\") \n",
    "            # without comment generates TypeError\n",
    "\n",
    "# logistic() routine with loc = array, size used\n",
    "#np.random.logistic(loc=[2, 4, 6], scale=1.0, size=5) \n",
    "            # without comment generates ValueError\n",
    "\n",
    "# logistic() routine with scale = array, size used\n",
    "#np.random.logistic(loc=0.0, scale=[4, 5, 6], size=5) \n",
    "            # without comment generates ValueError\n",
    "\n",
    "# logistic() routine with loc, scale = array, size used\n",
    "#np.random.logistic(loc=[2, 4, 6], scale=[4, 5, 6], size=[4, 5, 6]) \n",
    "            # without comment generates ValueError"
   ]
  },
  {
   "cell_type": "markdown",
   "metadata": {},
   "source": [
    "#### <font color='blue'>numpy.random.poisson()</font>\n",
    "poisson() routine from numpy.random(**1**) takes samples from the poisson distribution and can take a number of arguments (lam=1.0, size=None). The distribution has one parameter(**8**) **$\\lambda$** that control the shape of the distribution using the following equation(**9**).\n",
    "\n",
    "$f(k;\\lambda) = \\frac{\\lambda^{k}e{-\\lambda}}{k!}$, where $k$ probability of events occurring and $\\lambda$ is the expected distribution.\n",
    "\n",
    "When the routine is run with no or one positive number arguments, a positive integer is returned<font color='blue'>[1]</font>. The number generated depends on the value of the argument, which can be labeled as **lam** ($\\lambda$)<font color='blue'>[4]</font>. The numpy.random(**1**) website notes that the default value of 'lam' is 1.0. A zero 'lam' value returns a zero value integer.\n",
    "An array_like object for the 'lam' argument returns an NumPy ndarray of the same size/shape as the original object that now contains floats. For a multi-dimensional array scale argument, the array must be of equal dimensional scale<font color='blue'>[4]</font>.\n",
    "\n",
    "A second argument can be used to determine the shape/size of the ndarray generated and is labeled as **size**<font color='blue'>[2]</font>. Size can be an integer or an array_like object containing integers, but neither option can include floats or strings<font color='blue'>[4]</font>. If the size argument is used, 'lam' has to be an integer/float number and cannot be array-like<font color='blue'>[4]</font>.\n",
    "\n",
    "Varying the 'lam' ($\\lambda$) value alters the shape of the distributions of values<font color='blue'>[3]</font>. The value of $\\lambda$ creates a peak of the distribution with the $\\lambda$ value as the mean of the distribution. Either side of the peak, the distribution tapers down to zero <font color='blue'>[3]</font>.  As the sample size is increased or the $\\lambda$ gets closer to zero, oscillations in the peak become apparent.\n",
    "\n",
    "This distribution is useful if you need to model a distribution where you know the mean value of an independent event occurring and you want to know what the probability of a specific number of the same event occurring(**8**).\n",
    "\n",
    "<font color='blue'>[1] *No or single argument* </font>"
   ]
  },
  {
   "cell_type": "code",
   "execution_count": 52,
   "metadata": {},
   "outputs": [
    {
     "name": "stdout",
     "output_type": "stream",
     "text": [
      "No arguments test:\n",
      " 3 <class 'int'> \n",
      "\n",
      "One argument test integer:\n",
      " 2 <class 'int'> \n",
      "\n",
      "lam = zero:\n",
      " 0 <class 'int'> \n",
      "\n",
      "lam = 50:\n",
      " 46 <class 'int'> \n",
      "\n",
      "lam = float:\n",
      " 1 <class 'int'> \n",
      "\n",
      "lam = array_like:\n",
      " [2 1 7] <class 'numpy.ndarray'> \n",
      "\n",
      "lam = Multi-d array_like of equal_dimensional_scale:\n",
      " [[ 2  9  6]\n",
      " [ 5  5  7]\n",
      " [ 3  6 11]] <class 'numpy.ndarray'>\n"
     ]
    }
   ],
   "source": [
    "# poisson() routine with no argument\n",
    "test = np.random.poisson()\n",
    "# Print result of test\n",
    "print(\"No arguments test:\\n\", test, type(test), \"\\n\")\n",
    "\n",
    "# poisson() routine with single int argument\n",
    "test = np.random.poisson(1)\n",
    "# Print result of test\n",
    "print(\"One argument test integer:\\n\", test, type(test), \"\\n\")\n",
    "\n",
    "# poisson() routine with lam = 0\n",
    "test = np.random.poisson(lam=0)\n",
    "# Print result of test\n",
    "print(\"lam = zero:\\n\", test, type(test), \"\\n\")\n",
    "\n",
    "# poisson() routine with lam = 1\n",
    "#test = np.random.poisson(lam=1)\n",
    "# Print result of test\n",
    "#print(\"lam = 1:\\n\", test, type(test), \"\\n\")\n",
    "\n",
    "# poisson() routine with lam = 50\n",
    "test = np.random.poisson(lam=50)\n",
    "# Print result of test\n",
    "print(\"lam = 50:\\n\", test, type(test), \"\\n\")\n",
    "\n",
    "# poisson() routine with lam = float>0\n",
    "test = np.random.poisson(lam=1.5)\n",
    "# Print result of test\n",
    "print(\"lam = float:\\n\", test, type(test), \"\\n\")\n",
    "\n",
    "# poisson() routine with lam = array\n",
    "test = np.random.poisson(lam=[2, 4, 6])\n",
    "# Print result of test\n",
    "print(\"lam = array_like:\\n\", test, type(test), \"\\n\")\n",
    "\n",
    "# poisson() routine with lam = equal scale Multi-d_array\n",
    "test = np.random.poisson(lam=[[2, 4, 6], [4, 6, 9], [3, 4, 7]])\n",
    "# Print result of test\n",
    "print(\"lam = Multi-d array_like of equal_dimensional_scale:\\n\",\n",
    "      test, type(test))"
   ]
  },
  {
   "cell_type": "markdown",
   "metadata": {},
   "source": [
    "<font color='blue'>[2] *Size argument* </font>"
   ]
  },
  {
   "cell_type": "code",
   "execution_count": 53,
   "metadata": {},
   "outputs": [
    {
     "name": "stdout",
     "output_type": "stream",
     "text": [
      "'size' = int:\n",
      " [1 0 0 0 0] <class 'numpy.ndarray'> \n",
      "\n",
      "'size' = array:\n",
      " [[[3 3 1 2]\n",
      "  [2 0 0 1]\n",
      "  [1 1 1 0]]\n",
      "\n",
      " [[0 0 1 2]\n",
      "  [0 2 0 1]\n",
      "  [2 1 0 2]]] <class 'numpy.ndarray'>\n"
     ]
    }
   ],
   "source": [
    "# poisson() routine with lam=int size=int\n",
    "test = np.random.poisson(lam=1, size=5)\n",
    "# Print result of test\n",
    "print(\"'size' = int:\\n\", test, type(test), \"\\n\")\n",
    "\n",
    "# poisson() routine with lam=int size=array\n",
    "test = np.random.poisson(lam=1, size=[2, 3, 4])\n",
    "# Print result of test\n",
    "print(\"'size' = array:\\n\", test, type(test))"
   ]
  },
  {
   "cell_type": "markdown",
   "metadata": {},
   "source": [
    "<font color='blue'>[3] *Sample range test* </font>"
   ]
  },
  {
   "cell_type": "code",
   "execution_count": 54,
   "metadata": {},
   "outputs": [
    {
     "name": "stdout",
     "output_type": "stream",
     "text": [
      "lam of 0.5 gives mean of 0.47:\n",
      "lam of 1.0 gives mean of 1.04:\n",
      "lam of 3.0 gives mean of 3.01:\n",
      "lam of 5.0 gives mean of 4.91:\n",
      "lam of 9.0 gives mean of 8.99:\n"
     ]
    },
    {
     "data": {
      "text/plain": [
       "<matplotlib.axes._subplots.AxesSubplot at 0x2f96f72d1d0>"
      ]
     },
     "execution_count": 54,
     "metadata": {},
     "output_type": "execute_result"
    },
    {
     "data": {
      "image/png": "[encoded data removed]",
      "text/plain": [
       "<Figure size 720x360 with 1 Axes>"
      ]
     },
     "metadata": {},
     "output_type": "display_data"
    }
   ],
   "source": [
    "# Create a number of test 1-d arrarys with 1,000/10,000 values\n",
    "# Values adapted from https://en.wikipedia.org/wiki/Poisson_distribution\n",
    "test_A = np.random.poisson(lam=0.5, size=1000)\n",
    "test_B = np.random.poisson(lam=1.0, size=1000)\n",
    "test_C = np.random.poisson(lam=3.0, size=1000)\n",
    "test_D = np.random.poisson(lam=5.0, size=1000)\n",
    "test_E = np.random.poisson(lam=9.0, size=100000)\n",
    "\n",
    "# print mean values\n",
    "# Mean value noted from https://en.wikipedia.org/wiki/Poisson_distribution\n",
    "print(\"lam of {} gives mean of {:.2f}:\".format(\n",
    "                0.5, np.mean(test_A)))\n",
    "print(\"lam of {} gives mean of {:.2f}:\".format(\n",
    "                1.0, np.mean(test_B)))\n",
    "print(\"lam of {} gives mean of {:.2f}:\".format(\n",
    "                3.0, np.mean(test_C)))\n",
    "print(\"lam of {} gives mean of {:.2f}:\".format(\n",
    "                5.0, np.mean(test_D)))\n",
    "print(\"lam of {} gives mean of {:.2f}:\".format(\n",
    "                9.0, np.mean(test_E)))\n",
    "\n",
    "# Overlay plot distribution of values in 5 tests\n",
    "sns.kdeplot(test_A, label=\"$\\lambda$=0.5\")\n",
    "sns.kdeplot(test_B, label=\"$\\lambda$=1.0\")\n",
    "sns.kdeplot(test_C, label=\"$\\lambda$=3.0\")\n",
    "sns.kdeplot(test_D, label=\"$\\lambda$=5.0\")\n",
    "sns.kdeplot(test_E, label=\"$\\lambda$=9.0\")"
   ]
  },
  {
   "cell_type": "markdown",
   "metadata": {},
   "source": [
    "<font color='blue'>[4] *Argument errors* </font>"
   ]
  },
  {
   "cell_type": "code",
   "execution_count": 55,
   "metadata": {},
   "outputs": [],
   "source": [
    "# poisson() routine with negative lam\n",
    "#np.random.poisson(-1) # without comment generates ValueError, lam < 0\n",
    "\n",
    "# poisson() routine with lam = string\n",
    "#np.random.poisson(lam=\"s\") # without comment generates ValueError,\n",
    "                            # Cannot convert string to float\n",
    "\n",
    "# poisson() routine with lam = unequal scale Multi-d_array\n",
    "#np.random.poisson(lam=[[2, 3], [3, 4, 5]])\n",
    "        # without comment generates ValueError,\n",
    "\n",
    "# poisson() routine with size = float\n",
    "#np.random.poisson(lam=1, size=2.5) # without comment\n",
    "        # generates TypeError, float cannot be converted to integer\n",
    "    \n",
    "# poisson() routine with size = string\n",
    "#np.random.poisson(lam=1, size=\"si\") # without comment\n",
    "        # generates TypeError, str cannot be converted to integer\n",
    "\n",
    "# exponential() routine with lam, size = array\n",
    "#np.random.poisson(lam=[1, 2, 3], size=[2, 3, 4])\n",
    "        # without comment generates ValueError,"
   ]
  },
  {
   "cell_type": "markdown",
   "metadata": {},
   "source": [
    "### <font color='blue'>Research References</font>\n",
    "\n",
    "**(1)** *NumPy.Random*\n",
    "- https://docs.scipy.org/doc/numpy-1.16.0/reference/routines.random.html\n",
    "- https://numpy.org/doc/1.17/reference/random/index.html\n",
    "- https://www.sharpsightlabs.com/blog/numpy-random-seed/\n",
    "\n",
    "**(2)** *Python Programming Language*\n",
    "- https://www.python.org/\n",
    "\n",
    "**(3)** *NumPy*\n",
    "- https://docs.scipy.org/doc/numpy-1.16.0/\n",
    "- https://www.quora.com/What-is-NumPy\n",
    "- https://docs.scipy.org/doc/numpy-1.16.0/user/whatisnumpy.html\n",
    "- https://numpy.org/devdocs/reference/arrays.ndarray.html\n",
    "- https://cloudxlab.com/blog/numpy-pandas-introduction/\n",
    "\n",
    "**(4)** *Random Numbers*\n",
    "- https://analyticstraining.com/random-numbers-applications/\n",
    "- https://engineering.mit.edu/engage/ask-an-engineer/can-a-computer-generate-a-truly-random-number/\n",
    "- https://en.wikipedia.org/wiki/Random_seed\n",
    "- https://www.random.org/randomness/\n",
    "- https://www.eg.bucknell.edu/~xmeng/Course/CS6337/Note/master/node37.html\n",
    "- https://en.wikipedia.org/wiki/Independence_(probability_theory)\n",
    "- https://www.ques10.com/p/3213/explain-the-properties-of-random-numbers/\n",
    "- https://machinelearningmastery.com/how-to-generate-random-numbers-in-python/\n",
    "\n",
    "**(5)** *Computer Simulation*\n",
    "- https://en.wikipedia.org/wiki/Computer_simulation\n",
    "- https://www.britannica.com/technology/computer-simulation\n",
    "\n",
    "**(6)** *Monte Carlo Methods*\n",
    "- https://towardsdatascience.com/an-overview-of-monte-carlo-methods-675384eb1694\n",
    "\n",
    "**(7)** *Marked Down Formatting and Image Sources*\n",
    "- https://stackoverflow.com/questions/46439874/display-image-jupyter-notebook-aligned-centre\n",
    "- https://stackoverflow.com/questions/19746350/how-does-one-change-color-in-markdown-cells-ipython-jupyter-notebook\n",
    "- https://i0.wp.com/www.simplifiedpython.net/wp-content/uploads/2018/11/Python-NumPy-14.png?w=672&ssl=1\n",
    "\n",
    "**(8)** *Distributions*\n",
    "- https://www.statisticshowto.datasciencecentral.com/uniform-distribution/\n",
    "- https://www.statisticshowto.datasciencecentral.com/probability-and-statistics/normal-distributions/\n",
    "- https://en.wikipedia.org/wiki/Beta_distribution\n",
    "- https://study.com/academy/lesson/beta-distribution-definition-equations-examples.html\n",
    "- http://varianceexplained.org/statistics/beta_distribution_and_baseball/\n",
    "- https://www.statisticshowto.datasciencecentral.com/beta-distribution/\n",
    "- https://en.wikipedia.org/wiki/Binomial_distribution\n",
    "- https://www.quora.com/What-are-some-uses-of-binomial-distribution\n",
    "- http://onlinestatbook.com/2/probability/binomial.html\n",
    "- https://en.wikipedia.org/wiki/Exponential_distribution\n",
    "- https://www.probabilitycourse.com/chapter4/4_2_2_exponential.php\n",
    "- https://en.wikipedia.org/wiki/Logistic_distribution\n",
    "- https://www.statisticshowto.datasciencecentral.com/logistic-distribution/\n",
    "- https://www.sciencedirect.com/topics/mathematics/logistic-distribution\n",
    "- https://www.weibull.com/hotwire/issue56/relbasics56.htm\n",
    "- https://en.wikipedia.org/wiki/Poisson_distribution\n",
    "- https://www.statisticshowto.datasciencecentral.com/poisson-distribution/\n",
    "\n",
    "**(9)** *LaTex equations*\n",
    "- https://jupyter-notebook.readthedocs.io/en/stable/examples/Notebook/Working%20With%20Markdown%20Cells.html\n",
    "- https://link.springer.com/content/pdf/bbm%3A978-1-4842-3913-1%2F1.pdf"
   ]
  }
 ],
 "metadata": {
  "kernelspec": {
   "display_name": "Python 3",
   "language": "python",
   "name": "python3"
  },
  "language_info": {
   "codemirror_mode": {
    "name": "ipython",
    "version": 3
   },
   "file_extension": ".py",
   "mimetype": "text/x-python",
   "name": "python",
   "nbconvert_exporter": "python",
   "pygments_lexer": "ipython3",
   "version": "3.7.3"
  }
 },
 "nbformat": 4,
 "nbformat_minor": 2
}
